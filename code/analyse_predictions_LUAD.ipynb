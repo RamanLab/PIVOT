{
 "cells": [
  {
   "cell_type": "markdown",
   "id": "27c1dbe8",
   "metadata": {},
   "source": [
    "# Analyse predictions by cTaG2\n",
    "This notebook is used to analyse predictions made by cTaG2 for LUAD data."
   ]
  },
  {
   "cell_type": "code",
   "execution_count": 1,
   "id": "1a84fee4",
   "metadata": {},
   "outputs": [
    {
     "name": "stderr",
     "output_type": "stream",
     "text": [
      "In /home/malvika/anaconda3/lib/python3.7/site-packages/matplotlib/mpl-data/stylelib/_classic_test.mplstyle: \n",
      "The text.latex.preview rcparam was deprecated in Matplotlib 3.3 and will be removed two minor releases later.\n",
      "In /home/malvika/anaconda3/lib/python3.7/site-packages/matplotlib/mpl-data/stylelib/_classic_test.mplstyle: \n",
      "The mathtext.fallback_to_cm rcparam was deprecated in Matplotlib 3.3 and will be removed two minor releases later.\n",
      "In /home/malvika/anaconda3/lib/python3.7/site-packages/matplotlib/mpl-data/stylelib/_classic_test.mplstyle: Support for setting the 'mathtext.fallback_to_cm' rcParam is deprecated since 3.3 and will be removed two minor releases later; use 'mathtext.fallback : 'cm' instead.\n",
      "In /home/malvika/anaconda3/lib/python3.7/site-packages/matplotlib/mpl-data/stylelib/_classic_test.mplstyle: \n",
      "The validate_bool_maybe_none function was deprecated in Matplotlib 3.3 and will be removed two minor releases later.\n",
      "In /home/malvika/anaconda3/lib/python3.7/site-packages/matplotlib/mpl-data/stylelib/_classic_test.mplstyle: \n",
      "The savefig.jpeg_quality rcparam was deprecated in Matplotlib 3.3 and will be removed two minor releases later.\n",
      "In /home/malvika/anaconda3/lib/python3.7/site-packages/matplotlib/mpl-data/stylelib/_classic_test.mplstyle: \n",
      "The keymap.all_axes rcparam was deprecated in Matplotlib 3.3 and will be removed two minor releases later.\n",
      "In /home/malvika/anaconda3/lib/python3.7/site-packages/matplotlib/mpl-data/stylelib/_classic_test.mplstyle: \n",
      "The animation.avconv_path rcparam was deprecated in Matplotlib 3.3 and will be removed two minor releases later.\n",
      "In /home/malvika/anaconda3/lib/python3.7/site-packages/matplotlib/mpl-data/stylelib/_classic_test.mplstyle: \n",
      "The animation.avconv_args rcparam was deprecated in Matplotlib 3.3 and will be removed two minor releases later.\n",
      "/home/malvika/anaconda3/lib/python3.7/site-packages/statsmodels/tools/_testing.py:19: FutureWarning: pandas.util.testing is deprecated. Use the functions in the public API at pandas.testing instead.\n",
      "  import pandas.util.testing as tm\n"
     ]
    }
   ],
   "source": [
    "import os\n",
    "import pandas as pd\n",
    "import matplotlib.pyplot as plt\n",
    "import seaborn as sns"
   ]
  },
  {
   "cell_type": "markdown",
   "id": "580ff8ae",
   "metadata": {},
   "source": [
    "## Load the prediction file\n",
    "Variables to be updated for loading the prediction file.\n",
    "Either the absolute path is given to *filepath* or set *PATH* and the relative path is set based on cancer type, label method, number of features and model. \n",
    "\n",
    "Default file name is \"cTaG2_predictions.tsv\". For other filenames, update *fname*."
   ]
  },
  {
   "cell_type": "code",
   "execution_count": 2,
   "id": "a55c6f8d",
   "metadata": {},
   "outputs": [],
   "source": [
    "PATH = \"/data/malvika/cTaG2.0\"\n",
    "ctype = \"LUAD\"\n",
    "lab_type = \"bailey\"\n",
    "feat_num = \"some\"\n",
    "model = \"BalBag\"\n",
    "folderpath = \"/output/GDC_{}/predict/multiomic\".format(ctype)\n",
    "\n",
    "filepath = PATH + folderpath + \"/{}_{}_{}\".format(lab_type, feat_num, model)\n",
    "## Uncomment line below to set absolute path\n",
    "# filepath = \"\\path\\to\\prediction\\file\""
   ]
  },
  {
   "cell_type": "code",
   "execution_count": 3,
   "id": "47c09c64",
   "metadata": {},
   "outputs": [],
   "source": [
    "os.chdir(filepath)\n",
    "fname = \"cTaG2_predictions.tsv\"\n",
    "data = pd.read_csv(fname, sep=\"\\t\", header=0, index_col=0)"
   ]
  },
  {
   "cell_type": "code",
   "execution_count": 4,
   "id": "6b6b8040",
   "metadata": {
    "scrolled": true
   },
   "outputs": [
    {
     "data": {
      "text/html": [
       "<div>\n",
       "<style scoped>\n",
       "    .dataframe tbody tr th:only-of-type {\n",
       "        vertical-align: middle;\n",
       "    }\n",
       "\n",
       "    .dataframe tbody tr th {\n",
       "        vertical-align: top;\n",
       "    }\n",
       "\n",
       "    .dataframe thead th {\n",
       "        text-align: right;\n",
       "    }\n",
       "</style>\n",
       "<table border=\"1\" class=\"dataframe\">\n",
       "  <thead>\n",
       "    <tr style=\"text-align: right;\">\n",
       "      <th></th>\n",
       "      <th>Hugo_Symbol</th>\n",
       "      <th>Tumor_Sample_Barcode</th>\n",
       "      <th>Variant_Classification</th>\n",
       "      <th>CNV</th>\n",
       "      <th>logFC</th>\n",
       "      <th>Degree</th>\n",
       "      <th>Closeness_centrality</th>\n",
       "      <th>Betweeness_centrality</th>\n",
       "      <th>Label</th>\n",
       "      <th>Predicted label</th>\n",
       "      <th>Probability_Neutral</th>\n",
       "      <th>Probability_Oncogene</th>\n",
       "      <th>Probability_Tumor suppressor</th>\n",
       "    </tr>\n",
       "  </thead>\n",
       "  <tbody>\n",
       "    <tr>\n",
       "      <th>TCGA-97-7938-01A;ARID1A</th>\n",
       "      <td>ARID1A</td>\n",
       "      <td>TCGA-97-7938-01A</td>\n",
       "      <td>Missense_Mutation</td>\n",
       "      <td>0.0</td>\n",
       "      <td>-0.110365</td>\n",
       "      <td>72.0</td>\n",
       "      <td>0.288596</td>\n",
       "      <td>0.000292</td>\n",
       "      <td>Tumor suppressor</td>\n",
       "      <td>Tumor suppressor</td>\n",
       "      <td>0.0</td>\n",
       "      <td>0.0</td>\n",
       "      <td>1.0</td>\n",
       "    </tr>\n",
       "    <tr>\n",
       "      <th>TCGA-97-7938-01A;AGT</th>\n",
       "      <td>AGT</td>\n",
       "      <td>TCGA-97-7938-01A</td>\n",
       "      <td>Silent</td>\n",
       "      <td>0.0</td>\n",
       "      <td>2.604023</td>\n",
       "      <td>97.0</td>\n",
       "      <td>0.307123</td>\n",
       "      <td>0.004441</td>\n",
       "      <td>Unlabelled</td>\n",
       "      <td>Tumor suppressor</td>\n",
       "      <td>0.0</td>\n",
       "      <td>0.2</td>\n",
       "      <td>0.8</td>\n",
       "    </tr>\n",
       "    <tr>\n",
       "      <th>TCGA-97-7938-01A;ALDH7A1</th>\n",
       "      <td>ALDH7A1</td>\n",
       "      <td>TCGA-97-7938-01A</td>\n",
       "      <td>Missense_Mutation</td>\n",
       "      <td>0.0</td>\n",
       "      <td>0.118042</td>\n",
       "      <td>43.0</td>\n",
       "      <td>0.247697</td>\n",
       "      <td>0.001882</td>\n",
       "      <td>Unlabelled</td>\n",
       "      <td>Tumor suppressor</td>\n",
       "      <td>0.3</td>\n",
       "      <td>0.0</td>\n",
       "      <td>0.7</td>\n",
       "    </tr>\n",
       "    <tr>\n",
       "      <th>TCGA-97-7938-01A;CDK5</th>\n",
       "      <td>CDK5</td>\n",
       "      <td>TCGA-97-7938-01A</td>\n",
       "      <td>Nonsense_Mutation</td>\n",
       "      <td>0.0</td>\n",
       "      <td>0.410694</td>\n",
       "      <td>53.0</td>\n",
       "      <td>0.299955</td>\n",
       "      <td>0.000950</td>\n",
       "      <td>Unlabelled</td>\n",
       "      <td>Tumor suppressor</td>\n",
       "      <td>0.3</td>\n",
       "      <td>0.0</td>\n",
       "      <td>0.7</td>\n",
       "    </tr>\n",
       "    <tr>\n",
       "      <th>TCGA-97-7938-01A;KRAS</th>\n",
       "      <td>KRAS</td>\n",
       "      <td>TCGA-97-7938-01A</td>\n",
       "      <td>Missense_Mutation</td>\n",
       "      <td>0.0</td>\n",
       "      <td>-0.040450</td>\n",
       "      <td>249.0</td>\n",
       "      <td>0.330652</td>\n",
       "      <td>0.003689</td>\n",
       "      <td>Oncogene</td>\n",
       "      <td>Oncogene</td>\n",
       "      <td>0.0</td>\n",
       "      <td>1.0</td>\n",
       "      <td>0.0</td>\n",
       "    </tr>\n",
       "  </tbody>\n",
       "</table>\n",
       "</div>"
      ],
      "text/plain": [
       "                         Hugo_Symbol Tumor_Sample_Barcode  \\\n",
       "TCGA-97-7938-01A;ARID1A       ARID1A     TCGA-97-7938-01A   \n",
       "TCGA-97-7938-01A;AGT             AGT     TCGA-97-7938-01A   \n",
       "TCGA-97-7938-01A;ALDH7A1     ALDH7A1     TCGA-97-7938-01A   \n",
       "TCGA-97-7938-01A;CDK5           CDK5     TCGA-97-7938-01A   \n",
       "TCGA-97-7938-01A;KRAS           KRAS     TCGA-97-7938-01A   \n",
       "\n",
       "                         Variant_Classification  CNV     logFC  Degree  \\\n",
       "TCGA-97-7938-01A;ARID1A       Missense_Mutation  0.0 -0.110365    72.0   \n",
       "TCGA-97-7938-01A;AGT                     Silent  0.0  2.604023    97.0   \n",
       "TCGA-97-7938-01A;ALDH7A1      Missense_Mutation  0.0  0.118042    43.0   \n",
       "TCGA-97-7938-01A;CDK5         Nonsense_Mutation  0.0  0.410694    53.0   \n",
       "TCGA-97-7938-01A;KRAS         Missense_Mutation  0.0 -0.040450   249.0   \n",
       "\n",
       "                          Closeness_centrality  Betweeness_centrality  \\\n",
       "TCGA-97-7938-01A;ARID1A               0.288596               0.000292   \n",
       "TCGA-97-7938-01A;AGT                  0.307123               0.004441   \n",
       "TCGA-97-7938-01A;ALDH7A1              0.247697               0.001882   \n",
       "TCGA-97-7938-01A;CDK5                 0.299955               0.000950   \n",
       "TCGA-97-7938-01A;KRAS                 0.330652               0.003689   \n",
       "\n",
       "                                     Label   Predicted label  \\\n",
       "TCGA-97-7938-01A;ARID1A   Tumor suppressor  Tumor suppressor   \n",
       "TCGA-97-7938-01A;AGT            Unlabelled  Tumor suppressor   \n",
       "TCGA-97-7938-01A;ALDH7A1        Unlabelled  Tumor suppressor   \n",
       "TCGA-97-7938-01A;CDK5           Unlabelled  Tumor suppressor   \n",
       "TCGA-97-7938-01A;KRAS             Oncogene          Oncogene   \n",
       "\n",
       "                          Probability_Neutral  Probability_Oncogene  \\\n",
       "TCGA-97-7938-01A;ARID1A                   0.0                   0.0   \n",
       "TCGA-97-7938-01A;AGT                      0.0                   0.2   \n",
       "TCGA-97-7938-01A;ALDH7A1                  0.3                   0.0   \n",
       "TCGA-97-7938-01A;CDK5                     0.3                   0.0   \n",
       "TCGA-97-7938-01A;KRAS                     0.0                   1.0   \n",
       "\n",
       "                          Probability_Tumor suppressor  \n",
       "TCGA-97-7938-01A;ARID1A                            1.0  \n",
       "TCGA-97-7938-01A;AGT                               0.8  \n",
       "TCGA-97-7938-01A;ALDH7A1                           0.7  \n",
       "TCGA-97-7938-01A;CDK5                              0.7  \n",
       "TCGA-97-7938-01A;KRAS                              0.0  "
      ]
     },
     "execution_count": 4,
     "metadata": {},
     "output_type": "execute_result"
    }
   ],
   "source": [
    "data.head(5)"
   ]
  },
  {
   "cell_type": "code",
   "execution_count": 5,
   "id": "60caf372",
   "metadata": {},
   "outputs": [
    {
     "name": "stdout",
     "output_type": "stream",
     "text": [
      "Number of total samples = 501\n"
     ]
    }
   ],
   "source": [
    "print(\"Number of total samples = {}\".format(len(data[\"Tumor_Sample_Barcode\"].unique())))"
   ]
  },
  {
   "cell_type": "code",
   "execution_count": 6,
   "id": "62ae8cc2",
   "metadata": {},
   "outputs": [
    {
     "name": "stdout",
     "output_type": "stream",
     "text": [
      "Total number of unique genes = 1155\n"
     ]
    }
   ],
   "source": [
    "print(\"Total number of unique genes = {}\".format(len(data[\"Hugo_Symbol\"].unique())))"
   ]
  },
  {
   "cell_type": "code",
   "execution_count": 7,
   "id": "dccaeec8",
   "metadata": {},
   "outputs": [
    {
     "name": "stdout",
     "output_type": "stream",
     "text": [
      "Total number of unique TSG = 1030\n"
     ]
    }
   ],
   "source": [
    "print(\"Total number of unique TSG = {}\".format(list(data[[\"Hugo_Symbol\", \"Predicted label\"]].drop_duplicates()[\"Predicted label\"]).count(\"Tumor suppressor\")))"
   ]
  },
  {
   "cell_type": "code",
   "execution_count": 8,
   "id": "933b1f21",
   "metadata": {},
   "outputs": [
    {
     "name": "stdout",
     "output_type": "stream",
     "text": [
      "Total number of unique OG = 195\n"
     ]
    }
   ],
   "source": [
    "print(\"Total number of unique OG = {}\".format(list(data[[\"Hugo_Symbol\", \"Predicted label\"]].drop_duplicates()[\"Predicted label\"]).count(\"Oncogene\")))"
   ]
  },
  {
   "cell_type": "code",
   "execution_count": 9,
   "id": "de5903bd",
   "metadata": {},
   "outputs": [
    {
     "data": {
      "text/plain": [
       "70"
      ]
     },
     "execution_count": 9,
     "metadata": {},
     "output_type": "execute_result"
    }
   ],
   "source": [
    "data_unigenes = data[[\"Hugo_Symbol\", \"Predicted label\"]].drop_duplicates()\n",
    "multi_genes = [gene for gene in data_unigenes[\"Hugo_Symbol\"].unique() if data_unigenes[data_unigenes[\"Hugo_Symbol\"]==gene].shape[0]>1] \n",
    "len(multi_genes)"
   ]
  },
  {
   "cell_type": "markdown",
   "id": "07d50a91",
   "metadata": {},
   "source": [
    "## Summary statistics for sample\n",
    "Calculates the total number of genes predicted for each sample along with other counts.\n",
    "\n",
    "Counts the number of genes with mutation, and CNV alterations.\n",
    "Counts number of TSGs and OGs predicted for the sample."
   ]
  },
  {
   "cell_type": "code",
   "execution_count": 10,
   "id": "8d50fae1",
   "metadata": {},
   "outputs": [],
   "source": [
    "data_samp = pd.DataFrame()\n",
    "data_samp[\"Tumor_Sample_Barcode\"] = data[\"Tumor_Sample_Barcode\"].unique()\n",
    "data_samp[\"Num_genes\"] = [data[data[\"Tumor_Sample_Barcode\"] == samp].shape[0] for samp in data_samp[\"Tumor_Sample_Barcode\"]]\n",
    "data_samp[\"Num_mut\"] = [data[(data[\"Tumor_Sample_Barcode\"] == samp) & ~(data[\"Variant_Classification\"].isna())].shape[0] for samp in data_samp[\"Tumor_Sample_Barcode\"]]\n",
    "data_samp[\"Num_cnv\"] = [data[(data[\"Tumor_Sample_Barcode\"] == samp) & ~(data[\"CNV\"] == 0)].shape[0] for samp in data_samp[\"Tumor_Sample_Barcode\"]]\n",
    "data_samp[\"Num_TSG\"] = [data[(data[\"Tumor_Sample_Barcode\"] == samp) & (data[\"Predicted label\"] == \"Tumor suppressor\")].shape[0] for samp in data_samp[\"Tumor_Sample_Barcode\"]]\n",
    "data_samp[\"Num_OG\"] = [data[(data[\"Tumor_Sample_Barcode\"] == samp) & (data[\"Predicted label\"] == \"Oncogene\")].shape[0] for samp in data_samp[\"Tumor_Sample_Barcode\"]]\n"
   ]
  },
  {
   "cell_type": "code",
   "execution_count": 11,
   "id": "c4e1eddf",
   "metadata": {},
   "outputs": [
    {
     "data": {
      "text/html": [
       "<div>\n",
       "<style scoped>\n",
       "    .dataframe tbody tr th:only-of-type {\n",
       "        vertical-align: middle;\n",
       "    }\n",
       "\n",
       "    .dataframe tbody tr th {\n",
       "        vertical-align: top;\n",
       "    }\n",
       "\n",
       "    .dataframe thead th {\n",
       "        text-align: right;\n",
       "    }\n",
       "</style>\n",
       "<table border=\"1\" class=\"dataframe\">\n",
       "  <thead>\n",
       "    <tr style=\"text-align: right;\">\n",
       "      <th></th>\n",
       "      <th>Tumor_Sample_Barcode</th>\n",
       "      <th>Num_genes</th>\n",
       "      <th>Num_mut</th>\n",
       "      <th>Num_cnv</th>\n",
       "      <th>Num_TSG</th>\n",
       "      <th>Num_OG</th>\n",
       "    </tr>\n",
       "  </thead>\n",
       "  <tbody>\n",
       "    <tr>\n",
       "      <th>0</th>\n",
       "      <td>TCGA-97-7938-01A</td>\n",
       "      <td>20</td>\n",
       "      <td>10</td>\n",
       "      <td>10</td>\n",
       "      <td>18</td>\n",
       "      <td>2</td>\n",
       "    </tr>\n",
       "    <tr>\n",
       "      <th>1</th>\n",
       "      <td>TCGA-MP-A4TJ-01A</td>\n",
       "      <td>14</td>\n",
       "      <td>5</td>\n",
       "      <td>9</td>\n",
       "      <td>14</td>\n",
       "      <td>0</td>\n",
       "    </tr>\n",
       "    <tr>\n",
       "      <th>2</th>\n",
       "      <td>TCGA-97-7546-01A</td>\n",
       "      <td>28</td>\n",
       "      <td>14</td>\n",
       "      <td>14</td>\n",
       "      <td>28</td>\n",
       "      <td>0</td>\n",
       "    </tr>\n",
       "    <tr>\n",
       "      <th>3</th>\n",
       "      <td>TCGA-44-7670-01A</td>\n",
       "      <td>132</td>\n",
       "      <td>34</td>\n",
       "      <td>102</td>\n",
       "      <td>122</td>\n",
       "      <td>10</td>\n",
       "    </tr>\n",
       "    <tr>\n",
       "      <th>4</th>\n",
       "      <td>TCGA-62-A46Y-01A</td>\n",
       "      <td>14</td>\n",
       "      <td>4</td>\n",
       "      <td>10</td>\n",
       "      <td>13</td>\n",
       "      <td>1</td>\n",
       "    </tr>\n",
       "  </tbody>\n",
       "</table>\n",
       "</div>"
      ],
      "text/plain": [
       "  Tumor_Sample_Barcode  Num_genes  Num_mut  Num_cnv  Num_TSG  Num_OG\n",
       "0     TCGA-97-7938-01A         20       10       10       18       2\n",
       "1     TCGA-MP-A4TJ-01A         14        5        9       14       0\n",
       "2     TCGA-97-7546-01A         28       14       14       28       0\n",
       "3     TCGA-44-7670-01A        132       34      102      122      10\n",
       "4     TCGA-62-A46Y-01A         14        4       10       13       1"
      ]
     },
     "execution_count": 11,
     "metadata": {},
     "output_type": "execute_result"
    }
   ],
   "source": [
    "data_samp.head()"
   ]
  },
  {
   "cell_type": "markdown",
   "id": "06209325",
   "metadata": {},
   "source": [
    "### Distribution of number of genes predicted\n",
    "The distribution of number of genes identified for each sample."
   ]
  },
  {
   "cell_type": "code",
   "execution_count": 31,
   "id": "b722f067",
   "metadata": {},
   "outputs": [
    {
     "data": {
      "image/png": "[encoded data removed]",
      "text/plain": [
       "<Figure size 432x288 with 1 Axes>"
      ]
     },
     "metadata": {
      "needs_background": "light"
     },
     "output_type": "display_data"
    }
   ],
   "source": [
    "ax = sns.distplot(data_samp[\"Num_genes\"])\n",
    "# plt.ylim(-0.05, 1)\n",
    "ax.set_xlabel(\"Number of genes predicted\",fontsize=15)\n",
    "ax.set_ylabel(\"Density of samples\",fontsize=15)\n",
    "ax.tick_params(labelsize=14)\n",
    "plt.title(ctype, fontsize=16)\n",
    "plt.tight_layout()\n",
    "\n",
    "# os.chdir(filepath)\n",
    "# fname = \"{}_geneXsamp.png\".format(ctype)\n",
    "# plt.savefig(fname, dpi=300)\n",
    "# plt.close()"
   ]
  },
  {
   "cell_type": "markdown",
   "id": "3efbb6b6",
   "metadata": {},
   "source": [
    "### Distribution of number of mutated genes predicted\n",
    "The distribution of number of genes identified for each sample that were mutated."
   ]
  },
  {
   "cell_type": "code",
   "execution_count": 32,
   "id": "848f293f",
   "metadata": {},
   "outputs": [
    {
     "data": {
      "image/png": "[encoded data removed]",
      "text/plain": [
       "<Figure size 432x288 with 1 Axes>"
      ]
     },
     "metadata": {
      "needs_background": "light"
     },
     "output_type": "display_data"
    }
   ],
   "source": [
    "ax = sns.distplot(data_samp[\"Num_mut\"])\n",
    "ax.set_xlabel(\"Number of mutated genes\",fontsize=15)\n",
    "ax.set_ylabel(\"Density of samples\",fontsize=15)\n",
    "ax.tick_params(labelsize=14)\n",
    "plt.title(ctype, fontsize=16)\n",
    "plt.tight_layout()\n",
    "\n",
    "# os.chdir(filepath)\n",
    "# fname = \"{}_mutXsamp.png\".format(ctype)\n",
    "# plt.savefig(fname, dpi=300)\n",
    "# plt.close()"
   ]
  },
  {
   "cell_type": "markdown",
   "id": "2243e7d2",
   "metadata": {},
   "source": [
    "### Distribution of number of genes predicted with CNVs\n",
    "The distribution of number of genes identified for each sample that showed CNVs."
   ]
  },
  {
   "cell_type": "code",
   "execution_count": 33,
   "id": "372e9604",
   "metadata": {},
   "outputs": [
    {
     "data": {
      "image/png": "[encoded data removed]",
      "text/plain": [
       "<Figure size 432x288 with 1 Axes>"
      ]
     },
     "metadata": {
      "needs_background": "light"
     },
     "output_type": "display_data"
    }
   ],
   "source": [
    "ax = sns.distplot(data_samp[\"Num_cnv\"])\n",
    "ax.set_xlabel(\"Number of CNV\",fontsize=15)\n",
    "ax.set_ylabel(\"Density of samples\",fontsize=15)\n",
    "ax.tick_params(labelsize=14)\n",
    "plt.title(ctype, fontsize=16)\n",
    "plt.tight_layout()\n",
    "\n",
    "# os.chdir(filepath)\n",
    "# fname = \"{}_cnvXsamp.png\".format(ctype)\n",
    "# plt.savefig(fname, dpi=300)\n",
    "# plt.close()"
   ]
  },
  {
   "cell_type": "markdown",
   "id": "132550ca",
   "metadata": {},
   "source": [
    "### Distribution of number of TSGs predicted\n",
    "The distribution of number of genes labelled as TSG for each sample."
   ]
  },
  {
   "cell_type": "code",
   "execution_count": 34,
   "id": "abc6d151",
   "metadata": {},
   "outputs": [
    {
     "data": {
      "image/png": "[encoded data removed]",
      "text/plain": [
       "<Figure size 432x288 with 1 Axes>"
      ]
     },
     "metadata": {
      "needs_background": "light"
     },
     "output_type": "display_data"
    }
   ],
   "source": [
    "ax = sns.distplot(data_samp[\"Num_TSG\"])\n",
    "ax.set_xlabel(\"Number of TSGs\",fontsize=15)\n",
    "ax.set_ylabel(\"Density of samples\",fontsize=15)\n",
    "ax.tick_params(labelsize=14)\n",
    "plt.title(ctype, fontsize=16)\n",
    "plt.tight_layout()\n",
    "\n",
    "# os.chdir(filepath)\n",
    "# fname = \"{}_tsgXsamp.png\".format(ctype)\n",
    "# plt.savefig(fname, dpi=300)\n",
    "# plt.close()"
   ]
  },
  {
   "cell_type": "markdown",
   "id": "712f7982",
   "metadata": {},
   "source": [
    "### Distribution of number of OGs predicted\n",
    "The distribution of number of genes labelled as OG for each sample."
   ]
  },
  {
   "cell_type": "code",
   "execution_count": 35,
   "id": "1ad8aee8",
   "metadata": {},
   "outputs": [
    {
     "data": {
      "image/png": "[encoded data removed]",
      "text/plain": [
       "<Figure size 432x288 with 1 Axes>"
      ]
     },
     "metadata": {
      "needs_background": "light"
     },
     "output_type": "display_data"
    }
   ],
   "source": [
    "ax = sns.distplot(data_samp[\"Num_OG\"])\n",
    "ax.set_xlabel(\"Number of OGs\",fontsize=15)\n",
    "ax.set_ylabel(\"Density of samples\",fontsize=15)\n",
    "ax.tick_params(labelsize=14)\n",
    "plt.title(ctype, fontsize=16)\n",
    "plt.tight_layout()\n",
    "\n",
    "# os.chdir(filepath)\n",
    "# fname = \"{}_ogXsamp.png\".format(ctype)\n",
    "# plt.savefig(fname, dpi=300)\n",
    "# plt.close()"
   ]
  },
  {
   "cell_type": "markdown",
   "id": "d197c1d7",
   "metadata": {},
   "source": [
    "### Distribution of degree of genes predicted\n",
    "The distribution of degree of genes identified for each sample."
   ]
  },
  {
   "cell_type": "code",
   "execution_count": 36,
   "id": "ff37dace",
   "metadata": {},
   "outputs": [
    {
     "data": {
      "image/png": "[encoded data removed]",
      "text/plain": [
       "<Figure size 432x288 with 1 Axes>"
      ]
     },
     "metadata": {
      "needs_background": "light"
     },
     "output_type": "display_data"
    }
   ],
   "source": [
    "ax = sns.distplot(data[\"Degree\"])\n",
    "ax.set_xlabel(\"Degree of a gene\",fontsize=15)\n",
    "ax.set_ylabel(\"Density of samples\",fontsize=15)\n",
    "ax.tick_params(labelsize=14)\n",
    "plt.title(ctype, fontsize=16)\n",
    "plt.tight_layout()\n",
    "\n",
    "# os.chdir(filepath)\n",
    "# fname = \"{}_degreeXsamp.png\".format(ctype)\n",
    "# plt.savefig(fname, dpi=300)\n",
    "# plt.close()"
   ]
  },
  {
   "cell_type": "markdown",
   "id": "377d2414",
   "metadata": {},
   "source": [
    "## Gene based statistics\n"
   ]
  },
  {
   "cell_type": "code",
   "execution_count": 18,
   "id": "627572ea",
   "metadata": {},
   "outputs": [],
   "source": [
    "data_genes = pd.DataFrame(data.groupby([\"Hugo_Symbol\"])[\"Tumor_Sample_Barcode\"].count())\n",
    "data_genes[\"Degree\"] = data.groupby([\"Hugo_Symbol\"])[\"Degree\"].mean()"
   ]
  },
  {
   "cell_type": "markdown",
   "id": "c0641e65",
   "metadata": {},
   "source": [
    "### Consensus with CGC\n",
    "Load CGC data and check for consensus"
   ]
  },
  {
   "cell_type": "code",
   "execution_count": 19,
   "id": "75209667",
   "metadata": {},
   "outputs": [],
   "source": [
    "os.chdir(PATH + \"/data/driver genes/CGC\")\n",
    "fname = \"cancer_gene_census_9nov2021.csv\"\n",
    "data_cgc = pd.read_csv(fname, sep=\",\", header=0, index_col=0)\n",
    "data_genes.loc[:, \"CGC\"] = [True if gene in list(data_cgc.index) else False for gene in list(data_genes.index)]"
   ]
  },
  {
   "cell_type": "code",
   "execution_count": 20,
   "id": "8c89e54a",
   "metadata": {},
   "outputs": [
    {
     "name": "stdout",
     "output_type": "stream",
     "text": [
      "Total number of genes showing consensus with CGC = 188\n"
     ]
    }
   ],
   "source": [
    "print(\"Total number of genes showing consensus with CGC = {}\".format(data_genes[\"CGC\"].sum()))"
   ]
  },
  {
   "cell_type": "markdown",
   "id": "24c5fc97",
   "metadata": {},
   "source": [
    "### Distribution of number of samples a gene is predicted as driver\n",
    "The distribution of number of samples a gene is identified as driver."
   ]
  },
  {
   "cell_type": "code",
   "execution_count": 37,
   "id": "62d42b76",
   "metadata": {},
   "outputs": [
    {
     "data": {
      "text/plain": [
       "<matplotlib.legend.Legend at 0x7fdfcac29810>"
      ]
     },
     "execution_count": 37,
     "metadata": {},
     "output_type": "execute_result"
    },
    {
     "data": {
      "image/png": "[encoded data removed]",
      "text/plain": [
       "<Figure size 432x288 with 1 Axes>"
      ]
     },
     "metadata": {
      "needs_background": "light"
     },
     "output_type": "display_data"
    }
   ],
   "source": [
    "ax = sns.distplot(data_genes[\"Tumor_Sample_Barcode\"], label=\"All genes\")\n",
    "sns.distplot(data_genes[data_genes.CGC ==True][\"Tumor_Sample_Barcode\"], label=\"CGC genes\")\n",
    "sns.distplot(data_genes[data_genes.CGC ==False][\"Tumor_Sample_Barcode\"], label=\"novel genes\")\n",
    "ax.set_xlabel(\"Number of samples\",fontsize=15)\n",
    "ax.set_ylabel(\"Density of genes altered\",fontsize=15)\n",
    "ax.tick_params(labelsize=14)\n",
    "plt.title(ctype, fontsize=16)\n",
    "plt.tight_layout()\n",
    "plt.legend()\n",
    "\n",
    "# os.chdir(filepath)\n",
    "# fname = \"{}_sampXgenes.png\".format(ctype)\n",
    "# plt.savefig(fname, dpi=300)\n",
    "# plt.close()"
   ]
  },
  {
   "cell_type": "markdown",
   "id": "e51dac17",
   "metadata": {},
   "source": [
    "### Top 10 genes frequently predicted\n",
    "The list of genes and the number of samples they are predicted as TSG or OG."
   ]
  },
  {
   "cell_type": "code",
   "execution_count": 22,
   "id": "b817aa01",
   "metadata": {},
   "outputs": [
    {
     "data": {
      "text/html": [
       "<div>\n",
       "<style scoped>\n",
       "    .dataframe tbody tr th:only-of-type {\n",
       "        vertical-align: middle;\n",
       "    }\n",
       "\n",
       "    .dataframe tbody tr th {\n",
       "        vertical-align: top;\n",
       "    }\n",
       "\n",
       "    .dataframe thead th {\n",
       "        text-align: right;\n",
       "    }\n",
       "</style>\n",
       "<table border=\"1\" class=\"dataframe\">\n",
       "  <thead>\n",
       "    <tr style=\"text-align: right;\">\n",
       "      <th></th>\n",
       "      <th>Tumor_Sample_Barcode</th>\n",
       "      <th>Degree</th>\n",
       "      <th>CGC</th>\n",
       "    </tr>\n",
       "    <tr>\n",
       "      <th>Hugo_Symbol</th>\n",
       "      <th></th>\n",
       "      <th></th>\n",
       "      <th></th>\n",
       "    </tr>\n",
       "  </thead>\n",
       "  <tbody>\n",
       "    <tr>\n",
       "      <th>TP53</th>\n",
       "      <td>268</td>\n",
       "      <td>337.0</td>\n",
       "      <td>True</td>\n",
       "    </tr>\n",
       "    <tr>\n",
       "      <th>KRAS</th>\n",
       "      <td>186</td>\n",
       "      <td>249.0</td>\n",
       "      <td>True</td>\n",
       "    </tr>\n",
       "    <tr>\n",
       "      <th>STK11</th>\n",
       "      <td>135</td>\n",
       "      <td>34.0</td>\n",
       "      <td>True</td>\n",
       "    </tr>\n",
       "    <tr>\n",
       "      <th>CDKN2A</th>\n",
       "      <td>133</td>\n",
       "      <td>59.0</td>\n",
       "      <td>True</td>\n",
       "    </tr>\n",
       "    <tr>\n",
       "      <th>EGFR</th>\n",
       "      <td>112</td>\n",
       "      <td>197.0</td>\n",
       "      <td>True</td>\n",
       "    </tr>\n",
       "    <tr>\n",
       "      <th>KEAP1</th>\n",
       "      <td>111</td>\n",
       "      <td>47.0</td>\n",
       "      <td>True</td>\n",
       "    </tr>\n",
       "    <tr>\n",
       "      <th>NF1</th>\n",
       "      <td>105</td>\n",
       "      <td>78.0</td>\n",
       "      <td>True</td>\n",
       "    </tr>\n",
       "    <tr>\n",
       "      <th>PSMD4</th>\n",
       "      <td>105</td>\n",
       "      <td>109.0</td>\n",
       "      <td>False</td>\n",
       "    </tr>\n",
       "    <tr>\n",
       "      <th>NFKBIA</th>\n",
       "      <td>103</td>\n",
       "      <td>136.0</td>\n",
       "      <td>False</td>\n",
       "    </tr>\n",
       "    <tr>\n",
       "      <th>MYC</th>\n",
       "      <td>99</td>\n",
       "      <td>140.0</td>\n",
       "      <td>True</td>\n",
       "    </tr>\n",
       "  </tbody>\n",
       "</table>\n",
       "</div>"
      ],
      "text/plain": [
       "             Tumor_Sample_Barcode  Degree    CGC\n",
       "Hugo_Symbol                                     \n",
       "TP53                          268   337.0   True\n",
       "KRAS                          186   249.0   True\n",
       "STK11                         135    34.0   True\n",
       "CDKN2A                        133    59.0   True\n",
       "EGFR                          112   197.0   True\n",
       "KEAP1                         111    47.0   True\n",
       "NF1                           105    78.0   True\n",
       "PSMD4                         105   109.0  False\n",
       "NFKBIA                        103   136.0  False\n",
       "MYC                            99   140.0   True"
      ]
     },
     "execution_count": 22,
     "metadata": {},
     "output_type": "execute_result"
    }
   ],
   "source": [
    "data_genes.sort_values(by=[\"Tumor_Sample_Barcode\"], ascending=False)[:10]"
   ]
  },
  {
   "cell_type": "markdown",
   "id": "293ad2fb",
   "metadata": {},
   "source": [
    "### Top 10 genes rarely predicted as driver\n",
    "The list of genes and the number of samples they are predicted as TSG or OG. Random 10 genes are listed below. More genes mutated in one sample may be"
   ]
  },
  {
   "cell_type": "code",
   "execution_count": 23,
   "id": "061f15f2",
   "metadata": {},
   "outputs": [
    {
     "data": {
      "text/html": [
       "<div>\n",
       "<style scoped>\n",
       "    .dataframe tbody tr th:only-of-type {\n",
       "        vertical-align: middle;\n",
       "    }\n",
       "\n",
       "    .dataframe tbody tr th {\n",
       "        vertical-align: top;\n",
       "    }\n",
       "\n",
       "    .dataframe thead th {\n",
       "        text-align: right;\n",
       "    }\n",
       "</style>\n",
       "<table border=\"1\" class=\"dataframe\">\n",
       "  <thead>\n",
       "    <tr style=\"text-align: right;\">\n",
       "      <th></th>\n",
       "      <th>Tumor_Sample_Barcode</th>\n",
       "      <th>Degree</th>\n",
       "      <th>CGC</th>\n",
       "    </tr>\n",
       "    <tr>\n",
       "      <th>Hugo_Symbol</th>\n",
       "      <th></th>\n",
       "      <th></th>\n",
       "      <th></th>\n",
       "    </tr>\n",
       "  </thead>\n",
       "  <tbody>\n",
       "    <tr>\n",
       "      <th>TK1</th>\n",
       "      <td>1</td>\n",
       "      <td>21.0</td>\n",
       "      <td>False</td>\n",
       "    </tr>\n",
       "    <tr>\n",
       "      <th>FZD5</th>\n",
       "      <td>1</td>\n",
       "      <td>39.0</td>\n",
       "      <td>False</td>\n",
       "    </tr>\n",
       "    <tr>\n",
       "      <th>FOS</th>\n",
       "      <td>1</td>\n",
       "      <td>138.0</td>\n",
       "      <td>False</td>\n",
       "    </tr>\n",
       "    <tr>\n",
       "      <th>FKBP1A</th>\n",
       "      <td>1</td>\n",
       "      <td>81.0</td>\n",
       "      <td>False</td>\n",
       "    </tr>\n",
       "    <tr>\n",
       "      <th>FGA</th>\n",
       "      <td>1</td>\n",
       "      <td>26.0</td>\n",
       "      <td>False</td>\n",
       "    </tr>\n",
       "    <tr>\n",
       "      <th>FCGR1A</th>\n",
       "      <td>1</td>\n",
       "      <td>33.0</td>\n",
       "      <td>False</td>\n",
       "    </tr>\n",
       "    <tr>\n",
       "      <th>FCER2</th>\n",
       "      <td>1</td>\n",
       "      <td>23.0</td>\n",
       "      <td>False</td>\n",
       "    </tr>\n",
       "    <tr>\n",
       "      <th>VAV3</th>\n",
       "      <td>1</td>\n",
       "      <td>41.0</td>\n",
       "      <td>False</td>\n",
       "    </tr>\n",
       "    <tr>\n",
       "      <th>SELP</th>\n",
       "      <td>1</td>\n",
       "      <td>7.0</td>\n",
       "      <td>False</td>\n",
       "    </tr>\n",
       "    <tr>\n",
       "      <th>FASLG</th>\n",
       "      <td>1</td>\n",
       "      <td>44.0</td>\n",
       "      <td>False</td>\n",
       "    </tr>\n",
       "  </tbody>\n",
       "</table>\n",
       "</div>"
      ],
      "text/plain": [
       "             Tumor_Sample_Barcode  Degree    CGC\n",
       "Hugo_Symbol                                     \n",
       "TK1                             1    21.0  False\n",
       "FZD5                            1    39.0  False\n",
       "FOS                             1   138.0  False\n",
       "FKBP1A                          1    81.0  False\n",
       "FGA                             1    26.0  False\n",
       "FCGR1A                          1    33.0  False\n",
       "FCER2                           1    23.0  False\n",
       "VAV3                            1    41.0  False\n",
       "SELP                            1     7.0  False\n",
       "FASLG                           1    44.0  False"
      ]
     },
     "execution_count": 23,
     "metadata": {},
     "output_type": "execute_result"
    }
   ],
   "source": [
    "data_genes.sort_values(by=[\"Tumor_Sample_Barcode\"], ascending=True)[:10]"
   ]
  },
  {
   "cell_type": "code",
   "execution_count": null,
   "id": "eb933847",
   "metadata": {},
   "outputs": [],
   "source": []
  }
 ],
 "metadata": {
  "kernelspec": {
   "display_name": "Python 3 (ipykernel)",
   "language": "python",
   "name": "python3"
  },
  "language_info": {
   "codemirror_mode": {
    "name": "ipython",
    "version": 3
   },
   "file_extension": ".py",
   "mimetype": "text/x-python",
   "name": "python",
   "nbconvert_exporter": "python",
   "pygments_lexer": "ipython3",
   "version": "3.7.11"
  }
 },
 "nbformat": 4,
 "nbformat_minor": 5
}
