{
 "cells": [
  {
   "cell_type": "markdown",
   "metadata": {},
   "source": [
    "# Pre-process the data used for labelling TCGA data\n",
    "The TCGA data is labelled using 4 different databases:\n",
    "1. [CIViC](https://civicdb.org/home)\n",
    "2. [Martelotto *et al.*](https://genomebiology.biomedcentral.com/articles/10.1186/s13059-014-0484-1)\n",
    "3. [CGC](https://cancer.sanger.ac.uk/census)\n",
    "4. [Bailey *et al.*](https://doi.org/10.1016/j.cell.2018.02.060)\n",
    "\n",
    "The first two methods of labelling uses variant position and nucleotide change to label mutations.\n",
    "The other two methods label genes."
   ]
  },
  {
   "cell_type": "code",
   "execution_count": 1,
   "metadata": {},
   "outputs": [],
   "source": [
    "# Import required packages\n",
    "import os\n",
    "import pandas as pd\n",
    "import matplotlib.pyplot as plt\n",
    "import seaborn as sns\n",
    "import glob\n",
    "import re\n",
    "import random\n",
    "import numpy as np"
   ]
  },
  {
   "cell_type": "markdown",
   "metadata": {},
   "source": [
    "Set the path to save output files (PATH) and folder with data files (DATAPATH)"
   ]
  },
  {
   "cell_type": "code",
   "execution_count": 4,
   "metadata": {},
   "outputs": [],
   "source": [
    "PATH = \"D:/Projects/IdentificationOfTSG-OG/cTaG_2\"\n",
    "DATAPATH = \"D:/Projects/IdentificationOfTSG-OG/cTaG_2/data\"\n",
    "# PATH = \"D:/Projects/cTaG2.0\"\n",
    "# DATAPATH = \"D:/Projects/cTaG2.0/data\"\n",
    "# PATH = \"/data/malvika/cTaG2.0\"\n",
    "# DATAPATH = \"/data/malvika/cTaG2.0/data\""
   ]
  },
  {
   "cell_type": "markdown",
   "metadata": {},
   "source": [
    "## CIViC data"
   ]
  },
  {
   "cell_type": "code",
   "execution_count": 6,
   "metadata": {},
   "outputs": [],
   "source": [
    "os.chdir(DATAPATH + \"/driver genes/CIViC/\")\n",
    "fname = \"civic_filtered.txt\"\n",
    "data_civic = pd.read_csv(fname, sep=\"\\t\", header=0)"
   ]
  },
  {
   "cell_type": "markdown",
   "metadata": {},
   "source": [
    "Create column with mutation location"
   ]
  },
  {
   "cell_type": "code",
   "execution_count": 7,
   "metadata": {},
   "outputs": [],
   "source": [
    "data_civic[\"Mut_loc\"] = [\"chr{}:{:.0f}-{:.0f}|{}|{}\".format(chrm, start, end, wt, mt) for chrm, start, end, wt, mt in zip(data_civic.Chr, data_civic.Start38, data_civic.End38, data_civic.reference_bases, data_civic.variant_bases)]"
   ]
  },
  {
   "cell_type": "markdown",
   "metadata": {},
   "source": [
    "Save file"
   ]
  },
  {
   "cell_type": "code",
   "execution_count": 8,
   "metadata": {},
   "outputs": [],
   "source": [
    "os.chdir(DATAPATH + \"/driver genes/CIViC/\")\n",
    "fname = \"civic_filtered.txt\"\n",
    "data_civic.to_csv(fname, sep=\"\\t\", header=True, index=False)"
   ]
  },
  {
   "cell_type": "markdown",
   "metadata": {},
   "source": [
    "## Martelotto et al dataset"
   ]
  },
  {
   "cell_type": "code",
   "execution_count": 9,
   "metadata": {},
   "outputs": [],
   "source": [
    "os.chdir(DATAPATH + \"/driver genes/Martelotto et al/\")\n",
    "fname = \"martelotto_filter.txt\"\n",
    "data_martelotto = pd.read_csv(fname, sep=\"\\t\", header=0)"
   ]
  },
  {
   "cell_type": "markdown",
   "metadata": {},
   "source": [
    "Change mutation location from hg19 to GRCh38 using LiftOver\n",
    "Generate LO input file"
   ]
  },
  {
   "cell_type": "code",
   "execution_count": 10,
   "metadata": {},
   "outputs": [
    {
     "name": "stderr",
     "output_type": "stream",
     "text": [
      "C:\\ProgramData\\Anaconda3\\lib\\site-packages\\ipykernel_launcher.py:4: FutureWarning: The signature of `Series.to_csv` was aligned to that of `DataFrame.to_csv`, and argument 'header' will change its default value from False to True: please pass an explicit value to suppress this warning.\n",
      "  after removing the cwd from sys.path.\n"
     ]
    }
   ],
   "source": [
    "mar_lo_ip = [\"chr{}:{:.0f}-{:.0f}\".format(chrm, start, int(start)+int(end)-1) for chrm, start, end in zip(data_martelotto.Chromosome, data_martelotto.Position, data_martelotto['Number of nucleotide changes'])]\n",
    "os.chdir(DATAPATH + \"/driver genes/Martelotto et al/\")\n",
    "fname = \"mar_loip.txt\"\n",
    "pd.Series(mar_lo_ip).to_csv(fname, index=False)"
   ]
  },
  {
   "cell_type": "markdown",
   "metadata": {},
   "source": [
    "Load LO output"
   ]
  },
  {
   "cell_type": "code",
   "execution_count": 11,
   "metadata": {},
   "outputs": [],
   "source": [
    "os.chdir(DATAPATH + \"/driver genes/Martelotto et al/\")\n",
    "fname=\"hglft_genome_23b38_542bd0.bed\"\n",
    "mar_loc = pd.read_csv(fname, header=None)\n"
   ]
  },
  {
   "cell_type": "markdown",
   "metadata": {},
   "source": [
    "Create column with mutation location"
   ]
  },
  {
   "cell_type": "code",
   "execution_count": 12,
   "metadata": {},
   "outputs": [],
   "source": [
    "temp = [re.search(\"^chr(.+):(\\d+)-(\\d+)$\", x).group(1) for x in mar_loc[0]]\n",
    "data_martelotto[\"Chromosome_38\"] = temp\n",
    "temp = [re.search(\"^chr(.+):(\\d+)-(\\d+)$\", x).group(2) for x in mar_loc[0]]\n",
    "data_martelotto[\"Start_38\"] = temp\n",
    "temp = [re.search(\"^chr(.+):(\\d+)-(\\d+)$\", x).group(3) for x in mar_loc[0]]\n",
    "data_martelotto[\"End_38\"] = temp\n",
    "data_martelotto[\"Mut_loc\"] = [\"chr{}:{}-{}|{}|{}\".format(chrm, start, end, wt, mt) for chrm, start, end, wt, mt in zip(data_martelotto.Chromosome_38, data_martelotto.Start_38, data_martelotto.End_38, data_martelotto['Reference allele'], data_martelotto['Alternate allele'])]"
   ]
  },
  {
   "cell_type": "markdown",
   "metadata": {},
   "source": [
    "Save file"
   ]
  },
  {
   "cell_type": "code",
   "execution_count": 13,
   "metadata": {},
   "outputs": [],
   "source": [
    "os.chdir(DATAPATH + \"/driver genes/Martelotto et al/\")\n",
    "fname = \"martelotto_final.txt\"\n",
    "data_martelotto.to_csv(fname, index=False, sep=\"\\t\", header=True)"
   ]
  },
  {
   "cell_type": "markdown",
   "metadata": {},
   "source": [
    "## CMC"
   ]
  },
  {
   "cell_type": "code",
   "execution_count": null,
   "metadata": {},
   "outputs": [],
   "source": [
    "#fname = \"D:/Projects/IdentificationOfTSG-OG/cTaG_2/data/driver genes/COSMIC/cmc_export.tsv\"\n",
    "#data_cmc = pd.read_csv(fname, sep=\"\\t\", header=0, low_memory=False)\n"
   ]
  }
 ],
 "metadata": {
  "kernelspec": {
   "display_name": "Python 3",
   "language": "python",
   "name": "python3"
  },
  "language_info": {
   "codemirror_mode": {
    "name": "ipython",
    "version": 3
   },
   "file_extension": ".py",
   "mimetype": "text/x-python",
   "name": "python",
   "nbconvert_exporter": "python",
   "pygments_lexer": "ipython3",
   "version": "3.7.4"
  }
 },
 "nbformat": 4,
 "nbformat_minor": 2
}
