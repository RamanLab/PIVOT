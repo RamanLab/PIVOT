{
 "cells": [
  {
   "cell_type": "markdown",
   "id": "27c1dbe8",
   "metadata": {},
   "source": [
    "# Analyse predictions by cTaG2\n",
    "This notebook is used to analyse predictions made by cTaG2 for COAD data."
   ]
  },
  {
   "cell_type": "code",
   "execution_count": 1,
   "id": "1a84fee4",
   "metadata": {},
   "outputs": [
    {
     "name": "stderr",
     "output_type": "stream",
     "text": [
      "In /home/malvika/anaconda3/lib/python3.7/site-packages/matplotlib/mpl-data/stylelib/_classic_test.mplstyle: \n",
      "The text.latex.preview rcparam was deprecated in Matplotlib 3.3 and will be removed two minor releases later.\n",
      "In /home/malvika/anaconda3/lib/python3.7/site-packages/matplotlib/mpl-data/stylelib/_classic_test.mplstyle: \n",
      "The mathtext.fallback_to_cm rcparam was deprecated in Matplotlib 3.3 and will be removed two minor releases later.\n",
      "In /home/malvika/anaconda3/lib/python3.7/site-packages/matplotlib/mpl-data/stylelib/_classic_test.mplstyle: Support for setting the 'mathtext.fallback_to_cm' rcParam is deprecated since 3.3 and will be removed two minor releases later; use 'mathtext.fallback : 'cm' instead.\n",
      "In /home/malvika/anaconda3/lib/python3.7/site-packages/matplotlib/mpl-data/stylelib/_classic_test.mplstyle: \n",
      "The validate_bool_maybe_none function was deprecated in Matplotlib 3.3 and will be removed two minor releases later.\n",
      "In /home/malvika/anaconda3/lib/python3.7/site-packages/matplotlib/mpl-data/stylelib/_classic_test.mplstyle: \n",
      "The savefig.jpeg_quality rcparam was deprecated in Matplotlib 3.3 and will be removed two minor releases later.\n",
      "In /home/malvika/anaconda3/lib/python3.7/site-packages/matplotlib/mpl-data/stylelib/_classic_test.mplstyle: \n",
      "The keymap.all_axes rcparam was deprecated in Matplotlib 3.3 and will be removed two minor releases later.\n",
      "In /home/malvika/anaconda3/lib/python3.7/site-packages/matplotlib/mpl-data/stylelib/_classic_test.mplstyle: \n",
      "The animation.avconv_path rcparam was deprecated in Matplotlib 3.3 and will be removed two minor releases later.\n",
      "In /home/malvika/anaconda3/lib/python3.7/site-packages/matplotlib/mpl-data/stylelib/_classic_test.mplstyle: \n",
      "The animation.avconv_args rcparam was deprecated in Matplotlib 3.3 and will be removed two minor releases later.\n",
      "/home/malvika/anaconda3/lib/python3.7/site-packages/statsmodels/tools/_testing.py:19: FutureWarning: pandas.util.testing is deprecated. Use the functions in the public API at pandas.testing instead.\n",
      "  import pandas.util.testing as tm\n"
     ]
    }
   ],
   "source": [
    "import os\n",
    "import pandas as pd\n",
    "import matplotlib.pyplot as plt\n",
    "import seaborn as sns"
   ]
  },
  {
   "cell_type": "markdown",
   "id": "580ff8ae",
   "metadata": {},
   "source": [
    "## Load the prediction file\n",
    "Variables to be updated for loading the prediction file.\n",
    "Either the absolute path is given to *filepath* or set *PATH* and the relative path is set based on cancer type, label method, number of features and model. \n",
    "\n",
    "Default file name is \"cTaG2_predictions.tsv\". For other filenames, update *fname*."
   ]
  },
  {
   "cell_type": "code",
   "execution_count": 2,
   "id": "a55c6f8d",
   "metadata": {},
   "outputs": [],
   "source": [
    "PATH = \"/data/malvika/cTaG2.0\"\n",
    "ctype = \"COAD\"\n",
    "lab_type = \"bailey\"\n",
    "feat_num = \"some\"\n",
    "model = \"BalBag\"\n",
    "folderpath = \"/output/GDC_{}/predict/multiomic\".format(ctype)\n",
    "\n",
    "filepath = PATH + folderpath + \"/{}_{}_{}\".format(lab_type, feat_num, model)\n",
    "## Uncomment line below to set absolute path\n",
    "# filepath = \"\\path\\to\\prediction\\file\""
   ]
  },
  {
   "cell_type": "code",
   "execution_count": 3,
   "id": "47c09c64",
   "metadata": {},
   "outputs": [],
   "source": [
    "os.chdir(filepath)\n",
    "fname = \"cTaG2_predictions.tsv\"\n",
    "data = pd.read_csv(fname, sep=\"\\t\", header=0, index_col=0)"
   ]
  },
  {
   "cell_type": "code",
   "execution_count": 4,
   "id": "6b6b8040",
   "metadata": {
    "scrolled": true
   },
   "outputs": [
    {
     "data": {
      "text/html": [
       "<div>\n",
       "<style scoped>\n",
       "    .dataframe tbody tr th:only-of-type {\n",
       "        vertical-align: middle;\n",
       "    }\n",
       "\n",
       "    .dataframe tbody tr th {\n",
       "        vertical-align: top;\n",
       "    }\n",
       "\n",
       "    .dataframe thead th {\n",
       "        text-align: right;\n",
       "    }\n",
       "</style>\n",
       "<table border=\"1\" class=\"dataframe\">\n",
       "  <thead>\n",
       "    <tr style=\"text-align: right;\">\n",
       "      <th></th>\n",
       "      <th>Hugo_Symbol</th>\n",
       "      <th>Tumor_Sample_Barcode</th>\n",
       "      <th>Variant_Classification</th>\n",
       "      <th>CNV</th>\n",
       "      <th>logFC</th>\n",
       "      <th>Degree</th>\n",
       "      <th>Closeness_centrality</th>\n",
       "      <th>Betweeness_centrality</th>\n",
       "      <th>Label</th>\n",
       "      <th>Predicted label</th>\n",
       "      <th>Probability_Neutral</th>\n",
       "      <th>Probability_Oncogene</th>\n",
       "      <th>Probability_Tumor suppressor</th>\n",
       "    </tr>\n",
       "  </thead>\n",
       "  <tbody>\n",
       "    <tr>\n",
       "      <th>TCGA-AA-3966-01A;GNB1</th>\n",
       "      <td>GNB1</td>\n",
       "      <td>TCGA-AA-3966-01A</td>\n",
       "      <td>Missense_Mutation</td>\n",
       "      <td>0.0</td>\n",
       "      <td>0.239474</td>\n",
       "      <td>191.0</td>\n",
       "      <td>0.313624</td>\n",
       "      <td>0.005776</td>\n",
       "      <td>Unlabelled</td>\n",
       "      <td>Oncogene</td>\n",
       "      <td>0.00</td>\n",
       "      <td>0.95</td>\n",
       "      <td>0.05</td>\n",
       "    </tr>\n",
       "    <tr>\n",
       "      <th>TCGA-AA-3966-01A;AGO1</th>\n",
       "      <td>AGO1</td>\n",
       "      <td>TCGA-AA-3966-01A</td>\n",
       "      <td>Missense_Mutation</td>\n",
       "      <td>0.0</td>\n",
       "      <td>0.024715</td>\n",
       "      <td>74.0</td>\n",
       "      <td>0.295284</td>\n",
       "      <td>0.000759</td>\n",
       "      <td>Unlabelled</td>\n",
       "      <td>Tumor suppressor</td>\n",
       "      <td>0.05</td>\n",
       "      <td>0.00</td>\n",
       "      <td>0.95</td>\n",
       "    </tr>\n",
       "    <tr>\n",
       "      <th>TCGA-AA-3966-01A;HIPK1</th>\n",
       "      <td>HIPK1</td>\n",
       "      <td>TCGA-AA-3966-01A</td>\n",
       "      <td>Silent</td>\n",
       "      <td>0.0</td>\n",
       "      <td>-0.458903</td>\n",
       "      <td>3.0</td>\n",
       "      <td>0.258791</td>\n",
       "      <td>0.000009</td>\n",
       "      <td>Unlabelled</td>\n",
       "      <td>Tumor suppressor</td>\n",
       "      <td>0.40</td>\n",
       "      <td>0.00</td>\n",
       "      <td>0.60</td>\n",
       "    </tr>\n",
       "    <tr>\n",
       "      <th>TCGA-AA-3966-01A;ATP1A1</th>\n",
       "      <td>ATP1A1</td>\n",
       "      <td>TCGA-AA-3966-01A</td>\n",
       "      <td>Frame_Shift_Del</td>\n",
       "      <td>0.0</td>\n",
       "      <td>0.245623</td>\n",
       "      <td>21.0</td>\n",
       "      <td>0.240734</td>\n",
       "      <td>0.000259</td>\n",
       "      <td>Unlabelled</td>\n",
       "      <td>Tumor suppressor</td>\n",
       "      <td>0.00</td>\n",
       "      <td>0.00</td>\n",
       "      <td>1.00</td>\n",
       "    </tr>\n",
       "    <tr>\n",
       "      <th>TCGA-AA-3966-01A;TPR</th>\n",
       "      <td>TPR</td>\n",
       "      <td>TCGA-AA-3966-01A</td>\n",
       "      <td>Missense_Mutation</td>\n",
       "      <td>0.0</td>\n",
       "      <td>-0.446137</td>\n",
       "      <td>112.0</td>\n",
       "      <td>0.293654</td>\n",
       "      <td>0.002823</td>\n",
       "      <td>Unlabelled</td>\n",
       "      <td>Tumor suppressor</td>\n",
       "      <td>0.15</td>\n",
       "      <td>0.40</td>\n",
       "      <td>0.45</td>\n",
       "    </tr>\n",
       "  </tbody>\n",
       "</table>\n",
       "</div>"
      ],
      "text/plain": [
       "                        Hugo_Symbol Tumor_Sample_Barcode  \\\n",
       "TCGA-AA-3966-01A;GNB1          GNB1     TCGA-AA-3966-01A   \n",
       "TCGA-AA-3966-01A;AGO1          AGO1     TCGA-AA-3966-01A   \n",
       "TCGA-AA-3966-01A;HIPK1        HIPK1     TCGA-AA-3966-01A   \n",
       "TCGA-AA-3966-01A;ATP1A1      ATP1A1     TCGA-AA-3966-01A   \n",
       "TCGA-AA-3966-01A;TPR            TPR     TCGA-AA-3966-01A   \n",
       "\n",
       "                        Variant_Classification  CNV     logFC  Degree  \\\n",
       "TCGA-AA-3966-01A;GNB1        Missense_Mutation  0.0  0.239474   191.0   \n",
       "TCGA-AA-3966-01A;AGO1        Missense_Mutation  0.0  0.024715    74.0   \n",
       "TCGA-AA-3966-01A;HIPK1                  Silent  0.0 -0.458903     3.0   \n",
       "TCGA-AA-3966-01A;ATP1A1        Frame_Shift_Del  0.0  0.245623    21.0   \n",
       "TCGA-AA-3966-01A;TPR         Missense_Mutation  0.0 -0.446137   112.0   \n",
       "\n",
       "                         Closeness_centrality  Betweeness_centrality  \\\n",
       "TCGA-AA-3966-01A;GNB1                0.313624               0.005776   \n",
       "TCGA-AA-3966-01A;AGO1                0.295284               0.000759   \n",
       "TCGA-AA-3966-01A;HIPK1               0.258791               0.000009   \n",
       "TCGA-AA-3966-01A;ATP1A1              0.240734               0.000259   \n",
       "TCGA-AA-3966-01A;TPR                 0.293654               0.002823   \n",
       "\n",
       "                              Label   Predicted label  Probability_Neutral  \\\n",
       "TCGA-AA-3966-01A;GNB1    Unlabelled          Oncogene                 0.00   \n",
       "TCGA-AA-3966-01A;AGO1    Unlabelled  Tumor suppressor                 0.05   \n",
       "TCGA-AA-3966-01A;HIPK1   Unlabelled  Tumor suppressor                 0.40   \n",
       "TCGA-AA-3966-01A;ATP1A1  Unlabelled  Tumor suppressor                 0.00   \n",
       "TCGA-AA-3966-01A;TPR     Unlabelled  Tumor suppressor                 0.15   \n",
       "\n",
       "                         Probability_Oncogene  Probability_Tumor suppressor  \n",
       "TCGA-AA-3966-01A;GNB1                    0.95                          0.05  \n",
       "TCGA-AA-3966-01A;AGO1                    0.00                          0.95  \n",
       "TCGA-AA-3966-01A;HIPK1                   0.00                          0.60  \n",
       "TCGA-AA-3966-01A;ATP1A1                  0.00                          1.00  \n",
       "TCGA-AA-3966-01A;TPR                     0.40                          0.45  "
      ]
     },
     "execution_count": 4,
     "metadata": {},
     "output_type": "execute_result"
    }
   ],
   "source": [
    "data.head(5)"
   ]
  },
  {
   "cell_type": "code",
   "execution_count": 5,
   "id": "60caf372",
   "metadata": {},
   "outputs": [
    {
     "name": "stdout",
     "output_type": "stream",
     "text": [
      "Number of total samples = 359\n"
     ]
    }
   ],
   "source": [
    "print(\"Number of total samples = {}\".format(len(data[\"Tumor_Sample_Barcode\"].unique())))"
   ]
  },
  {
   "cell_type": "code",
   "execution_count": 6,
   "id": "62ae8cc2",
   "metadata": {},
   "outputs": [
    {
     "name": "stdout",
     "output_type": "stream",
     "text": [
      "Total number of unique genes = 1152\n"
     ]
    }
   ],
   "source": [
    "print(\"Total number of unique genes = {}\".format(len(data[\"Hugo_Symbol\"].unique())))"
   ]
  },
  {
   "cell_type": "code",
   "execution_count": 7,
   "id": "dccaeec8",
   "metadata": {},
   "outputs": [
    {
     "name": "stdout",
     "output_type": "stream",
     "text": [
      "Total number of unique TSG = 938\n"
     ]
    }
   ],
   "source": [
    "print(\"Total number of unique TSG = {}\".format(list(data[[\"Hugo_Symbol\", \"Predicted label\"]].drop_duplicates()[\"Predicted label\"]).count(\"Tumor suppressor\")))"
   ]
  },
  {
   "cell_type": "code",
   "execution_count": 8,
   "id": "933b1f21",
   "metadata": {},
   "outputs": [
    {
     "name": "stdout",
     "output_type": "stream",
     "text": [
      "Total number of unique OG = 266\n"
     ]
    }
   ],
   "source": [
    "print(\"Total number of unique OG = {}\".format(list(data[[\"Hugo_Symbol\", \"Predicted label\"]].drop_duplicates()[\"Predicted label\"]).count(\"Oncogene\")))"
   ]
  },
  {
   "cell_type": "code",
   "execution_count": 9,
   "id": "de5903bd",
   "metadata": {},
   "outputs": [
    {
     "data": {
      "text/plain": [
       "52"
      ]
     },
     "execution_count": 9,
     "metadata": {},
     "output_type": "execute_result"
    }
   ],
   "source": [
    "data_unigenes = data[[\"Hugo_Symbol\", \"Predicted label\"]].drop_duplicates()\n",
    "multi_genes = [gene for gene in data_unigenes[\"Hugo_Symbol\"].unique() if data_unigenes[data_unigenes[\"Hugo_Symbol\"]==gene].shape[0]>1] \n",
    "len(multi_genes)"
   ]
  },
  {
   "cell_type": "markdown",
   "id": "07d50a91",
   "metadata": {},
   "source": [
    "## Summary statistics for sample\n",
    "Calculates the total number of genes predicted for each sample along with other counts.\n",
    "\n",
    "Counts the number of genes with mutation, and CNV alterations.\n",
    "Counts number of TSGs and OGs predicted for the sample."
   ]
  },
  {
   "cell_type": "code",
   "execution_count": 10,
   "id": "8d50fae1",
   "metadata": {},
   "outputs": [],
   "source": [
    "data_samp = pd.DataFrame()\n",
    "data_samp[\"Tumor_Sample_Barcode\"] = data[\"Tumor_Sample_Barcode\"].unique()\n",
    "data_samp[\"Num_genes\"] = [data[data[\"Tumor_Sample_Barcode\"] == samp].shape[0] for samp in data_samp[\"Tumor_Sample_Barcode\"]]\n",
    "data_samp[\"Num_mut\"] = [data[(data[\"Tumor_Sample_Barcode\"] == samp) & ~(data[\"Variant_Classification\"].isna())].shape[0] for samp in data_samp[\"Tumor_Sample_Barcode\"]]\n",
    "data_samp[\"Num_cnv\"] = [data[(data[\"Tumor_Sample_Barcode\"] == samp) & ~(data[\"CNV\"] == 0)].shape[0] for samp in data_samp[\"Tumor_Sample_Barcode\"]]\n",
    "data_samp[\"Num_TSG\"] = [data[(data[\"Tumor_Sample_Barcode\"] == samp) & (data[\"Predicted label\"] == \"Tumor suppressor\")].shape[0] for samp in data_samp[\"Tumor_Sample_Barcode\"]]\n",
    "data_samp[\"Num_OG\"] = [data[(data[\"Tumor_Sample_Barcode\"] == samp) & (data[\"Predicted label\"] == \"Oncogene\")].shape[0] for samp in data_samp[\"Tumor_Sample_Barcode\"]]\n"
   ]
  },
  {
   "cell_type": "code",
   "execution_count": 11,
   "id": "c4e1eddf",
   "metadata": {},
   "outputs": [
    {
     "data": {
      "text/html": [
       "<div>\n",
       "<style scoped>\n",
       "    .dataframe tbody tr th:only-of-type {\n",
       "        vertical-align: middle;\n",
       "    }\n",
       "\n",
       "    .dataframe tbody tr th {\n",
       "        vertical-align: top;\n",
       "    }\n",
       "\n",
       "    .dataframe thead th {\n",
       "        text-align: right;\n",
       "    }\n",
       "</style>\n",
       "<table border=\"1\" class=\"dataframe\">\n",
       "  <thead>\n",
       "    <tr style=\"text-align: right;\">\n",
       "      <th></th>\n",
       "      <th>Tumor_Sample_Barcode</th>\n",
       "      <th>Num_genes</th>\n",
       "      <th>Num_mut</th>\n",
       "      <th>Num_cnv</th>\n",
       "      <th>Num_TSG</th>\n",
       "      <th>Num_OG</th>\n",
       "    </tr>\n",
       "  </thead>\n",
       "  <tbody>\n",
       "    <tr>\n",
       "      <th>0</th>\n",
       "      <td>TCGA-AA-3966-01A</td>\n",
       "      <td>119</td>\n",
       "      <td>56</td>\n",
       "      <td>64</td>\n",
       "      <td>98</td>\n",
       "      <td>21</td>\n",
       "    </tr>\n",
       "    <tr>\n",
       "      <th>1</th>\n",
       "      <td>TCGA-AD-6901-01A</td>\n",
       "      <td>43</td>\n",
       "      <td>14</td>\n",
       "      <td>30</td>\n",
       "      <td>32</td>\n",
       "      <td>11</td>\n",
       "    </tr>\n",
       "    <tr>\n",
       "      <th>2</th>\n",
       "      <td>TCGA-AA-3673-01A</td>\n",
       "      <td>12</td>\n",
       "      <td>12</td>\n",
       "      <td>0</td>\n",
       "      <td>8</td>\n",
       "      <td>4</td>\n",
       "    </tr>\n",
       "    <tr>\n",
       "      <th>3</th>\n",
       "      <td>TCGA-A6-2679-01A</td>\n",
       "      <td>42</td>\n",
       "      <td>1</td>\n",
       "      <td>41</td>\n",
       "      <td>31</td>\n",
       "      <td>11</td>\n",
       "    </tr>\n",
       "    <tr>\n",
       "      <th>4</th>\n",
       "      <td>TCGA-AA-3975-01A</td>\n",
       "      <td>51</td>\n",
       "      <td>12</td>\n",
       "      <td>39</td>\n",
       "      <td>37</td>\n",
       "      <td>14</td>\n",
       "    </tr>\n",
       "  </tbody>\n",
       "</table>\n",
       "</div>"
      ],
      "text/plain": [
       "  Tumor_Sample_Barcode  Num_genes  Num_mut  Num_cnv  Num_TSG  Num_OG\n",
       "0     TCGA-AA-3966-01A        119       56       64       98      21\n",
       "1     TCGA-AD-6901-01A         43       14       30       32      11\n",
       "2     TCGA-AA-3673-01A         12       12        0        8       4\n",
       "3     TCGA-A6-2679-01A         42        1       41       31      11\n",
       "4     TCGA-AA-3975-01A         51       12       39       37      14"
      ]
     },
     "execution_count": 11,
     "metadata": {},
     "output_type": "execute_result"
    }
   ],
   "source": [
    "data_samp.head()"
   ]
  },
  {
   "cell_type": "markdown",
   "id": "06209325",
   "metadata": {},
   "source": [
    "### Distribution of number of genes predicted\n",
    "The distribution of number of genes identified for each sample."
   ]
  },
  {
   "cell_type": "code",
   "execution_count": 38,
   "id": "b722f067",
   "metadata": {},
   "outputs": [
    {
     "data": {
      "image/png": "[encoded data removed]",
      "text/plain": [
       "<Figure size 432x288 with 1 Axes>"
      ]
     },
     "metadata": {
      "needs_background": "light"
     },
     "output_type": "display_data"
    }
   ],
   "source": [
    "ax = sns.distplot(data_samp[\"Num_genes\"])\n",
    "# plt.ylim(-0.05, 1)\n",
    "ax.set_xlabel(\"Number of genes predicted\",fontsize=15)\n",
    "ax.set_ylabel(\"Density of samples\",fontsize=15)\n",
    "ax.tick_params(labelsize=14)\n",
    "plt.title(ctype, fontsize=16)\n",
    "plt.tight_layout()\n",
    "\n",
    "# os.chdir(filepath)\n",
    "# fname = \"{}_geneXsamp.png\".format(ctype)\n",
    "# plt.savefig(fname, dpi=300)\n",
    "# plt.close()"
   ]
  },
  {
   "cell_type": "markdown",
   "id": "3efbb6b6",
   "metadata": {},
   "source": [
    "### Distribution of number of mutated genes predicted\n",
    "The distribution of number of genes identified for each sample that were mutated."
   ]
  },
  {
   "cell_type": "code",
   "execution_count": 37,
   "id": "848f293f",
   "metadata": {},
   "outputs": [
    {
     "data": {
      "image/png": "[encoded data removed]",
      "text/plain": [
       "<Figure size 432x288 with 1 Axes>"
      ]
     },
     "metadata": {
      "needs_background": "light"
     },
     "output_type": "display_data"
    }
   ],
   "source": [
    "ax = sns.distplot(data_samp[\"Num_mut\"])\n",
    "ax.set_xlabel(\"Number of mutated genes\",fontsize=15)\n",
    "ax.set_ylabel(\"Density of samples\",fontsize=15)\n",
    "ax.tick_params(labelsize=14)\n",
    "plt.title(ctype, fontsize=16)\n",
    "plt.tight_layout()\n",
    "\n",
    "# os.chdir(filepath)\n",
    "# fname = \"{}_mutXsamp.png\".format(ctype)\n",
    "# plt.savefig(fname, dpi=300)\n",
    "# plt.close()"
   ]
  },
  {
   "cell_type": "markdown",
   "id": "2243e7d2",
   "metadata": {},
   "source": [
    "### Distribution of number of genes predicted with CNVs\n",
    "The distribution of number of genes identified for each sample that showed CNVs."
   ]
  },
  {
   "cell_type": "code",
   "execution_count": 39,
   "id": "372e9604",
   "metadata": {},
   "outputs": [
    {
     "data": {
      "image/png": "[encoded data removed]",
      "text/plain": [
       "<Figure size 432x288 with 1 Axes>"
      ]
     },
     "metadata": {
      "needs_background": "light"
     },
     "output_type": "display_data"
    }
   ],
   "source": [
    "ax = sns.distplot(data_samp[\"Num_cnv\"])\n",
    "ax.set_xlabel(\"Number of CNV\",fontsize=15)\n",
    "ax.set_ylabel(\"Density of samples\",fontsize=15)\n",
    "ax.tick_params(labelsize=14)\n",
    "plt.title(ctype, fontsize=16)\n",
    "plt.tight_layout()\n",
    "\n",
    "# os.chdir(filepath)\n",
    "# fname = \"{}_cnvXsamp.png\".format(ctype)\n",
    "# plt.savefig(fname, dpi=300)\n",
    "# plt.close()"
   ]
  },
  {
   "cell_type": "markdown",
   "id": "132550ca",
   "metadata": {},
   "source": [
    "### Distribution of number of TSGs predicted\n",
    "The distribution of number of genes labelled as TSG for each sample."
   ]
  },
  {
   "cell_type": "code",
   "execution_count": 45,
   "id": "abc6d151",
   "metadata": {},
   "outputs": [
    {
     "data": {
      "image/png": "[encoded data removed]",
      "text/plain": [
       "<Figure size 432x288 with 1 Axes>"
      ]
     },
     "metadata": {
      "needs_background": "light"
     },
     "output_type": "display_data"
    }
   ],
   "source": [
    "ax = sns.distplot(data_samp[\"Num_TSG\"])\n",
    "ax.set_xlabel(\"Number of TSGs\",fontsize=15)\n",
    "ax.set_ylabel(\"Density of samples\",fontsize=15)\n",
    "ax.tick_params(labelsize=14)\n",
    "plt.title(ctype, fontsize=16)\n",
    "plt.tight_layout()\n",
    "\n",
    "# os.chdir(filepath)\n",
    "# fname = \"{}_tsgXsamp.png\".format(ctype)\n",
    "# plt.savefig(fname, dpi=300)\n",
    "# plt.close()"
   ]
  },
  {
   "cell_type": "markdown",
   "id": "712f7982",
   "metadata": {},
   "source": [
    "### Distribution of number of OGs predicted\n",
    "The distribution of number of genes labelled as OG for each sample."
   ]
  },
  {
   "cell_type": "code",
   "execution_count": 41,
   "id": "1ad8aee8",
   "metadata": {},
   "outputs": [
    {
     "data": {
      "image/png": "[encoded data removed]",
      "text/plain": [
       "<Figure size 432x288 with 1 Axes>"
      ]
     },
     "metadata": {
      "needs_background": "light"
     },
     "output_type": "display_data"
    }
   ],
   "source": [
    "ax = sns.distplot(data_samp[\"Num_OG\"])\n",
    "ax.set_xlabel(\"Number of OGs\",fontsize=15)\n",
    "ax.set_ylabel(\"Density of samples\",fontsize=15)\n",
    "ax.tick_params(labelsize=14)\n",
    "plt.title(ctype, fontsize=16)\n",
    "plt.tight_layout()\n",
    "\n",
    "# os.chdir(filepath)\n",
    "# fname = \"{}_ogXsamp.png\".format(ctype)\n",
    "# plt.savefig(fname, dpi=300)\n",
    "# plt.close()"
   ]
  },
  {
   "cell_type": "markdown",
   "id": "d197c1d7",
   "metadata": {},
   "source": [
    "### Distribution of degree of genes predicted\n",
    "The distribution of degree of genes identified for each sample."
   ]
  },
  {
   "cell_type": "code",
   "execution_count": 42,
   "id": "ff37dace",
   "metadata": {},
   "outputs": [
    {
     "data": {
      "image/png": "[encoded data removed]",
      "text/plain": [
       "<Figure size 432x288 with 1 Axes>"
      ]
     },
     "metadata": {
      "needs_background": "light"
     },
     "output_type": "display_data"
    }
   ],
   "source": [
    "ax = sns.distplot(data[\"Degree\"])\n",
    "ax.set_xlabel(\"Degree of a gene\",fontsize=15)\n",
    "ax.set_ylabel(\"Density of samples\",fontsize=15)\n",
    "ax.tick_params(labelsize=14)\n",
    "plt.title(ctype, fontsize=16)\n",
    "plt.tight_layout()\n",
    "\n",
    "# os.chdir(filepath)\n",
    "# fname = \"{}_degreeXsamp.png\".format(ctype)\n",
    "# plt.savefig(fname, dpi=300)\n",
    "# plt.close()"
   ]
  },
  {
   "cell_type": "markdown",
   "id": "377d2414",
   "metadata": {},
   "source": [
    "## Gene based statistics\n"
   ]
  },
  {
   "cell_type": "code",
   "execution_count": 18,
   "id": "627572ea",
   "metadata": {},
   "outputs": [],
   "source": [
    "data_genes = pd.DataFrame(data.groupby([\"Hugo_Symbol\"])[\"Tumor_Sample_Barcode\"].count())\n",
    "data_genes[\"Degree\"] = data.groupby([\"Hugo_Symbol\"])[\"Degree\"].mean()"
   ]
  },
  {
   "cell_type": "markdown",
   "id": "c0641e65",
   "metadata": {},
   "source": [
    "### Consensus with CGC\n",
    "Load CGC data and check for consensus"
   ]
  },
  {
   "cell_type": "code",
   "execution_count": 19,
   "id": "75209667",
   "metadata": {},
   "outputs": [],
   "source": [
    "os.chdir(PATH + \"/data/driver genes/CGC\")\n",
    "fname = \"cancer_gene_census_9nov2021.csv\"\n",
    "data_cgc = pd.read_csv(fname, sep=\",\", header=0, index_col=0)\n",
    "data_genes.loc[:, \"CGC\"] = [True if gene in list(data_cgc.index) else False for gene in list(data_genes.index)]"
   ]
  },
  {
   "cell_type": "code",
   "execution_count": 20,
   "id": "8c89e54a",
   "metadata": {},
   "outputs": [
    {
     "name": "stdout",
     "output_type": "stream",
     "text": [
      "Total number of genes showing consensus with CGC = 169\n"
     ]
    }
   ],
   "source": [
    "print(\"Total number of genes showing consensus with CGC = {}\".format(data_genes[\"CGC\"].sum()))"
   ]
  },
  {
   "cell_type": "markdown",
   "id": "24c5fc97",
   "metadata": {},
   "source": [
    "### Distribution of number of samples a gene is predicted as driver\n",
    "The distribution of number of samples a gene is identified as driver."
   ]
  },
  {
   "cell_type": "code",
   "execution_count": 43,
   "id": "62d42b76",
   "metadata": {},
   "outputs": [
    {
     "data": {
      "text/plain": [
       "<matplotlib.legend.Legend at 0x7fbb19ed2610>"
      ]
     },
     "execution_count": 43,
     "metadata": {},
     "output_type": "execute_result"
    },
    {
     "data": {
      "image/png": "[encoded data removed]",
      "text/plain": [
       "<Figure size 432x288 with 1 Axes>"
      ]
     },
     "metadata": {
      "needs_background": "light"
     },
     "output_type": "display_data"
    }
   ],
   "source": [
    "ax = sns.distplot(data_genes[\"Tumor_Sample_Barcode\"], label=\"All genes\")\n",
    "sns.distplot(data_genes[data_genes.CGC ==True][\"Tumor_Sample_Barcode\"], label=\"CGC genes\")\n",
    "sns.distplot(data_genes[data_genes.CGC ==False][\"Tumor_Sample_Barcode\"], label=\"novel genes\")\n",
    "ax.set_xlabel(\"Number of samples\",fontsize=15)\n",
    "ax.set_ylabel(\"Density of genes altered\",fontsize=15)\n",
    "ax.tick_params(labelsize=14)\n",
    "plt.title(ctype, fontsize=16)\n",
    "plt.tight_layout()\n",
    "plt.legend()\n",
    "\n",
    "# os.chdir(filepath)\n",
    "# fname = \"{}_sampXgenes.png\".format(ctype)\n",
    "# plt.savefig(fname, dpi=300)\n",
    "# plt.close()"
   ]
  },
  {
   "cell_type": "markdown",
   "id": "e51dac17",
   "metadata": {},
   "source": [
    "### Top 10 genes frequently predicted\n",
    "The list of genes and the number of samples they are predicted as TSG or OG."
   ]
  },
  {
   "cell_type": "code",
   "execution_count": 22,
   "id": "b817aa01",
   "metadata": {},
   "outputs": [
    {
     "data": {
      "text/html": [
       "<div>\n",
       "<style scoped>\n",
       "    .dataframe tbody tr th:only-of-type {\n",
       "        vertical-align: middle;\n",
       "    }\n",
       "\n",
       "    .dataframe tbody tr th {\n",
       "        vertical-align: top;\n",
       "    }\n",
       "\n",
       "    .dataframe thead th {\n",
       "        text-align: right;\n",
       "    }\n",
       "</style>\n",
       "<table border=\"1\" class=\"dataframe\">\n",
       "  <thead>\n",
       "    <tr style=\"text-align: right;\">\n",
       "      <th></th>\n",
       "      <th>Tumor_Sample_Barcode</th>\n",
       "      <th>Degree</th>\n",
       "      <th>CGC</th>\n",
       "    </tr>\n",
       "    <tr>\n",
       "      <th>Hugo_Symbol</th>\n",
       "      <th></th>\n",
       "      <th></th>\n",
       "      <th></th>\n",
       "    </tr>\n",
       "  </thead>\n",
       "  <tbody>\n",
       "    <tr>\n",
       "      <th>APC</th>\n",
       "      <td>408</td>\n",
       "      <td>63.0</td>\n",
       "      <td>True</td>\n",
       "    </tr>\n",
       "    <tr>\n",
       "      <th>TP53</th>\n",
       "      <td>212</td>\n",
       "      <td>337.0</td>\n",
       "      <td>True</td>\n",
       "    </tr>\n",
       "    <tr>\n",
       "      <th>KRAS</th>\n",
       "      <td>153</td>\n",
       "      <td>249.0</td>\n",
       "      <td>True</td>\n",
       "    </tr>\n",
       "    <tr>\n",
       "      <th>PIK3CA</th>\n",
       "      <td>122</td>\n",
       "      <td>275.0</td>\n",
       "      <td>True</td>\n",
       "    </tr>\n",
       "    <tr>\n",
       "      <th>ARID1A</th>\n",
       "      <td>87</td>\n",
       "      <td>72.0</td>\n",
       "      <td>True</td>\n",
       "    </tr>\n",
       "    <tr>\n",
       "      <th>FBXW7</th>\n",
       "      <td>86</td>\n",
       "      <td>24.0</td>\n",
       "      <td>True</td>\n",
       "    </tr>\n",
       "    <tr>\n",
       "      <th>SOX9</th>\n",
       "      <td>81</td>\n",
       "      <td>10.0</td>\n",
       "      <td>False</td>\n",
       "    </tr>\n",
       "    <tr>\n",
       "      <th>PRKDC</th>\n",
       "      <td>73</td>\n",
       "      <td>53.0</td>\n",
       "      <td>False</td>\n",
       "    </tr>\n",
       "    <tr>\n",
       "      <th>SMAD4</th>\n",
       "      <td>72</td>\n",
       "      <td>133.0</td>\n",
       "      <td>True</td>\n",
       "    </tr>\n",
       "    <tr>\n",
       "      <th>MTOR</th>\n",
       "      <td>60</td>\n",
       "      <td>118.0</td>\n",
       "      <td>True</td>\n",
       "    </tr>\n",
       "  </tbody>\n",
       "</table>\n",
       "</div>"
      ],
      "text/plain": [
       "             Tumor_Sample_Barcode  Degree    CGC\n",
       "Hugo_Symbol                                     \n",
       "APC                           408    63.0   True\n",
       "TP53                          212   337.0   True\n",
       "KRAS                          153   249.0   True\n",
       "PIK3CA                        122   275.0   True\n",
       "ARID1A                         87    72.0   True\n",
       "FBXW7                          86    24.0   True\n",
       "SOX9                           81    10.0  False\n",
       "PRKDC                          73    53.0  False\n",
       "SMAD4                          72   133.0   True\n",
       "MTOR                           60   118.0   True"
      ]
     },
     "execution_count": 22,
     "metadata": {},
     "output_type": "execute_result"
    }
   ],
   "source": [
    "data_genes.sort_values(by=[\"Tumor_Sample_Barcode\"], ascending=False)[:10]"
   ]
  },
  {
   "cell_type": "markdown",
   "id": "293ad2fb",
   "metadata": {},
   "source": [
    "### Top 10 genes rarely predicted as driver\n",
    "The list of genes and the number of samples they are predicted as TSG or OG. Random 10 genes are listed below. More genes mutated in one sample may be"
   ]
  },
  {
   "cell_type": "code",
   "execution_count": 23,
   "id": "061f15f2",
   "metadata": {},
   "outputs": [
    {
     "data": {
      "text/html": [
       "<div>\n",
       "<style scoped>\n",
       "    .dataframe tbody tr th:only-of-type {\n",
       "        vertical-align: middle;\n",
       "    }\n",
       "\n",
       "    .dataframe tbody tr th {\n",
       "        vertical-align: top;\n",
       "    }\n",
       "\n",
       "    .dataframe thead th {\n",
       "        text-align: right;\n",
       "    }\n",
       "</style>\n",
       "<table border=\"1\" class=\"dataframe\">\n",
       "  <thead>\n",
       "    <tr style=\"text-align: right;\">\n",
       "      <th></th>\n",
       "      <th>Tumor_Sample_Barcode</th>\n",
       "      <th>Degree</th>\n",
       "      <th>CGC</th>\n",
       "    </tr>\n",
       "    <tr>\n",
       "      <th>Hugo_Symbol</th>\n",
       "      <th></th>\n",
       "      <th></th>\n",
       "      <th></th>\n",
       "    </tr>\n",
       "  </thead>\n",
       "  <tbody>\n",
       "    <tr>\n",
       "      <th>MED17</th>\n",
       "      <td>1</td>\n",
       "      <td>44.0</td>\n",
       "      <td>False</td>\n",
       "    </tr>\n",
       "    <tr>\n",
       "      <th>YAP1</th>\n",
       "      <td>1</td>\n",
       "      <td>54.0</td>\n",
       "      <td>False</td>\n",
       "    </tr>\n",
       "    <tr>\n",
       "      <th>RAB13</th>\n",
       "      <td>1</td>\n",
       "      <td>23.0</td>\n",
       "      <td>False</td>\n",
       "    </tr>\n",
       "    <tr>\n",
       "      <th>SF3B2</th>\n",
       "      <td>1</td>\n",
       "      <td>111.0</td>\n",
       "      <td>False</td>\n",
       "    </tr>\n",
       "    <tr>\n",
       "      <th>SYMPK</th>\n",
       "      <td>1</td>\n",
       "      <td>63.0</td>\n",
       "      <td>False</td>\n",
       "    </tr>\n",
       "    <tr>\n",
       "      <th>DERA</th>\n",
       "      <td>1</td>\n",
       "      <td>56.0</td>\n",
       "      <td>False</td>\n",
       "    </tr>\n",
       "    <tr>\n",
       "      <th>DHCR24</th>\n",
       "      <td>1</td>\n",
       "      <td>21.0</td>\n",
       "      <td>False</td>\n",
       "    </tr>\n",
       "    <tr>\n",
       "      <th>TUBAL3</th>\n",
       "      <td>1</td>\n",
       "      <td>29.0</td>\n",
       "      <td>False</td>\n",
       "    </tr>\n",
       "    <tr>\n",
       "      <th>DICER1</th>\n",
       "      <td>1</td>\n",
       "      <td>64.0</td>\n",
       "      <td>True</td>\n",
       "    </tr>\n",
       "    <tr>\n",
       "      <th>PVR</th>\n",
       "      <td>1</td>\n",
       "      <td>9.0</td>\n",
       "      <td>False</td>\n",
       "    </tr>\n",
       "  </tbody>\n",
       "</table>\n",
       "</div>"
      ],
      "text/plain": [
       "             Tumor_Sample_Barcode  Degree    CGC\n",
       "Hugo_Symbol                                     \n",
       "MED17                           1    44.0  False\n",
       "YAP1                            1    54.0  False\n",
       "RAB13                           1    23.0  False\n",
       "SF3B2                           1   111.0  False\n",
       "SYMPK                           1    63.0  False\n",
       "DERA                            1    56.0  False\n",
       "DHCR24                          1    21.0  False\n",
       "TUBAL3                          1    29.0  False\n",
       "DICER1                          1    64.0   True\n",
       "PVR                             1     9.0  False"
      ]
     },
     "execution_count": 23,
     "metadata": {},
     "output_type": "execute_result"
    }
   ],
   "source": [
    "data_genes.sort_values(by=[\"Tumor_Sample_Barcode\"], ascending=True)[:10]"
   ]
  },
  {
   "cell_type": "code",
   "execution_count": null,
   "id": "eb933847",
   "metadata": {},
   "outputs": [],
   "source": []
  }
 ],
 "metadata": {
  "kernelspec": {
   "display_name": "Python 3 (ipykernel)",
   "language": "python",
   "name": "python3"
  },
  "language_info": {
   "codemirror_mode": {
    "name": "ipython",
    "version": 3
   },
   "file_extension": ".py",
   "mimetype": "text/x-python",
   "name": "python",
   "nbconvert_exporter": "python",
   "pygments_lexer": "ipython3",
   "version": "3.7.11"
  }
 },
 "nbformat": 4,
 "nbformat_minor": 5
}
