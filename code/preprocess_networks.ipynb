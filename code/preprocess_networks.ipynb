{
 "cells": [
  {
   "cell_type": "markdown",
   "metadata": {},
   "source": [
    "# Pre-process networks\n"
   ]
  },
  {
   "cell_type": "code",
   "execution_count": 1,
   "metadata": {},
   "outputs": [],
   "source": [
    "import pandas as pd\n",
    "import os\n",
    "import networkx as nx\n",
    "import numpy as np\n",
    "import pickle as pkl"
   ]
  },
  {
   "cell_type": "code",
   "execution_count": 3,
   "metadata": {},
   "outputs": [],
   "source": [
    "PATH = \"D:/Projects/cTaG2.0\"\n",
    "DATAPATH = \"D:/Projects/data/cTaG2.0\"\n",
    "\n",
    "# PATH = \"/data/malvika/cTaG2.0\"\n",
    "# DATAPATH = \"/data/malvika/data/cTaG2.0\""
   ]
  },
  {
   "cell_type": "markdown",
   "metadata": {},
   "source": [
    "The cut-off taken as 700, which corresponds to 0.7 confidence score. String db suggests 0.9 for very high cut-off and 0.7 high confidence."
   ]
  },
  {
   "cell_type": "code",
   "execution_count": 4,
   "metadata": {},
   "outputs": [
    {
     "name": "stdout",
     "output_type": "stream",
     "text": [
      "Wall time: 38.2 s\n"
     ]
    }
   ],
   "source": [
    "%%time\n",
    "# Load data\n",
    "os.chdir(DATAPATH + \"/network\")\n",
    "fname=\"9606.protein.links.detailed.v11.5.txt.gz.inproc\"\n",
    "data_string = pd.read_csv(fname, sep=\" \", header=0)\n",
    "data_string = data_string[(data_string.experimental > 700) | (data_string.database >700)]"
   ]
  },
  {
   "cell_type": "code",
   "execution_count": 5,
   "metadata": {},
   "outputs": [
    {
     "data": {
      "text/plain": [
       "(260786, 10)"
      ]
     },
     "execution_count": 5,
     "metadata": {},
     "output_type": "execute_result"
    }
   ],
   "source": [
    "data_string.shape"
   ]
  },
  {
   "cell_type": "code",
   "execution_count": 6,
   "metadata": {},
   "outputs": [
    {
     "name": "stdout",
     "output_type": "stream",
     "text": [
      "Wall time: 15.3 s\n"
     ]
    }
   ],
   "source": [
    "%%time\n",
    "# load network\n",
    "os.chdir(DATAPATH + \"/network\")\n",
    "fname = \"9606.protein.aliases.v11.5.txt\"\n",
    "data_map = pd.read_csv(fname, sep=\"\\t\", header=0)\n",
    "data_map = data_map[data_map.source == \"BioMart_HUGO\"]\n",
    "data_map.drop_duplicates(subset=[\"#string_protein_id\"], keep=False, inplace=True)\n",
    "data_map.index = data_map[\"#string_protein_id\"]\n",
    "\n",
    "temp = [data_map.loc[x, \"alias\"] if x in data_map.index else np.nan for x in data_string.protein1]\n",
    "data_string[\"gene1\"] = temp\n",
    "temp = [data_map.loc[x, \"alias\"] if x in data_map.index else np.nan for x in data_string.protein2]\n",
    "data_string[\"gene2\"] = temp\n",
    "data_string = data_string.dropna(axis=0)"
   ]
  },
  {
   "cell_type": "markdown",
   "metadata": {},
   "source": [
    "### Define graph for PPI network"
   ]
  },
  {
   "cell_type": "code",
   "execution_count": 7,
   "metadata": {},
   "outputs": [],
   "source": [
    "G = nx.Graph()\n",
    "G = nx.from_pandas_edgelist(data_string, 'gene1', 'gene2',\n",
    "                            edge_attr=['experimental', 'database', 'combined_score'])"
   ]
  },
  {
   "cell_type": "markdown",
   "metadata": {},
   "source": [
    "### Degree of nodes"
   ]
  },
  {
   "cell_type": "code",
   "execution_count": 9,
   "metadata": {},
   "outputs": [
    {
     "name": "stdout",
     "output_type": "stream",
     "text": [
      "CPU times: user 193 ms, sys: 12.1 ms, total: 205 ms\n",
      "Wall time: 200 ms\n"
     ]
    }
   ],
   "source": [
    "%%time\n",
    "deg = G.degree()\n",
    "os.chdir(PATH + \"/data/network\")\n",
    "fname = \"string_degree.pkl\"\n",
    "with open(fname, 'wb') as f:\n",
    "    pkl.dump(deg, f)"
   ]
  },
  {
   "cell_type": "markdown",
   "metadata": {},
   "source": [
    "### Closeness centrality"
   ]
  },
  {
   "cell_type": "code",
   "execution_count": 10,
   "metadata": {},
   "outputs": [
    {
     "name": "stdout",
     "output_type": "stream",
     "text": [
      "CPU times: user 4min 16s, sys: 182 ms, total: 4min 16s\n",
      "Wall time: 4min 16s\n"
     ]
    }
   ],
   "source": [
    "%%time\n",
    "cc = nx.closeness_centrality(G)\n",
    "os.chdir(PATH + \"/data/network\")\n",
    "fname = \"string_cc.pkl\"\n",
    "with open(fname, 'wb') as f:\n",
    "    pkl.dump(cc, f)"
   ]
  },
  {
   "cell_type": "markdown",
   "metadata": {},
   "source": [
    "### Betweeness centrality"
   ]
  },
  {
   "cell_type": "code",
   "execution_count": 11,
   "metadata": {},
   "outputs": [
    {
     "name": "stdout",
     "output_type": "stream",
     "text": [
      "CPU times: user 31min 10s, sys: 1.64 s, total: 31min 12s\n",
      "Wall time: 31min 12s\n"
     ]
    }
   ],
   "source": [
    "%%time\n",
    "bc = nx.betweenness_centrality(G, k=int(G.number_of_nodes()/2), weight='combined_score')\n",
    "os.chdir(PATH + \"/data/network\")\n",
    "fname = \"string_bc.pkl\"\n",
    "with open(fname, 'wb') as f:\n",
    "    pkl.dump(bc, f)"
   ]
  },
  {
   "cell_type": "markdown",
   "metadata": {},
   "source": [
    "### Neighbours of genes"
   ]
  },
  {
   "cell_type": "code",
   "execution_count": 8,
   "metadata": {},
   "outputs": [],
   "source": [
    "def getneighbors(gene, G, n = 1):\n",
    "    \"\"\"\n",
    "    \n",
    "\n",
    "    Parameters\n",
    "    ----------\n",
    "    gene : TYPE\n",
    "        DESCRIPTION.\n",
    "    G : TYPE\n",
    "        DESCRIPTION.\n",
    "    n : TYPE, optional\n",
    "        DESCRIPTION. The default is 1.\n",
    "\n",
    "    Returns\n",
    "    -------\n",
    "    None.\n",
    "\n",
    "    \"\"\"\n",
    "    neighbors = [None] * n\n",
    "    for i in range(n):\n",
    "        if i == 0:\n",
    "            neighbors[i] = list(G.neighbors(gene))\n",
    "        else:           \n",
    "            for g in neighbors[i - 1]:\n",
    "                if neighbors[i] is None:\n",
    "                    neighbors[i] =  list(G.neighbors(g))\n",
    "                else:\n",
    "                    neighbors[i] =  neighbors[i] + list(G.neighbors(g))\n",
    "    return [n for neigh in neighbors for n in neigh]"
   ]
  },
  {
   "cell_type": "markdown",
   "metadata": {},
   "source": [
    "While the networkx package can be used to find immediate neighbours of a gene, for generation of RNA features we require all the neighbours at 1 to n steps. The function defined above helps find all neighbours at >=n steps.\n",
    "\n",
    "Given below is a code for generating a dictionary for nodes in graph and their neighbours. the value of n can be changed as desired. The file is uploaded for generating RNA features."
   ]
  },
  {
   "cell_type": "code",
   "execution_count": 10,
   "metadata": {},
   "outputs": [
    {
     "name": "stdout",
     "output_type": "stream",
     "text": [
      "Wall time: 7.18 s\n"
     ]
    }
   ],
   "source": [
    "%%time\n",
    "n = 2\n",
    "neighbors = {}\n",
    "for gene in G.nodes:\n",
    "    neighbors[gene] = getneighbors(gene, G, n = n)\n",
    "os.chdir(PATH + \"/data/network\")\n",
    "fname = \"string_neigh_{}.pkl\".format(n)\n",
    "with open(fname, 'wb') as f:\n",
    "    pkl.dump(neighbors, f)"
   ]
  },
  {
   "cell_type": "markdown",
   "metadata": {},
   "source": [
    "### Save network"
   ]
  },
  {
   "cell_type": "code",
   "execution_count": 12,
   "metadata": {},
   "outputs": [],
   "source": [
    "os.chdir(PATH + \"/data/network\")\n",
    "fname = \"string_graph.pkl\"\n",
    "with open(fname, 'wb') as f:\n",
    "    pkl.dump(G, f)"
   ]
  },
  {
   "cell_type": "code",
   "execution_count": null,
   "metadata": {},
   "outputs": [],
   "source": []
  },
  {
   "cell_type": "code",
   "execution_count": null,
   "metadata": {},
   "outputs": [],
   "source": []
  },
  {
   "cell_type": "code",
   "execution_count": null,
   "metadata": {},
   "outputs": [],
   "source": []
  },
  {
   "cell_type": "code",
   "execution_count": null,
   "metadata": {},
   "outputs": [],
   "source": []
  },
  {
   "cell_type": "code",
   "execution_count": 5,
   "metadata": {},
   "outputs": [],
   "source": [
    "data_string = data_string.sample(frac=0.2).reset_index(drop=True)"
   ]
  },
  {
   "cell_type": "code",
   "execution_count": 6,
   "metadata": {},
   "outputs": [
    {
     "data": {
      "text/plain": [
       "(52157, 10)"
      ]
     },
     "execution_count": 6,
     "metadata": {},
     "output_type": "execute_result"
    }
   ],
   "source": [
    "data_string.shape"
   ]
  },
  {
   "cell_type": "code",
   "execution_count": 5,
   "metadata": {},
   "outputs": [
    {
     "data": {
      "text/plain": [
       "0"
      ]
     },
     "execution_count": 5,
     "metadata": {},
     "output_type": "execute_result"
    }
   ],
   "source": [
    "data_string.experimental.min()"
   ]
  },
  {
   "cell_type": "code",
   "execution_count": 6,
   "metadata": {},
   "outputs": [
    {
     "data": {
      "text/plain": [
       "999"
      ]
     },
     "execution_count": 6,
     "metadata": {},
     "output_type": "execute_result"
    }
   ],
   "source": [
    "data_string.experimental.max()"
   ]
  },
  {
   "cell_type": "code",
   "execution_count": 7,
   "metadata": {},
   "outputs": [
    {
     "data": {
      "text/plain": [
       "(258882, 12)"
      ]
     },
     "execution_count": 7,
     "metadata": {},
     "output_type": "execute_result"
    }
   ],
   "source": [
    "data_string.shape"
   ]
  },
  {
   "cell_type": "code",
   "execution_count": 8,
   "metadata": {},
   "outputs": [
    {
     "data": {
      "text/plain": [
       "(98130, 12)"
      ]
     },
     "execution_count": 8,
     "metadata": {},
     "output_type": "execute_result"
    }
   ],
   "source": [
    "data_string[data_string.experimental >700].shape"
   ]
  },
  {
   "cell_type": "code",
   "execution_count": 5,
   "metadata": {},
   "outputs": [
    {
     "data": {
      "text/plain": [
       "(193660, 10)"
      ]
     },
     "execution_count": 5,
     "metadata": {},
     "output_type": "execute_result"
    }
   ],
   "source": [
    "data_string[data_string.database >700].shape"
   ]
  },
  {
   "cell_type": "code",
   "execution_count": 9,
   "metadata": {},
   "outputs": [
    {
     "data": {
      "text/plain": [
       "291790"
      ]
     },
     "execution_count": 9,
     "metadata": {},
     "output_type": "execute_result"
    }
   ],
   "source": [
    "98130+193660"
   ]
  },
  {
   "cell_type": "code",
   "execution_count": 11,
   "metadata": {},
   "outputs": [
    {
     "data": {
      "text/plain": [
       "(258882, 12)"
      ]
     },
     "execution_count": 11,
     "metadata": {},
     "output_type": "execute_result"
    }
   ],
   "source": [
    "data_string[(data_string.experimental > 700) | (data_string.database >700)].shape"
   ]
  },
  {
   "cell_type": "code",
   "execution_count": 7,
   "metadata": {},
   "outputs": [
    {
     "data": {
      "text/plain": [
       "Index(['protein1', 'protein2', 'neighborhood', 'fusion', 'cooccurence',\n",
       "       'coexpression', 'experimental', 'database', 'textmining',\n",
       "       'combined_score'],\n",
       "      dtype='object')"
      ]
     },
     "execution_count": 7,
     "metadata": {},
     "output_type": "execute_result"
    }
   ],
   "source": [
    "data_string.columns"
   ]
  },
  {
   "cell_type": "code",
   "execution_count": 12,
   "metadata": {},
   "outputs": [
    {
     "data": {
      "text/plain": [
       "(11164,)"
      ]
     },
     "execution_count": 12,
     "metadata": {},
     "output_type": "execute_result"
    }
   ],
   "source": [
    "data_string[(data_string.experimental > 700) | (data_string.database >700)].gene1.unique().shape"
   ]
  },
  {
   "cell_type": "code",
   "execution_count": 21,
   "metadata": {},
   "outputs": [
    {
     "data": {
      "text/plain": [
       "(11164,)"
      ]
     },
     "execution_count": 21,
     "metadata": {},
     "output_type": "execute_result"
    }
   ],
   "source": [
    "data_string[(data_string.experimental > 700) | (data_string.database > 700)].gene2.unique().shape"
   ]
  },
  {
   "cell_type": "code",
   "execution_count": 44,
   "metadata": {},
   "outputs": [
    {
     "data": {
      "text/plain": [
       "11164"
      ]
     },
     "execution_count": 44,
     "metadata": {},
     "output_type": "execute_result"
    }
   ],
   "source": [
    "len(set(data_string[(data_string.experimental > 700) | (data_string.database >700)].gene1.unique()).union(data_string[(data_string.experimental > 700) | (data_string.database >700)].gene2.unique()))"
   ]
  },
  {
   "cell_type": "code",
   "execution_count": 45,
   "metadata": {},
   "outputs": [],
   "source": [
    "G = nx.Graph()\n",
    "\n",
    "data_temp = data_string[(data_string.experimental > 0.7) & (data_string.database > 0.7)]"
   ]
  },
  {
   "cell_type": "code",
   "execution_count": 46,
   "metadata": {},
   "outputs": [
    {
     "data": {
      "text/plain": [
       "(180874, 12)"
      ]
     },
     "execution_count": 46,
     "metadata": {},
     "output_type": "execute_result"
    }
   ],
   "source": [
    "data_temp.shape"
   ]
  },
  {
   "cell_type": "code",
   "execution_count": 33,
   "metadata": {},
   "outputs": [
    {
     "data": {
      "text/plain": [
       "(11741814, 12)"
      ]
     },
     "execution_count": 33,
     "metadata": {},
     "output_type": "execute_result"
    }
   ],
   "source": [
    "data_string.shape"
   ]
  },
  {
   "cell_type": "code",
   "execution_count": 22,
   "metadata": {},
   "outputs": [
    {
     "data": {
      "text/plain": [
       "(34334, 12)"
      ]
     },
     "execution_count": 22,
     "metadata": {},
     "output_type": "execute_result"
    }
   ],
   "source": [
    "data_temp = data_string[(data_string.experimental > 900) | (data_string.database > 900)]\n",
    "data_temp.shape"
   ]
  },
  {
   "cell_type": "code",
   "execution_count": 15,
   "metadata": {},
   "outputs": [],
   "source": [
    "import matplotlib.pyplot as plt\n",
    "import seaborn as sns"
   ]
  },
  {
   "cell_type": "code",
   "execution_count": 27,
   "metadata": {},
   "outputs": [
    {
     "data": {
      "text/plain": [
       "(array([6.904228e+06, 0.000000e+00, 0.000000e+00, 0.000000e+00,\n",
       "        3.566000e+03, 6.320940e+05, 2.896060e+05, 3.134720e+05,\n",
       "        5.350000e+04, 6.545800e+04, 2.942620e+05, 1.367960e+05,\n",
       "        1.608020e+05, 2.966200e+05, 4.462820e+05, 4.620940e+05,\n",
       "        2.676400e+05, 2.085720e+05, 1.527840e+05, 3.254600e+04,\n",
       "        3.196600e+04, 1.222240e+05, 3.702600e+04, 3.351200e+04,\n",
       "        1.111420e+05, 5.112800e+04, 2.160800e+04, 2.014100e+05,\n",
       "        3.901800e+04, 2.330800e+04, 1.200400e+04, 1.576200e+04,\n",
       "        1.022200e+04, 1.066400e+04, 3.326000e+04, 8.942000e+03,\n",
       "        2.614800e+04, 7.316000e+03, 1.179000e+04, 9.668000e+03,\n",
       "        6.382000e+03, 4.456000e+03, 4.130000e+03, 3.682000e+03,\n",
       "        1.672000e+03, 2.036000e+03, 4.052000e+03, 3.964000e+03,\n",
       "        9.108000e+03, 5.362000e+03, 3.696000e+03, 1.492000e+03,\n",
       "        7.152000e+03, 4.828000e+03, 2.242000e+03, 3.628000e+03,\n",
       "        1.868000e+03, 1.508000e+03, 1.340000e+03, 1.360000e+03,\n",
       "        2.378000e+03, 3.714000e+03, 2.416000e+03, 2.390000e+03,\n",
       "        2.628000e+03, 2.172000e+03, 2.148000e+03, 4.752000e+03,\n",
       "        5.482000e+03, 2.946000e+03, 3.550000e+03, 1.878000e+03,\n",
       "        2.688000e+03, 2.502000e+03, 2.572000e+03, 1.718000e+03,\n",
       "        1.808000e+03, 1.944000e+03, 6.202000e+03, 1.070000e+03,\n",
       "        8.884000e+03, 2.840000e+03, 5.532000e+03, 2.914000e+03,\n",
       "        4.718000e+03, 1.808000e+03, 2.590000e+03, 4.506000e+03,\n",
       "        2.244000e+03, 1.880000e+03, 2.690000e+03, 2.022000e+03,\n",
       "        2.028000e+03, 3.292000e+03, 2.542000e+03, 3.046000e+03,\n",
       "        1.702000e+03, 2.778000e+03, 4.614000e+03, 9.828000e+03]),\n",
       " array([  0.  ,   9.99,  19.98,  29.97,  39.96,  49.95,  59.94,  69.93,\n",
       "         79.92,  89.91,  99.9 , 109.89, 119.88, 129.87, 139.86, 149.85,\n",
       "        159.84, 169.83, 179.82, 189.81, 199.8 , 209.79, 219.78, 229.77,\n",
       "        239.76, 249.75, 259.74, 269.73, 279.72, 289.71, 299.7 , 309.69,\n",
       "        319.68, 329.67, 339.66, 349.65, 359.64, 369.63, 379.62, 389.61,\n",
       "        399.6 , 409.59, 419.58, 429.57, 439.56, 449.55, 459.54, 469.53,\n",
       "        479.52, 489.51, 499.5 , 509.49, 519.48, 529.47, 539.46, 549.45,\n",
       "        559.44, 569.43, 579.42, 589.41, 599.4 , 609.39, 619.38, 629.37,\n",
       "        639.36, 649.35, 659.34, 669.33, 679.32, 689.31, 699.3 , 709.29,\n",
       "        719.28, 729.27, 739.26, 749.25, 759.24, 769.23, 779.22, 789.21,\n",
       "        799.2 , 809.19, 819.18, 829.17, 839.16, 849.15, 859.14, 869.13,\n",
       "        879.12, 889.11, 899.1 , 909.09, 919.08, 929.07, 939.06, 949.05,\n",
       "        959.04, 969.03, 979.02, 989.01, 999.  ]),\n",
       " <a list of 100 Patch objects>)"
      ]
     },
     "execution_count": 27,
     "metadata": {},
     "output_type": "execute_result"
    },
    {
     "data": {
      "image/png": "[encoded data removed]",
      "text/plain": [
       "<Figure size 432x288 with 1 Axes>"
      ]
     },
     "metadata": {
      "needs_background": "light"
     },
     "output_type": "display_data"
    }
   ],
   "source": [
    "plt.hist(data_string.experimental, bins=100)"
   ]
  },
  {
   "cell_type": "code",
   "execution_count": 28,
   "metadata": {},
   "outputs": [
    {
     "data": {
      "text/plain": [
       "(array([1.134149e+07, 0.000000e+00, 0.000000e+00, 0.000000e+00,\n",
       "        0.000000e+00, 0.000000e+00, 0.000000e+00, 0.000000e+00,\n",
       "        0.000000e+00, 0.000000e+00, 0.000000e+00, 0.000000e+00,\n",
       "        0.000000e+00, 0.000000e+00, 0.000000e+00, 0.000000e+00,\n",
       "        0.000000e+00, 0.000000e+00, 0.000000e+00, 0.000000e+00,\n",
       "        0.000000e+00, 0.000000e+00, 0.000000e+00, 0.000000e+00,\n",
       "        0.000000e+00, 0.000000e+00, 0.000000e+00, 0.000000e+00,\n",
       "        0.000000e+00, 0.000000e+00, 0.000000e+00, 0.000000e+00,\n",
       "        0.000000e+00, 7.630000e+03, 0.000000e+00, 0.000000e+00,\n",
       "        0.000000e+00, 0.000000e+00, 0.000000e+00, 0.000000e+00,\n",
       "        6.442000e+03, 0.000000e+00, 0.000000e+00, 0.000000e+00,\n",
       "        0.000000e+00, 0.000000e+00, 0.000000e+00, 0.000000e+00,\n",
       "        0.000000e+00, 0.000000e+00, 0.000000e+00, 0.000000e+00,\n",
       "        0.000000e+00, 0.000000e+00, 0.000000e+00, 1.164000e+04,\n",
       "        0.000000e+00, 0.000000e+00, 0.000000e+00, 0.000000e+00,\n",
       "        2.333200e+04, 0.000000e+00, 0.000000e+00, 0.000000e+00,\n",
       "        0.000000e+00, 0.000000e+00, 1.305580e+05, 0.000000e+00,\n",
       "        0.000000e+00, 0.000000e+00, 0.000000e+00, 0.000000e+00,\n",
       "        2.760200e+04, 0.000000e+00, 0.000000e+00, 0.000000e+00,\n",
       "        0.000000e+00, 0.000000e+00, 0.000000e+00, 0.000000e+00,\n",
       "        1.043400e+04, 0.000000e+00, 0.000000e+00, 0.000000e+00,\n",
       "        0.000000e+00, 0.000000e+00, 0.000000e+00, 0.000000e+00,\n",
       "        3.765600e+04, 0.000000e+00, 0.000000e+00, 0.000000e+00,\n",
       "        0.000000e+00, 0.000000e+00, 0.000000e+00, 0.000000e+00,\n",
       "        0.000000e+00, 0.000000e+00, 0.000000e+00, 1.450300e+05]),\n",
       " array([  0.,   9.,  18.,  27.,  36.,  45.,  54.,  63.,  72.,  81.,  90.,\n",
       "         99., 108., 117., 126., 135., 144., 153., 162., 171., 180., 189.,\n",
       "        198., 207., 216., 225., 234., 243., 252., 261., 270., 279., 288.,\n",
       "        297., 306., 315., 324., 333., 342., 351., 360., 369., 378., 387.,\n",
       "        396., 405., 414., 423., 432., 441., 450., 459., 468., 477., 486.,\n",
       "        495., 504., 513., 522., 531., 540., 549., 558., 567., 576., 585.,\n",
       "        594., 603., 612., 621., 630., 639., 648., 657., 666., 675., 684.,\n",
       "        693., 702., 711., 720., 729., 738., 747., 756., 765., 774., 783.,\n",
       "        792., 801., 810., 819., 828., 837., 846., 855., 864., 873., 882.,\n",
       "        891., 900.]),\n",
       " <a list of 100 Patch objects>)"
      ]
     },
     "execution_count": 28,
     "metadata": {},
     "output_type": "execute_result"
    },
    {
     "data": {
      "image/png": "[encoded data removed]",
      "text/plain": [
       "<Figure size 432x288 with 1 Axes>"
      ]
     },
     "metadata": {
      "needs_background": "light"
     },
     "output_type": "display_data"
    }
   ],
   "source": [
    "plt.hist(data_string.database, bins=100)"
   ]
  },
  {
   "cell_type": "code",
   "execution_count": 18,
   "metadata": {},
   "outputs": [
    {
     "data": {
      "text/plain": [
       "{'boxes': [<matplotlib.lines.Line2D at 0x7fa655038190>],\n",
       " 'caps': [<matplotlib.lines.Line2D at 0x7fa6550ca410>,\n",
       "  <matplotlib.lines.Line2D at 0x7fa6550c7950>],\n",
       " 'fliers': [<matplotlib.lines.Line2D at 0x7fa6550c91d0>],\n",
       " 'means': [],\n",
       " 'medians': [<matplotlib.lines.Line2D at 0x7fa6550c7410>],\n",
       " 'whiskers': [<matplotlib.lines.Line2D at 0x7fa6550c9990>,\n",
       "  <matplotlib.lines.Line2D at 0x7fa6550c9390>]}"
      ]
     },
     "execution_count": 18,
     "metadata": {},
     "output_type": "execute_result"
    },
    {
     "data": {
      "image/png": "[encoded data removed]",
      "text/plain": [
       "<Figure size 432x288 with 1 Axes>"
      ]
     },
     "metadata": {
      "needs_background": "light"
     },
     "output_type": "display_data"
    }
   ],
   "source": [
    "plt.boxplot((data_string.experimental - data_string.experimental.min()) /data_string.experimental.max())"
   ]
  },
  {
   "cell_type": "code",
   "execution_count": null,
   "metadata": {},
   "outputs": [],
   "source": []
  }
 ],
 "metadata": {
  "kernelspec": {
   "display_name": "Python 3 (ipykernel)",
   "language": "python",
   "name": "python3"
  },
  "language_info": {
   "codemirror_mode": {
    "name": "ipython",
    "version": 3
   },
   "file_extension": ".py",
   "mimetype": "text/x-python",
   "name": "python",
   "nbconvert_exporter": "python",
   "pygments_lexer": "ipython3",
   "version": "3.8.12"
  }
 },
 "nbformat": 4,
 "nbformat_minor": 2
}
