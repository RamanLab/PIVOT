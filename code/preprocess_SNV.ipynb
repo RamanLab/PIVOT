{
 "cells": [
  {
   "cell_type": "markdown",
   "metadata": {},
   "source": [
    "# Preprocess somatic mutations file"
   ]
  },
  {
   "cell_type": "code",
   "execution_count": 1,
   "metadata": {},
   "outputs": [],
   "source": [
    "import os\n",
    "import pandas as pd\n",
    "import matplotlib.pyplot as plt\n",
    "import seaborn as sns\n",
    "import glob\n",
    "import re\n",
    "import numpy as np"
   ]
  },
  {
   "cell_type": "markdown",
   "metadata": {},
   "source": [
    "Set the path to save output files (PATH) and folder with data files (DATAPATH)"
   ]
  },
  {
   "cell_type": "code",
   "execution_count": 2,
   "metadata": {},
   "outputs": [],
   "source": [
    "PATH = \"D:/Projects/cTaG2.0\"\n",
    "DATAPATH = \"D:/Projects/data/cTaG2.0\""
   ]
  },
  {
   "cell_type": "markdown",
   "metadata": {},
   "source": [
    "### Uploading the maf file to generate annovar input file\n",
    "Upload the maf file"
   ]
  },
  {
   "cell_type": "code",
   "execution_count": 35,
   "metadata": {},
   "outputs": [],
   "source": [
    "os.chdir(DATAPATH + \"/GDC_TCGA/SNV/995c0111-d90b-4140-bee7-3845436c3b42\")\n",
    "fname = \"TCGA.BRCA.mutect.995c0111-d90b-4140-bee7-3845436c3b42.DR-10.0.somatic.maf\"\n",
    "data_snp=pd.read_csv(fname, sep=\"\\t\", comment=\"#\", low_memory=False)"
   ]
  },
  {
   "cell_type": "code",
   "execution_count": 36,
   "metadata": {},
   "outputs": [
    {
     "data": {
      "text/plain": [
       "(120988, 120)"
      ]
     },
     "execution_count": 36,
     "metadata": {},
     "output_type": "execute_result"
    }
   ],
   "source": [
    "data_snp.shape"
   ]
  },
  {
   "cell_type": "code",
   "execution_count": 37,
   "metadata": {},
   "outputs": [
    {
     "name": "stdout",
     "output_type": "stream",
     "text": [
      "Total number of samples = 986\n"
     ]
    }
   ],
   "source": [
    "print(\"Total number of samples = {}\".format(len(data_snp.Tumor_Sample_Barcode.unique())))"
   ]
  },
  {
   "cell_type": "code",
   "execution_count": 38,
   "metadata": {},
   "outputs": [
    {
     "data": {
      "text/html": [
       "<div>\n",
       "<style scoped>\n",
       "    .dataframe tbody tr th:only-of-type {\n",
       "        vertical-align: middle;\n",
       "    }\n",
       "\n",
       "    .dataframe tbody tr th {\n",
       "        vertical-align: top;\n",
       "    }\n",
       "\n",
       "    .dataframe thead th {\n",
       "        text-align: right;\n",
       "    }\n",
       "</style>\n",
       "<table border=\"1\" class=\"dataframe\">\n",
       "  <thead>\n",
       "    <tr style=\"text-align: right;\">\n",
       "      <th></th>\n",
       "      <th>Hugo_Symbol</th>\n",
       "      <th>Entrez_Gene_Id</th>\n",
       "      <th>Center</th>\n",
       "      <th>NCBI_Build</th>\n",
       "      <th>Chromosome</th>\n",
       "      <th>Start_Position</th>\n",
       "      <th>End_Position</th>\n",
       "      <th>Strand</th>\n",
       "      <th>Variant_Classification</th>\n",
       "      <th>Variant_Type</th>\n",
       "      <th>...</th>\n",
       "      <th>FILTER</th>\n",
       "      <th>CONTEXT</th>\n",
       "      <th>src_vcf_id</th>\n",
       "      <th>tumor_bam_uuid</th>\n",
       "      <th>normal_bam_uuid</th>\n",
       "      <th>case_id</th>\n",
       "      <th>GDC_FILTER</th>\n",
       "      <th>COSMIC</th>\n",
       "      <th>MC3_Overlap</th>\n",
       "      <th>GDC_Validation_Status</th>\n",
       "    </tr>\n",
       "  </thead>\n",
       "  <tbody>\n",
       "    <tr>\n",
       "      <th>0</th>\n",
       "      <td>USP24</td>\n",
       "      <td>23358</td>\n",
       "      <td>WUGSC</td>\n",
       "      <td>GRCh38</td>\n",
       "      <td>chr1</td>\n",
       "      <td>55159655</td>\n",
       "      <td>55159655</td>\n",
       "      <td>+</td>\n",
       "      <td>Missense_Mutation</td>\n",
       "      <td>SNP</td>\n",
       "      <td>...</td>\n",
       "      <td>panel_of_normals</td>\n",
       "      <td>CTGGATTGTAG</td>\n",
       "      <td>d083d669-6646-463b-853e-c58da8d06439</td>\n",
       "      <td>4374e19d-c5e7-49cf-8707-05ae5aeb7369</td>\n",
       "      <td>aadee87c-6a68-4580-bd10-64ac273b1e3d</td>\n",
       "      <td>0130d616-885e-4a6c-9d03-2f17dd692a05</td>\n",
       "      <td>common_in_exac;gdc_pon</td>\n",
       "      <td>NaN</td>\n",
       "      <td>True</td>\n",
       "      <td>Unknown</td>\n",
       "    </tr>\n",
       "    <tr>\n",
       "      <th>1</th>\n",
       "      <td>ERICH3</td>\n",
       "      <td>127254</td>\n",
       "      <td>WUGSC</td>\n",
       "      <td>GRCh38</td>\n",
       "      <td>chr1</td>\n",
       "      <td>74571494</td>\n",
       "      <td>74571494</td>\n",
       "      <td>+</td>\n",
       "      <td>Missense_Mutation</td>\n",
       "      <td>SNP</td>\n",
       "      <td>...</td>\n",
       "      <td>PASS</td>\n",
       "      <td>TTCCTCTACCA</td>\n",
       "      <td>d083d669-6646-463b-853e-c58da8d06439</td>\n",
       "      <td>4374e19d-c5e7-49cf-8707-05ae5aeb7369</td>\n",
       "      <td>aadee87c-6a68-4580-bd10-64ac273b1e3d</td>\n",
       "      <td>0130d616-885e-4a6c-9d03-2f17dd692a05</td>\n",
       "      <td>NaN</td>\n",
       "      <td>COSM1474194</td>\n",
       "      <td>True</td>\n",
       "      <td>Unknown</td>\n",
       "    </tr>\n",
       "    <tr>\n",
       "      <th>2</th>\n",
       "      <td>KIF26B</td>\n",
       "      <td>55083</td>\n",
       "      <td>WUGSC</td>\n",
       "      <td>GRCh38</td>\n",
       "      <td>chr1</td>\n",
       "      <td>245419680</td>\n",
       "      <td>245419680</td>\n",
       "      <td>+</td>\n",
       "      <td>Silent</td>\n",
       "      <td>SNP</td>\n",
       "      <td>...</td>\n",
       "      <td>PASS</td>\n",
       "      <td>GCCTCGCAGGG</td>\n",
       "      <td>d083d669-6646-463b-853e-c58da8d06439</td>\n",
       "      <td>4374e19d-c5e7-49cf-8707-05ae5aeb7369</td>\n",
       "      <td>aadee87c-6a68-4580-bd10-64ac273b1e3d</td>\n",
       "      <td>0130d616-885e-4a6c-9d03-2f17dd692a05</td>\n",
       "      <td>NaN</td>\n",
       "      <td>COSM1473725;COSM1473726</td>\n",
       "      <td>True</td>\n",
       "      <td>Unknown</td>\n",
       "    </tr>\n",
       "    <tr>\n",
       "      <th>3</th>\n",
       "      <td>USP34</td>\n",
       "      <td>9736</td>\n",
       "      <td>WUGSC</td>\n",
       "      <td>GRCh38</td>\n",
       "      <td>chr2</td>\n",
       "      <td>61189055</td>\n",
       "      <td>61189055</td>\n",
       "      <td>+</td>\n",
       "      <td>Silent</td>\n",
       "      <td>SNP</td>\n",
       "      <td>...</td>\n",
       "      <td>PASS</td>\n",
       "      <td>AAAGCGAGTGC</td>\n",
       "      <td>d083d669-6646-463b-853e-c58da8d06439</td>\n",
       "      <td>4374e19d-c5e7-49cf-8707-05ae5aeb7369</td>\n",
       "      <td>aadee87c-6a68-4580-bd10-64ac273b1e3d</td>\n",
       "      <td>0130d616-885e-4a6c-9d03-2f17dd692a05</td>\n",
       "      <td>NaN</td>\n",
       "      <td>COSM1483177</td>\n",
       "      <td>True</td>\n",
       "      <td>Unknown</td>\n",
       "    </tr>\n",
       "    <tr>\n",
       "      <th>4</th>\n",
       "      <td>ANTXR1</td>\n",
       "      <td>84168</td>\n",
       "      <td>WUGSC</td>\n",
       "      <td>GRCh38</td>\n",
       "      <td>chr2</td>\n",
       "      <td>69245305</td>\n",
       "      <td>69245305</td>\n",
       "      <td>+</td>\n",
       "      <td>Silent</td>\n",
       "      <td>SNP</td>\n",
       "      <td>...</td>\n",
       "      <td>PASS</td>\n",
       "      <td>TCCTCGCCGCC</td>\n",
       "      <td>d083d669-6646-463b-853e-c58da8d06439</td>\n",
       "      <td>4374e19d-c5e7-49cf-8707-05ae5aeb7369</td>\n",
       "      <td>aadee87c-6a68-4580-bd10-64ac273b1e3d</td>\n",
       "      <td>0130d616-885e-4a6c-9d03-2f17dd692a05</td>\n",
       "      <td>NaN</td>\n",
       "      <td>COSM1409122</td>\n",
       "      <td>True</td>\n",
       "      <td>Unknown</td>\n",
       "    </tr>\n",
       "  </tbody>\n",
       "</table>\n",
       "<p>5 rows × 120 columns</p>\n",
       "</div>"
      ],
      "text/plain": [
       "  Hugo_Symbol  Entrez_Gene_Id Center NCBI_Build Chromosome  Start_Position  \\\n",
       "0       USP24           23358  WUGSC     GRCh38       chr1        55159655   \n",
       "1      ERICH3          127254  WUGSC     GRCh38       chr1        74571494   \n",
       "2      KIF26B           55083  WUGSC     GRCh38       chr1       245419680   \n",
       "3       USP34            9736  WUGSC     GRCh38       chr2        61189055   \n",
       "4      ANTXR1           84168  WUGSC     GRCh38       chr2        69245305   \n",
       "\n",
       "   End_Position Strand Variant_Classification Variant_Type  ...  \\\n",
       "0      55159655      +      Missense_Mutation          SNP  ...   \n",
       "1      74571494      +      Missense_Mutation          SNP  ...   \n",
       "2     245419680      +                 Silent          SNP  ...   \n",
       "3      61189055      +                 Silent          SNP  ...   \n",
       "4      69245305      +                 Silent          SNP  ...   \n",
       "\n",
       "             FILTER      CONTEXT                            src_vcf_id  \\\n",
       "0  panel_of_normals  CTGGATTGTAG  d083d669-6646-463b-853e-c58da8d06439   \n",
       "1              PASS  TTCCTCTACCA  d083d669-6646-463b-853e-c58da8d06439   \n",
       "2              PASS  GCCTCGCAGGG  d083d669-6646-463b-853e-c58da8d06439   \n",
       "3              PASS  AAAGCGAGTGC  d083d669-6646-463b-853e-c58da8d06439   \n",
       "4              PASS  TCCTCGCCGCC  d083d669-6646-463b-853e-c58da8d06439   \n",
       "\n",
       "                         tumor_bam_uuid                       normal_bam_uuid  \\\n",
       "0  4374e19d-c5e7-49cf-8707-05ae5aeb7369  aadee87c-6a68-4580-bd10-64ac273b1e3d   \n",
       "1  4374e19d-c5e7-49cf-8707-05ae5aeb7369  aadee87c-6a68-4580-bd10-64ac273b1e3d   \n",
       "2  4374e19d-c5e7-49cf-8707-05ae5aeb7369  aadee87c-6a68-4580-bd10-64ac273b1e3d   \n",
       "3  4374e19d-c5e7-49cf-8707-05ae5aeb7369  aadee87c-6a68-4580-bd10-64ac273b1e3d   \n",
       "4  4374e19d-c5e7-49cf-8707-05ae5aeb7369  aadee87c-6a68-4580-bd10-64ac273b1e3d   \n",
       "\n",
       "                                case_id              GDC_FILTER  \\\n",
       "0  0130d616-885e-4a6c-9d03-2f17dd692a05  common_in_exac;gdc_pon   \n",
       "1  0130d616-885e-4a6c-9d03-2f17dd692a05                     NaN   \n",
       "2  0130d616-885e-4a6c-9d03-2f17dd692a05                     NaN   \n",
       "3  0130d616-885e-4a6c-9d03-2f17dd692a05                     NaN   \n",
       "4  0130d616-885e-4a6c-9d03-2f17dd692a05                     NaN   \n",
       "\n",
       "                    COSMIC  MC3_Overlap GDC_Validation_Status  \n",
       "0                      NaN         True               Unknown  \n",
       "1              COSM1474194         True               Unknown  \n",
       "2  COSM1473725;COSM1473726         True               Unknown  \n",
       "3              COSM1483177         True               Unknown  \n",
       "4              COSM1409122         True               Unknown  \n",
       "\n",
       "[5 rows x 120 columns]"
      ]
     },
     "execution_count": 38,
     "metadata": {},
     "output_type": "execute_result"
    }
   ],
   "source": [
    "data_snp.head()"
   ]
  },
  {
   "cell_type": "code",
   "execution_count": 39,
   "metadata": {},
   "outputs": [
    {
     "name": "stdout",
     "output_type": "stream",
     "text": [
      "Hugo_Symbol USP24\n",
      "Entrez_Gene_Id 23358\n",
      "Center WUGSC\n",
      "NCBI_Build GRCh38\n",
      "Chromosome chr1\n",
      "Start_Position 55159655\n",
      "End_Position 55159655\n",
      "Strand +\n",
      "Variant_Classification Missense_Mutation\n",
      "Variant_Type SNP\n",
      "Reference_Allele T\n",
      "Tumor_Seq_Allele1 T\n",
      "Tumor_Seq_Allele2 C\n",
      "dbSNP_RS rs150880897\n",
      "dbSNP_Val_Status by1000G;byCluster;byFrequency\n",
      "Tumor_Sample_Barcode TCGA-D8-A1XY-01A-11D-A14K-09\n",
      "Matched_Norm_Sample_Barcode TCGA-D8-A1XY-10A-01D-A14K-09\n",
      "Match_Norm_Seq_Allele1 nan\n",
      "Match_Norm_Seq_Allele2 nan\n",
      "Tumor_Validation_Allele1 nan\n",
      "Tumor_Validation_Allele2 nan\n",
      "Match_Norm_Validation_Allele1 nan\n",
      "Match_Norm_Validation_Allele2 nan\n",
      "Verification_Status nan\n",
      "Validation_Status nan\n",
      "Mutation_Status Somatic\n",
      "Sequencing_Phase nan\n",
      "Sequence_Source nan\n",
      "Validation_Method nan\n",
      "Score nan\n",
      "BAM_File nan\n",
      "Sequencer Illumina HiSeq 2000\n",
      "Tumor_Sample_UUID edb6d161-8f50-4c11-8246-487c4ea9a55d\n",
      "Matched_Norm_Sample_UUID 8dea96d9-5017-4872-a84e-33bfd2f37b7a\n",
      "HGVSc c.1024A>G\n",
      "HGVSp p.Ile342Val\n",
      "HGVSp_Short p.I342V\n",
      "Transcript_ID ENST00000294383\n",
      "Exon_Number 9/68\n",
      "t_depth 82\n",
      "t_ref_count 49\n",
      "t_alt_count 33\n",
      "n_depth 126\n",
      "n_ref_count nan\n",
      "n_alt_count nan\n",
      "all_effects USP24,missense_variant,p.I342V,ENST00000294383,NM_015306.2,c.1024A>G,MODERATE,YES,tolerated(0.37),benign(0.003),-1\n",
      "Allele C\n",
      "Gene ENSG00000162402\n",
      "Feature ENST00000294383\n",
      "Feature_type Transcript\n",
      "One_Consequence missense_variant\n",
      "Consequence missense_variant\n",
      "cDNA_position 1024/10549\n",
      "CDS_position 1024/7863\n",
      "Protein_position 342/2620\n",
      "Amino_acids I/V\n",
      "Codons Atc/Gtc\n",
      "Existing_variation rs150880897\n",
      "ALLELE_NUM 1\n",
      "DISTANCE nan\n",
      "TRANSCRIPT_STRAND -1.0\n",
      "SYMBOL USP24\n",
      "SYMBOL_SOURCE HGNC\n",
      "HGNC_ID HGNC:12623\n",
      "BIOTYPE protein_coding\n",
      "CANONICAL YES\n",
      "CCDS CCDS44154.2\n",
      "ENSP ENSP00000294383\n",
      "SWISSPROT Q9UPU5\n",
      "TREMBL nan\n",
      "UNIPARC UPI000059CFDE\n",
      "RefSeq NM_015306.2\n",
      "SIFT tolerated(0.37)\n",
      "PolyPhen benign(0.003)\n",
      "EXON 9/68\n",
      "INTRON nan\n",
      "DOMAINS nan\n",
      "GMAF 0.002\n",
      "AFR_MAF 0.0076\n",
      "AMR_MAF 0.0\n",
      "ASN_MAF nan\n",
      "EAS_MAF 0.0\n",
      "EUR_MAF 0.0\n",
      "SAS_MAF 0.0\n",
      "AA_MAF 0.0059\n",
      "EA_MAF 0.0005\n",
      "CLIN_SIG nan\n",
      "SOMATIC nan\n",
      "PUBMED nan\n",
      "MOTIF_NAME nan\n",
      "MOTIF_POS nan\n",
      "HIGH_INF_POS nan\n",
      "MOTIF_SCORE_CHANGE nan\n",
      "IMPACT MODERATE\n",
      "PICK 1.0\n",
      "VARIANT_CLASS SNV\n",
      "TSL 5.0\n",
      "HGVS_OFFSET nan\n",
      "PHENO nan\n",
      "MINIMISED 1\n",
      "ExAC_AF 0.0007146\n",
      "ExAC_AF_Adj 0.002251\n",
      "ExAC_AF_AFR 0.00947\n",
      "ExAC_AF_AMR 0.0\n",
      "ExAC_AF_EAS 0.0\n",
      "ExAC_AF_FIN 0.0\n",
      "ExAC_AF_NFE 0.002752\n",
      "ExAC_AF_OTH 0.003676\n",
      "ExAC_AF_SAS 0.0\n",
      "GENE_PHENO nan\n",
      "FILTER panel_of_normals\n",
      "CONTEXT CTGGATTGTAG\n",
      "src_vcf_id d083d669-6646-463b-853e-c58da8d06439\n",
      "tumor_bam_uuid 4374e19d-c5e7-49cf-8707-05ae5aeb7369\n",
      "normal_bam_uuid aadee87c-6a68-4580-bd10-64ac273b1e3d\n",
      "case_id 0130d616-885e-4a6c-9d03-2f17dd692a05\n",
      "GDC_FILTER common_in_exac;gdc_pon\n",
      "COSMIC nan\n",
      "MC3_Overlap True\n",
      "GDC_Validation_Status Unknown\n"
     ]
    }
   ],
   "source": [
    "for col in data_snp.columns:\n",
    "    print(col, data_snp.loc[0,col])"
   ]
  },
  {
   "cell_type": "markdown",
   "metadata": {},
   "source": [
    "Generate input file for ANNOVAR"
   ]
  },
  {
   "cell_type": "code",
   "execution_count": 40,
   "metadata": {},
   "outputs": [
    {
     "data": {
      "text/html": [
       "<div>\n",
       "<style scoped>\n",
       "    .dataframe tbody tr th:only-of-type {\n",
       "        vertical-align: middle;\n",
       "    }\n",
       "\n",
       "    .dataframe tbody tr th {\n",
       "        vertical-align: top;\n",
       "    }\n",
       "\n",
       "    .dataframe thead th {\n",
       "        text-align: right;\n",
       "    }\n",
       "</style>\n",
       "<table border=\"1\" class=\"dataframe\">\n",
       "  <thead>\n",
       "    <tr style=\"text-align: right;\">\n",
       "      <th></th>\n",
       "      <th>Chromosome</th>\n",
       "      <th>Start_Position</th>\n",
       "      <th>End_Position</th>\n",
       "      <th>Reference_Allele</th>\n",
       "      <th>Tumor_Seq_Allele2</th>\n",
       "    </tr>\n",
       "  </thead>\n",
       "  <tbody>\n",
       "    <tr>\n",
       "      <th>0</th>\n",
       "      <td>1</td>\n",
       "      <td>55159655</td>\n",
       "      <td>55159655</td>\n",
       "      <td>T</td>\n",
       "      <td>C</td>\n",
       "    </tr>\n",
       "    <tr>\n",
       "      <th>1</th>\n",
       "      <td>1</td>\n",
       "      <td>74571494</td>\n",
       "      <td>74571494</td>\n",
       "      <td>C</td>\n",
       "      <td>T</td>\n",
       "    </tr>\n",
       "    <tr>\n",
       "      <th>2</th>\n",
       "      <td>1</td>\n",
       "      <td>245419680</td>\n",
       "      <td>245419680</td>\n",
       "      <td>G</td>\n",
       "      <td>T</td>\n",
       "    </tr>\n",
       "    <tr>\n",
       "      <th>3</th>\n",
       "      <td>2</td>\n",
       "      <td>61189055</td>\n",
       "      <td>61189055</td>\n",
       "      <td>G</td>\n",
       "      <td>C</td>\n",
       "    </tr>\n",
       "    <tr>\n",
       "      <th>4</th>\n",
       "      <td>2</td>\n",
       "      <td>69245305</td>\n",
       "      <td>69245305</td>\n",
       "      <td>G</td>\n",
       "      <td>A</td>\n",
       "    </tr>\n",
       "  </tbody>\n",
       "</table>\n",
       "</div>"
      ],
      "text/plain": [
       "  Chromosome  Start_Position  End_Position Reference_Allele Tumor_Seq_Allele2\n",
       "0          1        55159655      55159655                T                 C\n",
       "1          1        74571494      74571494                C                 T\n",
       "2          1       245419680     245419680                G                 T\n",
       "3          2        61189055      61189055                G                 C\n",
       "4          2        69245305      69245305                G                 A"
      ]
     },
     "execution_count": 40,
     "metadata": {},
     "output_type": "execute_result"
    }
   ],
   "source": [
    "data_annovar = data_snp.loc[:,[\"Chromosome\", \"Start_Position\", \"End_Position\", \"Reference_Allele\", \"Tumor_Seq_Allele2\"]]\n",
    "data_annovar.Chromosome = [x[3:] for x in data_annovar.Chromosome]\n",
    "data_annovar.head()"
   ]
  },
  {
   "cell_type": "code",
   "execution_count": 188,
   "metadata": {},
   "outputs": [
    {
     "data": {
      "text/plain": [
       "3739"
      ]
     },
     "execution_count": 188,
     "metadata": {},
     "output_type": "execute_result"
    }
   ],
   "source": [
    "# check end positions\n",
    "temp=[]\n",
    "for s,e,r,a in zip(data_annovar.Start_Position, data_annovar.End_Position, data_annovar.Reference_Allele, data_annovar.Tumor_Seq_Allele2):\n",
    "    if s == e and len(r) == 1:\n",
    "        temp.append(True)\n",
    "    elif e-s == len(r) - 1:\n",
    "        temp.append(True)\n",
    "    else:\n",
    "        temp.append(False)\n",
    "temp.count(False)\n",
    "        \n"
   ]
  },
  {
   "cell_type": "code",
   "execution_count": 189,
   "metadata": {},
   "outputs": [
    {
     "data": {
      "text/plain": [
       "5209"
      ]
     },
     "execution_count": 189,
     "metadata": {},
     "output_type": "execute_result"
    }
   ],
   "source": [
    "len(data_annovar[data_annovar.Tumor_Seq_Allele2 == \"-\"])"
   ]
  },
  {
   "cell_type": "code",
   "execution_count": 190,
   "metadata": {},
   "outputs": [],
   "source": [
    "os.chdir(DATAPATH + \"/GDC_TCGA/SNV\")\n",
    "fname=\"brca_snp.avinput\"\n",
    "data_annovar.to_csv(fname, sep=\"\\t\", header=False, index=False)"
   ]
  },
  {
   "cell_type": "markdown",
   "metadata": {},
   "source": [
    "## Run ANNOVAR\n",
    "run shell command to run annovar using the generated file as input\n",
    "\n",
    "Go to folder containing annovar:\n",
    "cd /data/Priyanka/softwares/annovar/\n",
    "\n",
    "command:\n",
    "table_annovar.pl /data/malvika/temp/brca_snp.avinput /data/malvika/humandb/ -buildver hg38 -out brca_anno.hg38_multianno.csv -remove -protocol refGene,cytoBand,exac03,avsnp147,dbnsfp30a -operation gx,r,f,f,f -nastring . -csvout -polish -xref example/gene_xref.txt\n",
    "\n",
    "Copy the resultant file to relevant folder\n",
    "\n"
   ]
  },
  {
   "cell_type": "markdown",
   "metadata": {},
   "source": [
    "## Concatenate the output file from ANNOVAR and maf file\n",
    "Load ANNOVAR output file"
   ]
  },
  {
   "cell_type": "code",
   "execution_count": 41,
   "metadata": {
    "scrolled": true
   },
   "outputs": [
    {
     "name": "stderr",
     "output_type": "stream",
     "text": [
      "C:\\ProgramData\\Anaconda3\\lib\\site-packages\\IPython\\core\\interactiveshell.py:3441: DtypeWarning: Columns (1,2) have mixed types.Specify dtype option on import or set low_memory=False.\n",
      "  exec(code_obj, self.user_global_ns, self.user_ns)\n"
     ]
    }
   ],
   "source": [
    "os.chdir(DATAPATH + \"/GDC_TCGA/SNV\")\n",
    "fname = \"brca_anno.hg38_multiannov.hg38_multianno.csv\"\n",
    "data_anno=pd.read_csv(fname, sep=\",\", comment=\"#\").drop(0).replace(\".\", np.nan).reset_index()"
   ]
  },
  {
   "cell_type": "code",
   "execution_count": 42,
   "metadata": {},
   "outputs": [],
   "source": [
    "data_all = pd.concat([data_snp, data_anno], axis=1)"
   ]
  },
  {
   "cell_type": "markdown",
   "metadata": {},
   "source": [
    "### Discard hypermutated samples"
   ]
  },
  {
   "cell_type": "code",
   "execution_count": 43,
   "metadata": {},
   "outputs": [],
   "source": [
    "max_mut = 2000\n",
    "mut_count = data_all.groupby([\"Tumor_Sample_Barcode\"]).Tumor_Sample_Barcode.count()\n",
    "data_all = data_all[~data_all.Tumor_Sample_Barcode.isin(mut_count[mut_count>2000].index)]"
   ]
  },
  {
   "cell_type": "code",
   "execution_count": 44,
   "metadata": {
    "scrolled": true
   },
   "outputs": [
    {
     "name": "stdout",
     "output_type": "stream",
     "text": [
      "Total number of samples (after filtering) = 984\n"
     ]
    }
   ],
   "source": [
    "print(\"Total number of samples (after filtering) = {}\".format(len(data_all.Tumor_Sample_Barcode.unique())))"
   ]
  },
  {
   "cell_type": "markdown",
   "metadata": {},
   "source": [
    "## Covert the old gene symbols into relevant genes\n",
    "Load hugo to ensemble id file and check for gene symbols not recognised.\n",
    "Take unique list of genes and save to file."
   ]
  },
  {
   "cell_type": "code",
   "execution_count": 45,
   "metadata": {},
   "outputs": [],
   "source": [
    "# Load hugo to ensemble id mapping data\n",
    "os.chdir(\"D:/Projects/data/cTaG2.0\")\n",
    "fname = \"hugo2ensmbl.txt\"\n",
    "data_map = pd.read_csv(fname, sep=\"\\t\", header=0, index_col=1)\n"
   ]
  },
  {
   "cell_type": "code",
   "execution_count": 46,
   "metadata": {},
   "outputs": [],
   "source": [
    "os.chdir(DATAPATH + \"/GDC_TCGA/SNV\")\n",
    "fname = \"convertgenes.txt\"\n",
    "pd.Series(list(set([x for x in data_all.Hugo_Symbol if x not in data_map.index]))).to_csv(fname, index=False, header=False)"
   ]
  },
  {
   "cell_type": "markdown",
   "metadata": {},
   "source": [
    "Use HGNC converter\n",
    "https://www.genenames.org/tools/multi-symbol-checker/\n",
    "If the converter throws error or takes entire gene list as one entry, delete and re-enter first new line in the uploaded genelist and try again.\n",
    "\n",
    "Download the output  as csv and open with notepad and delete first line from output csv file (sep=,).\n",
    "The output file is now ready for use."
   ]
  },
  {
   "cell_type": "code",
   "execution_count": 47,
   "metadata": {},
   "outputs": [],
   "source": [
    "os.chdir(DATAPATH + \"/GDC_TCGA/SNV\")\n",
    "fname = \"hgnc-symbol-check.csv\"\n",
    "gene_map = pd.read_csv(fname, index_col=0, header=0)\n",
    "gene_map = gene_map[gene_map[\"Match type\"] != \"Unmatched\"]"
   ]
  },
  {
   "cell_type": "code",
   "execution_count": 48,
   "metadata": {},
   "outputs": [
    {
     "data": {
      "text/html": [
       "<div>\n",
       "<style scoped>\n",
       "    .dataframe tbody tr th:only-of-type {\n",
       "        vertical-align: middle;\n",
       "    }\n",
       "\n",
       "    .dataframe tbody tr th {\n",
       "        vertical-align: top;\n",
       "    }\n",
       "\n",
       "    .dataframe thead th {\n",
       "        text-align: right;\n",
       "    }\n",
       "</style>\n",
       "<table border=\"1\" class=\"dataframe\">\n",
       "  <thead>\n",
       "    <tr style=\"text-align: right;\">\n",
       "      <th></th>\n",
       "      <th>Match type</th>\n",
       "      <th>Approved symbol</th>\n",
       "      <th>Approved name</th>\n",
       "      <th>HGNC ID</th>\n",
       "      <th>Location</th>\n",
       "    </tr>\n",
       "    <tr>\n",
       "      <th>Input</th>\n",
       "      <th></th>\n",
       "      <th></th>\n",
       "      <th></th>\n",
       "      <th></th>\n",
       "      <th></th>\n",
       "    </tr>\n",
       "  </thead>\n",
       "  <tbody>\n",
       "    <tr>\n",
       "      <th>ERBB2IP</th>\n",
       "      <td>Previous symbol</td>\n",
       "      <td>ERBIN</td>\n",
       "      <td>erbb2 interacting protein</td>\n",
       "      <td>HGNC:15842</td>\n",
       "      <td>5q12.3</td>\n",
       "    </tr>\n",
       "    <tr>\n",
       "      <th>C5orf42</th>\n",
       "      <td>Previous symbol</td>\n",
       "      <td>CPLANE1</td>\n",
       "      <td>ciliogenesis and planar polarity effector 1</td>\n",
       "      <td>HGNC:25801</td>\n",
       "      <td>5p13.2</td>\n",
       "    </tr>\n",
       "    <tr>\n",
       "      <th>C7orf66</th>\n",
       "      <td>Previous symbol</td>\n",
       "      <td>LINC02903</td>\n",
       "      <td>long intergenic non-protein coding RNA 2903</td>\n",
       "      <td>HGNC:33712</td>\n",
       "      <td>7q31.1</td>\n",
       "    </tr>\n",
       "    <tr>\n",
       "      <th>NGFRAP1</th>\n",
       "      <td>Previous symbol</td>\n",
       "      <td>BEX3</td>\n",
       "      <td>brain expressed X-linked 3</td>\n",
       "      <td>HGNC:13388</td>\n",
       "      <td>Xq22.2</td>\n",
       "    </tr>\n",
       "    <tr>\n",
       "      <th>WAPAL</th>\n",
       "      <td>Previous symbol</td>\n",
       "      <td>WAPL</td>\n",
       "      <td>WAPL cohesin release factor</td>\n",
       "      <td>HGNC:23293</td>\n",
       "      <td>10q23.2</td>\n",
       "    </tr>\n",
       "  </tbody>\n",
       "</table>\n",
       "</div>"
      ],
      "text/plain": [
       "              Match type Approved symbol  \\\n",
       "Input                                      \n",
       "ERBB2IP  Previous symbol           ERBIN   \n",
       "C5orf42  Previous symbol         CPLANE1   \n",
       "C7orf66  Previous symbol       LINC02903   \n",
       "NGFRAP1  Previous symbol            BEX3   \n",
       "WAPAL    Previous symbol            WAPL   \n",
       "\n",
       "                                       Approved name     HGNC ID Location  \n",
       "Input                                                                      \n",
       "ERBB2IP                    erbb2 interacting protein  HGNC:15842   5q12.3  \n",
       "C5orf42  ciliogenesis and planar polarity effector 1  HGNC:25801   5p13.2  \n",
       "C7orf66  long intergenic non-protein coding RNA 2903  HGNC:33712   7q31.1  \n",
       "NGFRAP1                   brain expressed X-linked 3  HGNC:13388   Xq22.2  \n",
       "WAPAL                    WAPL cohesin release factor  HGNC:23293  10q23.2  "
      ]
     },
     "execution_count": 48,
     "metadata": {},
     "output_type": "execute_result"
    }
   ],
   "source": [
    "gene_map.head()"
   ]
  },
  {
   "cell_type": "code",
   "execution_count": 49,
   "metadata": {},
   "outputs": [],
   "source": [
    "# Update the gene symbols in dataframe\n",
    "for idx, gene_sym, gene_ensg in zip(data_all.index, data_all[\"Hugo_Symbol\"], data_all[\"Gene\"]):\n",
    "    if gene_sym in gene_map.index:\n",
    "        if type(gene_map.loc[gene_sym, \"Approved symbol\"]) is not str:\n",
    "            data_all.loc[idx, \"Hugo_Symbol\"] = (data_map[data_map[\"Ensembl gene ID\"] == gene_ensg].index[0])\n",
    "        else:\n",
    "            data_all.loc[idx, \"Hugo_Symbol\"] = gene_map.loc[gene_sym, \"Approved symbol\"]\n",
    "        "
   ]
  },
  {
   "cell_type": "code",
   "execution_count": 50,
   "metadata": {},
   "outputs": [
    {
     "data": {
      "text/plain": [
       "375"
      ]
     },
     "execution_count": 50,
     "metadata": {},
     "output_type": "execute_result"
    }
   ],
   "source": [
    "len(set([x for x in data_all.Hugo_Symbol if x not in data_map.index]))"
   ]
  },
  {
   "cell_type": "markdown",
   "metadata": {},
   "source": [
    "### Keep relevant columns"
   ]
  },
  {
   "cell_type": "code",
   "execution_count": 51,
   "metadata": {},
   "outputs": [],
   "source": [
    "cols = ['Hugo_Symbol', \"Gene\", \"Tumor_Sample_Barcode\", \"Chr\", \"Start\", \"End\", \"Ref\",\n",
    "        \"Alt\",'Variant_Classification', 'DOMAINS',\n",
    "        'SIFT_score', 'SIFT_pred', 'Polyphen2_HDIV_score',\n",
    "        'Polyphen2_HDIV_pred', 'Polyphen2_HVAR_score', 'Polyphen2_HVAR_pred',\n",
    "        'LRT_score', 'LRT_pred', 'MutationTaster_score', 'MutationTaster_pred',\n",
    "        'MutationAssessor_score', 'MutationAssessor_pred', 'FATHMM_score',\n",
    "        'FATHMM_pred', 'PROVEAN_score', 'PROVEAN_pred', 'VEST3_score',\n",
    "        'CADD_raw', 'CADD_phred', 'DANN_score', 'fathmm-MKL_coding_score',\n",
    "        'fathmm-MKL_coding_pred', 'MetaSVM_score', 'MetaSVM_pred',\n",
    "        'MetaLR_score', 'MetaLR_pred', 'integrated_fitCons_score',\n",
    "        'integrated_confidence_value', 'GERP++_RS',\n",
    "        'phyloP7way_vertebrate', 'phyloP20way_mammalian',\n",
    "        'phastCons7way_vertebrate', 'phastCons20way_mammalian',\n",
    "        'SiPhy_29way_logOdds']\n",
    "data = data_all[cols]"
   ]
  },
  {
   "cell_type": "markdown",
   "metadata": {},
   "source": [
    "Save file"
   ]
  },
  {
   "cell_type": "code",
   "execution_count": 166,
   "metadata": {},
   "outputs": [],
   "source": [
    "os.chdir(DATAPATH + \"/GDC_TCGA/SNV\")\n",
    "fname=\"brca_snv.tsv\"\n",
    "data.to_csv(fname, sep=\"\\t\", header=True, index=False)"
   ]
  },
  {
   "cell_type": "code",
   "execution_count": 167,
   "metadata": {},
   "outputs": [
    {
     "data": {
      "text/html": [
       "<div>\n",
       "<style scoped>\n",
       "    .dataframe tbody tr th:only-of-type {\n",
       "        vertical-align: middle;\n",
       "    }\n",
       "\n",
       "    .dataframe tbody tr th {\n",
       "        vertical-align: top;\n",
       "    }\n",
       "\n",
       "    .dataframe thead th {\n",
       "        text-align: right;\n",
       "    }\n",
       "</style>\n",
       "<table border=\"1\" class=\"dataframe\">\n",
       "  <thead>\n",
       "    <tr style=\"text-align: right;\">\n",
       "      <th></th>\n",
       "      <th>Hugo_Symbol</th>\n",
       "      <th>Gene</th>\n",
       "      <th>Tumor_Sample_Barcode</th>\n",
       "      <th>Chr</th>\n",
       "      <th>Start</th>\n",
       "      <th>End</th>\n",
       "      <th>Ref</th>\n",
       "      <th>Alt</th>\n",
       "      <th>Variant_Classification</th>\n",
       "      <th>DOMAINS</th>\n",
       "      <th>...</th>\n",
       "      <th>MetaLR_score</th>\n",
       "      <th>MetaLR_pred</th>\n",
       "      <th>integrated_fitCons_score</th>\n",
       "      <th>integrated_confidence_value</th>\n",
       "      <th>GERP++_RS</th>\n",
       "      <th>phyloP7way_vertebrate</th>\n",
       "      <th>phyloP20way_mammalian</th>\n",
       "      <th>phastCons7way_vertebrate</th>\n",
       "      <th>phastCons20way_mammalian</th>\n",
       "      <th>SiPhy_29way_logOdds</th>\n",
       "    </tr>\n",
       "  </thead>\n",
       "  <tbody>\n",
       "    <tr>\n",
       "      <th>0</th>\n",
       "      <td>USP24</td>\n",
       "      <td>ENSG00000162402</td>\n",
       "      <td>TCGA-D8-A1XY-01A-11D-A14K-09</td>\n",
       "      <td>chr1</td>\n",
       "      <td>55159655</td>\n",
       "      <td>55159655</td>\n",
       "      <td>T</td>\n",
       "      <td>C</td>\n",
       "      <td>Missense_Mutation</td>\n",
       "      <td>NaN</td>\n",
       "      <td>...</td>\n",
       "      <td>0.004</td>\n",
       "      <td>T</td>\n",
       "      <td>0.707</td>\n",
       "      <td>0</td>\n",
       "      <td>5.83</td>\n",
       "      <td>0.991</td>\n",
       "      <td>0.964</td>\n",
       "      <td>0.975</td>\n",
       "      <td>0.994</td>\n",
       "      <td>16.214</td>\n",
       "    </tr>\n",
       "    <tr>\n",
       "      <th>1</th>\n",
       "      <td>ERICH3</td>\n",
       "      <td>ENSG00000178965</td>\n",
       "      <td>TCGA-D8-A1XY-01A-11D-A14K-09</td>\n",
       "      <td>chr1</td>\n",
       "      <td>74571494</td>\n",
       "      <td>74571494</td>\n",
       "      <td>C</td>\n",
       "      <td>T</td>\n",
       "      <td>Missense_Mutation</td>\n",
       "      <td>PROSITE_profiles:PS50313</td>\n",
       "      <td>...</td>\n",
       "      <td>0.027</td>\n",
       "      <td>T</td>\n",
       "      <td>0.487</td>\n",
       "      <td>0</td>\n",
       "      <td>4.07</td>\n",
       "      <td>-0.024</td>\n",
       "      <td>0.768</td>\n",
       "      <td>0.002</td>\n",
       "      <td>0.008</td>\n",
       "      <td>11.513</td>\n",
       "    </tr>\n",
       "    <tr>\n",
       "      <th>2</th>\n",
       "      <td>KIF26B</td>\n",
       "      <td>ENSG00000162849</td>\n",
       "      <td>TCGA-D8-A1XY-01A-11D-A14K-09</td>\n",
       "      <td>chr1</td>\n",
       "      <td>245419680</td>\n",
       "      <td>245419680</td>\n",
       "      <td>G</td>\n",
       "      <td>T</td>\n",
       "      <td>Silent</td>\n",
       "      <td>NaN</td>\n",
       "      <td>...</td>\n",
       "      <td>NaN</td>\n",
       "      <td>NaN</td>\n",
       "      <td>NaN</td>\n",
       "      <td>NaN</td>\n",
       "      <td>NaN</td>\n",
       "      <td>NaN</td>\n",
       "      <td>NaN</td>\n",
       "      <td>NaN</td>\n",
       "      <td>NaN</td>\n",
       "      <td>NaN</td>\n",
       "    </tr>\n",
       "    <tr>\n",
       "      <th>3</th>\n",
       "      <td>USP34</td>\n",
       "      <td>ENSG00000115464</td>\n",
       "      <td>TCGA-D8-A1XY-01A-11D-A14K-09</td>\n",
       "      <td>chr2</td>\n",
       "      <td>61189055</td>\n",
       "      <td>61189055</td>\n",
       "      <td>G</td>\n",
       "      <td>C</td>\n",
       "      <td>Silent</td>\n",
       "      <td>Low_complexity_(Seg):Seg</td>\n",
       "      <td>...</td>\n",
       "      <td>NaN</td>\n",
       "      <td>NaN</td>\n",
       "      <td>NaN</td>\n",
       "      <td>NaN</td>\n",
       "      <td>NaN</td>\n",
       "      <td>NaN</td>\n",
       "      <td>NaN</td>\n",
       "      <td>NaN</td>\n",
       "      <td>NaN</td>\n",
       "      <td>NaN</td>\n",
       "    </tr>\n",
       "    <tr>\n",
       "      <th>4</th>\n",
       "      <td>ANTXR1</td>\n",
       "      <td>ENSG00000169604</td>\n",
       "      <td>TCGA-D8-A1XY-01A-11D-A14K-09</td>\n",
       "      <td>chr2</td>\n",
       "      <td>69245305</td>\n",
       "      <td>69245305</td>\n",
       "      <td>G</td>\n",
       "      <td>A</td>\n",
       "      <td>Silent</td>\n",
       "      <td>Low_complexity_(Seg):Seg;Prints_domain:PR01217</td>\n",
       "      <td>...</td>\n",
       "      <td>NaN</td>\n",
       "      <td>NaN</td>\n",
       "      <td>NaN</td>\n",
       "      <td>NaN</td>\n",
       "      <td>NaN</td>\n",
       "      <td>NaN</td>\n",
       "      <td>NaN</td>\n",
       "      <td>NaN</td>\n",
       "      <td>NaN</td>\n",
       "      <td>NaN</td>\n",
       "    </tr>\n",
       "  </tbody>\n",
       "</table>\n",
       "<p>5 rows × 44 columns</p>\n",
       "</div>"
      ],
      "text/plain": [
       "  Hugo_Symbol             Gene          Tumor_Sample_Barcode   Chr      Start  \\\n",
       "0       USP24  ENSG00000162402  TCGA-D8-A1XY-01A-11D-A14K-09  chr1   55159655   \n",
       "1      ERICH3  ENSG00000178965  TCGA-D8-A1XY-01A-11D-A14K-09  chr1   74571494   \n",
       "2      KIF26B  ENSG00000162849  TCGA-D8-A1XY-01A-11D-A14K-09  chr1  245419680   \n",
       "3       USP34  ENSG00000115464  TCGA-D8-A1XY-01A-11D-A14K-09  chr2   61189055   \n",
       "4      ANTXR1  ENSG00000169604  TCGA-D8-A1XY-01A-11D-A14K-09  chr2   69245305   \n",
       "\n",
       "         End Ref Alt Variant_Classification  \\\n",
       "0   55159655   T   C      Missense_Mutation   \n",
       "1   74571494   C   T      Missense_Mutation   \n",
       "2  245419680   G   T                 Silent   \n",
       "3   61189055   G   C                 Silent   \n",
       "4   69245305   G   A                 Silent   \n",
       "\n",
       "                                          DOMAINS  ... MetaLR_score  \\\n",
       "0                                             NaN  ...        0.004   \n",
       "1                        PROSITE_profiles:PS50313  ...        0.027   \n",
       "2                                             NaN  ...          NaN   \n",
       "3                        Low_complexity_(Seg):Seg  ...          NaN   \n",
       "4  Low_complexity_(Seg):Seg;Prints_domain:PR01217  ...          NaN   \n",
       "\n",
       "  MetaLR_pred integrated_fitCons_score integrated_confidence_value GERP++_RS  \\\n",
       "0           T                    0.707                           0      5.83   \n",
       "1           T                    0.487                           0      4.07   \n",
       "2         NaN                      NaN                         NaN       NaN   \n",
       "3         NaN                      NaN                         NaN       NaN   \n",
       "4         NaN                      NaN                         NaN       NaN   \n",
       "\n",
       "  phyloP7way_vertebrate phyloP20way_mammalian phastCons7way_vertebrate  \\\n",
       "0                 0.991                 0.964                    0.975   \n",
       "1                -0.024                 0.768                    0.002   \n",
       "2                   NaN                   NaN                      NaN   \n",
       "3                   NaN                   NaN                      NaN   \n",
       "4                   NaN                   NaN                      NaN   \n",
       "\n",
       "  phastCons20way_mammalian SiPhy_29way_logOdds  \n",
       "0                    0.994              16.214  \n",
       "1                    0.008              11.513  \n",
       "2                      NaN                 NaN  \n",
       "3                      NaN                 NaN  \n",
       "4                      NaN                 NaN  \n",
       "\n",
       "[5 rows x 44 columns]"
      ]
     },
     "execution_count": 167,
     "metadata": {},
     "output_type": "execute_result"
    }
   ],
   "source": [
    "data.head()"
   ]
  },
  {
   "cell_type": "code",
   "execution_count": null,
   "metadata": {},
   "outputs": [],
   "source": []
  }
 ],
 "metadata": {
  "kernelspec": {
   "display_name": "Python 3",
   "language": "python",
   "name": "python3"
  },
  "language_info": {
   "codemirror_mode": {
    "name": "ipython",
    "version": 3
   },
   "file_extension": ".py",
   "mimetype": "text/x-python",
   "name": "python",
   "nbconvert_exporter": "python",
   "pygments_lexer": "ipython3",
   "version": "3.7.4"
  }
 },
 "nbformat": 4,
 "nbformat_minor": 2
}
