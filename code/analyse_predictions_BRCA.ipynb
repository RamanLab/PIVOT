{
 "cells": [
  {
   "cell_type": "markdown",
   "id": "27c1dbe8",
   "metadata": {},
   "source": [
    "# Analyse predictions by cTaG2\n",
    "This notebook is used to analyse predictions made by cTaG2 for BRCA data."
   ]
  },
  {
   "cell_type": "code",
   "execution_count": 50,
   "id": "1a84fee4",
   "metadata": {},
   "outputs": [],
   "source": [
    "import os\n",
    "import pandas as pd\n",
    "import matplotlib.pyplot as plt\n",
    "import seaborn as sns"
   ]
  },
  {
   "cell_type": "markdown",
   "id": "580ff8ae",
   "metadata": {},
   "source": [
    "## Load the prediction file\n",
    "Variables to be updated for loading the prediction file.\n",
    "Either the absolute path is given to *filepath* or set *PATH* and the relative path is set based on cancer type, label method, number of features and model. \n",
    "\n",
    "Default file name is \"cTaG2_predictions.tsv\". For other filenames, update *fname*."
   ]
  },
  {
   "cell_type": "code",
   "execution_count": 51,
   "id": "a55c6f8d",
   "metadata": {},
   "outputs": [],
   "source": [
    "PATH = \"/data/malvika/cTaG2.0\"\n",
    "ctype = \"BRCA\"\n",
    "lab_type = \"bailey\"\n",
    "feat_num = \"some\"\n",
    "model = \"BalBag\"\n",
    "folderpath = \"/output/GDC_{}/predict/multiomic\".format(ctype)\n",
    "\n",
    "filepath = PATH + folderpath + \"/{}_{}_{}\".format(lab_type, feat_num, model)\n",
    "## Uncomment line below to set absolute path\n",
    "# filepath = \"\\path\\to\\prediction\\file\""
   ]
  },
  {
   "cell_type": "code",
   "execution_count": 52,
   "id": "47c09c64",
   "metadata": {},
   "outputs": [],
   "source": [
    "os.chdir(filepath)\n",
    "fname = \"cTaG2_predictions.tsv\"\n",
    "data = pd.read_csv(fname, sep=\"\\t\", header=0, index_col=0)"
   ]
  },
  {
   "cell_type": "code",
   "execution_count": 53,
   "id": "6b6b8040",
   "metadata": {
    "scrolled": true
   },
   "outputs": [
    {
     "data": {
      "text/html": [
       "<div>\n",
       "<style scoped>\n",
       "    .dataframe tbody tr th:only-of-type {\n",
       "        vertical-align: middle;\n",
       "    }\n",
       "\n",
       "    .dataframe tbody tr th {\n",
       "        vertical-align: top;\n",
       "    }\n",
       "\n",
       "    .dataframe thead th {\n",
       "        text-align: right;\n",
       "    }\n",
       "</style>\n",
       "<table border=\"1\" class=\"dataframe\">\n",
       "  <thead>\n",
       "    <tr style=\"text-align: right;\">\n",
       "      <th></th>\n",
       "      <th>Hugo_Symbol</th>\n",
       "      <th>Tumor_Sample_Barcode</th>\n",
       "      <th>Variant_Classification</th>\n",
       "      <th>CNV</th>\n",
       "      <th>logFC</th>\n",
       "      <th>Degree</th>\n",
       "      <th>Closeness_centrality</th>\n",
       "      <th>Betweeness_centrality</th>\n",
       "      <th>Label</th>\n",
       "      <th>Predicted label</th>\n",
       "      <th>Probability_Neutral</th>\n",
       "      <th>Probability_Oncogene</th>\n",
       "      <th>Probability_Tumor suppressor</th>\n",
       "    </tr>\n",
       "  </thead>\n",
       "  <tbody>\n",
       "    <tr>\n",
       "      <th>TCGA-D8-A1XY-01A;FN1</th>\n",
       "      <td>FN1</td>\n",
       "      <td>TCGA-D8-A1XY-01A</td>\n",
       "      <td>Nonsense_Mutation</td>\n",
       "      <td>0.0</td>\n",
       "      <td>0.852032</td>\n",
       "      <td>61.0</td>\n",
       "      <td>0.288869</td>\n",
       "      <td>0.000273</td>\n",
       "      <td>Unlabelled</td>\n",
       "      <td>Tumor suppressor</td>\n",
       "      <td>0.348</td>\n",
       "      <td>0.228</td>\n",
       "      <td>0.424</td>\n",
       "    </tr>\n",
       "    <tr>\n",
       "      <th>TCGA-D8-A1XY-01A;PIK3CA</th>\n",
       "      <td>PIK3CA</td>\n",
       "      <td>TCGA-D8-A1XY-01A</td>\n",
       "      <td>Missense_Mutation</td>\n",
       "      <td>1.0</td>\n",
       "      <td>-1.162809</td>\n",
       "      <td>275.0</td>\n",
       "      <td>0.329559</td>\n",
       "      <td>0.004555</td>\n",
       "      <td>Oncogene</td>\n",
       "      <td>Oncogene</td>\n",
       "      <td>0.000</td>\n",
       "      <td>1.000</td>\n",
       "      <td>0.000</td>\n",
       "    </tr>\n",
       "    <tr>\n",
       "      <th>TCGA-D8-A1XY-01A;CTNNA1</th>\n",
       "      <td>CTNNA1</td>\n",
       "      <td>TCGA-D8-A1XY-01A</td>\n",
       "      <td>Silent</td>\n",
       "      <td>0.0</td>\n",
       "      <td>0.151690</td>\n",
       "      <td>101.0</td>\n",
       "      <td>0.299686</td>\n",
       "      <td>0.001630</td>\n",
       "      <td>Unlabelled</td>\n",
       "      <td>Oncogene</td>\n",
       "      <td>0.018</td>\n",
       "      <td>0.900</td>\n",
       "      <td>0.082</td>\n",
       "    </tr>\n",
       "    <tr>\n",
       "      <th>TCGA-D8-A1XY-01A;MAP2K4</th>\n",
       "      <td>MAP2K4</td>\n",
       "      <td>TCGA-D8-A1XY-01A</td>\n",
       "      <td>Missense_Mutation</td>\n",
       "      <td>0.0</td>\n",
       "      <td>0.069323</td>\n",
       "      <td>74.0</td>\n",
       "      <td>0.293429</td>\n",
       "      <td>0.000449</td>\n",
       "      <td>Tumor suppressor</td>\n",
       "      <td>Tumor suppressor</td>\n",
       "      <td>0.006</td>\n",
       "      <td>0.000</td>\n",
       "      <td>0.994</td>\n",
       "    </tr>\n",
       "    <tr>\n",
       "      <th>TCGA-D8-A1XY-01A;SEC13</th>\n",
       "      <td>SEC13</td>\n",
       "      <td>TCGA-D8-A1XY-01A</td>\n",
       "      <td>NaN</td>\n",
       "      <td>1.0</td>\n",
       "      <td>0.342091</td>\n",
       "      <td>142.0</td>\n",
       "      <td>0.293737</td>\n",
       "      <td>0.003875</td>\n",
       "      <td>Unlabelled</td>\n",
       "      <td>Tumor suppressor</td>\n",
       "      <td>0.150</td>\n",
       "      <td>0.000</td>\n",
       "      <td>0.850</td>\n",
       "    </tr>\n",
       "  </tbody>\n",
       "</table>\n",
       "</div>"
      ],
      "text/plain": [
       "                        Hugo_Symbol Tumor_Sample_Barcode  \\\n",
       "TCGA-D8-A1XY-01A;FN1            FN1     TCGA-D8-A1XY-01A   \n",
       "TCGA-D8-A1XY-01A;PIK3CA      PIK3CA     TCGA-D8-A1XY-01A   \n",
       "TCGA-D8-A1XY-01A;CTNNA1      CTNNA1     TCGA-D8-A1XY-01A   \n",
       "TCGA-D8-A1XY-01A;MAP2K4      MAP2K4     TCGA-D8-A1XY-01A   \n",
       "TCGA-D8-A1XY-01A;SEC13        SEC13     TCGA-D8-A1XY-01A   \n",
       "\n",
       "                        Variant_Classification  CNV     logFC  Degree  \\\n",
       "TCGA-D8-A1XY-01A;FN1         Nonsense_Mutation  0.0  0.852032    61.0   \n",
       "TCGA-D8-A1XY-01A;PIK3CA      Missense_Mutation  1.0 -1.162809   275.0   \n",
       "TCGA-D8-A1XY-01A;CTNNA1                 Silent  0.0  0.151690   101.0   \n",
       "TCGA-D8-A1XY-01A;MAP2K4      Missense_Mutation  0.0  0.069323    74.0   \n",
       "TCGA-D8-A1XY-01A;SEC13                     NaN  1.0  0.342091   142.0   \n",
       "\n",
       "                         Closeness_centrality  Betweeness_centrality  \\\n",
       "TCGA-D8-A1XY-01A;FN1                 0.288869               0.000273   \n",
       "TCGA-D8-A1XY-01A;PIK3CA              0.329559               0.004555   \n",
       "TCGA-D8-A1XY-01A;CTNNA1              0.299686               0.001630   \n",
       "TCGA-D8-A1XY-01A;MAP2K4              0.293429               0.000449   \n",
       "TCGA-D8-A1XY-01A;SEC13               0.293737               0.003875   \n",
       "\n",
       "                                    Label   Predicted label  \\\n",
       "TCGA-D8-A1XY-01A;FN1           Unlabelled  Tumor suppressor   \n",
       "TCGA-D8-A1XY-01A;PIK3CA          Oncogene          Oncogene   \n",
       "TCGA-D8-A1XY-01A;CTNNA1        Unlabelled          Oncogene   \n",
       "TCGA-D8-A1XY-01A;MAP2K4  Tumor suppressor  Tumor suppressor   \n",
       "TCGA-D8-A1XY-01A;SEC13         Unlabelled  Tumor suppressor   \n",
       "\n",
       "                         Probability_Neutral  Probability_Oncogene  \\\n",
       "TCGA-D8-A1XY-01A;FN1                   0.348                 0.228   \n",
       "TCGA-D8-A1XY-01A;PIK3CA                0.000                 1.000   \n",
       "TCGA-D8-A1XY-01A;CTNNA1                0.018                 0.900   \n",
       "TCGA-D8-A1XY-01A;MAP2K4                0.006                 0.000   \n",
       "TCGA-D8-A1XY-01A;SEC13                 0.150                 0.000   \n",
       "\n",
       "                         Probability_Tumor suppressor  \n",
       "TCGA-D8-A1XY-01A;FN1                            0.424  \n",
       "TCGA-D8-A1XY-01A;PIK3CA                         0.000  \n",
       "TCGA-D8-A1XY-01A;CTNNA1                         0.082  \n",
       "TCGA-D8-A1XY-01A;MAP2K4                         0.994  \n",
       "TCGA-D8-A1XY-01A;SEC13                          0.850  "
      ]
     },
     "execution_count": 53,
     "metadata": {},
     "output_type": "execute_result"
    }
   ],
   "source": [
    "data.head(5)"
   ]
  },
  {
   "cell_type": "code",
   "execution_count": 54,
   "id": "60caf372",
   "metadata": {},
   "outputs": [
    {
     "name": "stdout",
     "output_type": "stream",
     "text": [
      "Number of total samples = 963\n"
     ]
    }
   ],
   "source": [
    "print(\"Number of total samples = {}\".format(len(data[\"Tumor_Sample_Barcode\"].unique())))"
   ]
  },
  {
   "cell_type": "code",
   "execution_count": 55,
   "id": "62ae8cc2",
   "metadata": {},
   "outputs": [
    {
     "name": "stdout",
     "output_type": "stream",
     "text": [
      "Total number of unique genes = 1342\n"
     ]
    }
   ],
   "source": [
    "print(\"Total number of unique genes = {}\".format(len(data[\"Hugo_Symbol\"].unique())))"
   ]
  },
  {
   "cell_type": "code",
   "execution_count": 56,
   "id": "dccaeec8",
   "metadata": {},
   "outputs": [
    {
     "name": "stdout",
     "output_type": "stream",
     "text": [
      "Total number of unique TSG = 991\n"
     ]
    }
   ],
   "source": [
    "print(\"Total number of unique TSG = {}\".format(list(data[[\"Hugo_Symbol\", \"Predicted label\"]].drop_duplicates()[\"Predicted label\"]).count(\"Tumor suppressor\")))"
   ]
  },
  {
   "cell_type": "code",
   "execution_count": 57,
   "id": "933b1f21",
   "metadata": {},
   "outputs": [
    {
     "name": "stdout",
     "output_type": "stream",
     "text": [
      "Total number of unique OG = 798\n"
     ]
    }
   ],
   "source": [
    "print(\"Total number of unique OG = {}\".format(list(data[[\"Hugo_Symbol\", \"Predicted label\"]].drop_duplicates()[\"Predicted label\"]).count(\"Oncogene\")))"
   ]
  },
  {
   "cell_type": "code",
   "execution_count": 58,
   "id": "de5903bd",
   "metadata": {},
   "outputs": [
    {
     "data": {
      "text/plain": [
       "447"
      ]
     },
     "execution_count": 58,
     "metadata": {},
     "output_type": "execute_result"
    }
   ],
   "source": [
    "data_unigenes = data[[\"Hugo_Symbol\", \"Predicted label\"]].drop_duplicates()\n",
    "multi_genes = [gene for gene in data_unigenes[\"Hugo_Symbol\"].unique() if data_unigenes[data_unigenes[\"Hugo_Symbol\"]==gene].shape[0]>1] \n",
    "len(multi_genes)"
   ]
  },
  {
   "cell_type": "markdown",
   "id": "07d50a91",
   "metadata": {},
   "source": [
    "## Summary statistics for sample\n",
    "Calculates the total number of genes predicted for each sample along with other counts.\n",
    "\n",
    "Counts the number of genes with mutation, and CNV alterations.\n",
    "Counts number of TSGs and OGs predicted for the sample."
   ]
  },
  {
   "cell_type": "code",
   "execution_count": 59,
   "id": "8d50fae1",
   "metadata": {},
   "outputs": [],
   "source": [
    "data_samp = pd.DataFrame()\n",
    "data_samp[\"Tumor_Sample_Barcode\"] = data[\"Tumor_Sample_Barcode\"].unique()\n",
    "data_samp[\"Num_genes\"] = [data[data[\"Tumor_Sample_Barcode\"] == samp].shape[0] for samp in data_samp[\"Tumor_Sample_Barcode\"]]\n",
    "data_samp[\"Num_mut\"] = [data[(data[\"Tumor_Sample_Barcode\"] == samp) & ~(data[\"Variant_Classification\"].isna())].shape[0] for samp in data_samp[\"Tumor_Sample_Barcode\"]]\n",
    "data_samp[\"Num_cnv\"] = [data[(data[\"Tumor_Sample_Barcode\"] == samp) & ~(data[\"CNV\"] == 0)].shape[0] for samp in data_samp[\"Tumor_Sample_Barcode\"]]\n",
    "data_samp[\"Num_TSG\"] = [data[(data[\"Tumor_Sample_Barcode\"] == samp) & (data[\"Predicted label\"] == \"Tumor suppressor\")].shape[0] for samp in data_samp[\"Tumor_Sample_Barcode\"]]\n",
    "data_samp[\"Num_OG\"] = [data[(data[\"Tumor_Sample_Barcode\"] == samp) & (data[\"Predicted label\"] == \"Oncogene\")].shape[0] for samp in data_samp[\"Tumor_Sample_Barcode\"]]\n"
   ]
  },
  {
   "cell_type": "code",
   "execution_count": 60,
   "id": "c4e1eddf",
   "metadata": {},
   "outputs": [
    {
     "data": {
      "text/html": [
       "<div>\n",
       "<style scoped>\n",
       "    .dataframe tbody tr th:only-of-type {\n",
       "        vertical-align: middle;\n",
       "    }\n",
       "\n",
       "    .dataframe tbody tr th {\n",
       "        vertical-align: top;\n",
       "    }\n",
       "\n",
       "    .dataframe thead th {\n",
       "        text-align: right;\n",
       "    }\n",
       "</style>\n",
       "<table border=\"1\" class=\"dataframe\">\n",
       "  <thead>\n",
       "    <tr style=\"text-align: right;\">\n",
       "      <th></th>\n",
       "      <th>Tumor_Sample_Barcode</th>\n",
       "      <th>Num_genes</th>\n",
       "      <th>Num_mut</th>\n",
       "      <th>Num_cnv</th>\n",
       "      <th>Num_TSG</th>\n",
       "      <th>Num_OG</th>\n",
       "    </tr>\n",
       "  </thead>\n",
       "  <tbody>\n",
       "    <tr>\n",
       "      <th>0</th>\n",
       "      <td>TCGA-D8-A1XY-01A</td>\n",
       "      <td>50</td>\n",
       "      <td>4</td>\n",
       "      <td>47</td>\n",
       "      <td>31</td>\n",
       "      <td>19</td>\n",
       "    </tr>\n",
       "    <tr>\n",
       "      <th>1</th>\n",
       "      <td>TCGA-AO-A0J5-01A</td>\n",
       "      <td>71</td>\n",
       "      <td>3</td>\n",
       "      <td>68</td>\n",
       "      <td>44</td>\n",
       "      <td>27</td>\n",
       "    </tr>\n",
       "    <tr>\n",
       "      <th>2</th>\n",
       "      <td>TCGA-A8-A093-01A</td>\n",
       "      <td>10</td>\n",
       "      <td>9</td>\n",
       "      <td>1</td>\n",
       "      <td>6</td>\n",
       "      <td>4</td>\n",
       "    </tr>\n",
       "    <tr>\n",
       "      <th>3</th>\n",
       "      <td>TCGA-C8-A133-01A</td>\n",
       "      <td>14</td>\n",
       "      <td>6</td>\n",
       "      <td>8</td>\n",
       "      <td>9</td>\n",
       "      <td>5</td>\n",
       "    </tr>\n",
       "    <tr>\n",
       "      <th>4</th>\n",
       "      <td>TCGA-AQ-A54O-01A</td>\n",
       "      <td>34</td>\n",
       "      <td>1</td>\n",
       "      <td>33</td>\n",
       "      <td>15</td>\n",
       "      <td>19</td>\n",
       "    </tr>\n",
       "  </tbody>\n",
       "</table>\n",
       "</div>"
      ],
      "text/plain": [
       "  Tumor_Sample_Barcode  Num_genes  Num_mut  Num_cnv  Num_TSG  Num_OG\n",
       "0     TCGA-D8-A1XY-01A         50        4       47       31      19\n",
       "1     TCGA-AO-A0J5-01A         71        3       68       44      27\n",
       "2     TCGA-A8-A093-01A         10        9        1        6       4\n",
       "3     TCGA-C8-A133-01A         14        6        8        9       5\n",
       "4     TCGA-AQ-A54O-01A         34        1       33       15      19"
      ]
     },
     "execution_count": 60,
     "metadata": {},
     "output_type": "execute_result"
    }
   ],
   "source": [
    "data_samp.head()"
   ]
  },
  {
   "cell_type": "markdown",
   "id": "06209325",
   "metadata": {},
   "source": [
    "### Distribution of number of genes predicted\n",
    "The distribution of number of genes identified for each sample."
   ]
  },
  {
   "cell_type": "code",
   "execution_count": 88,
   "id": "b722f067",
   "metadata": {},
   "outputs": [
    {
     "data": {
      "image/png": "[encoded data removed]",
      "text/plain": [
       "<Figure size 432x288 with 1 Axes>"
      ]
     },
     "metadata": {
      "needs_background": "light"
     },
     "output_type": "display_data"
    }
   ],
   "source": [
    "ax = sns.distplot(data_samp[\"Num_genes\"])\n",
    "# plt.ylim(-0.05, 1)\n",
    "ax.set_xlabel(\"Number of genes predicted\",fontsize=15)\n",
    "ax.set_ylabel(\"Density of samples\",fontsize=15)\n",
    "ax.tick_params(labelsize=14)\n",
    "plt.title(ctype, fontsize=16)\n",
    "plt.tight_layout()\n",
    "\n",
    "# os.chdir(filepath)\n",
    "# fname = \"{}_geneXsamp.png\".format(ctype)\n",
    "# plt.savefig(fname, dpi=300)\n",
    "# plt.close()"
   ]
  },
  {
   "cell_type": "markdown",
   "id": "3efbb6b6",
   "metadata": {},
   "source": [
    "### Distribution of number of mutated genes predicted\n",
    "The distribution of number of genes identified for each sample that were mutated."
   ]
  },
  {
   "cell_type": "code",
   "execution_count": 89,
   "id": "848f293f",
   "metadata": {},
   "outputs": [
    {
     "data": {
      "image/png": "[encoded data removed]",
      "text/plain": [
       "<Figure size 432x288 with 1 Axes>"
      ]
     },
     "metadata": {
      "needs_background": "light"
     },
     "output_type": "display_data"
    }
   ],
   "source": [
    "ax = sns.distplot(data_samp[\"Num_mut\"])\n",
    "ax.set_xlabel(\"Number of mutated genes\",fontsize=15)\n",
    "ax.set_ylabel(\"Density of samples\",fontsize=15)\n",
    "ax.tick_params(labelsize=14)\n",
    "plt.title(ctype, fontsize=16)\n",
    "plt.tight_layout()\n",
    "\n",
    "# os.chdir(filepath)\n",
    "# fname = \"{}_mutXsamp.png\".format(ctype)\n",
    "# plt.savefig(fname, dpi=300)\n",
    "# plt.close()"
   ]
  },
  {
   "cell_type": "markdown",
   "id": "2243e7d2",
   "metadata": {},
   "source": [
    "### Distribution of number of genes predicted with CNVs\n",
    "The distribution of number of genes identified for each sample that showed CNVs."
   ]
  },
  {
   "cell_type": "code",
   "execution_count": 90,
   "id": "372e9604",
   "metadata": {},
   "outputs": [
    {
     "data": {
      "image/png": "[encoded data removed]",
      "text/plain": [
       "<Figure size 432x288 with 1 Axes>"
      ]
     },
     "metadata": {
      "needs_background": "light"
     },
     "output_type": "display_data"
    }
   ],
   "source": [
    "ax = sns.distplot(data_samp[\"Num_cnv\"])\n",
    "ax.set_xlabel(\"Number of CNV\",fontsize=15)\n",
    "ax.set_ylabel(\"Density of samples\",fontsize=15)\n",
    "ax.tick_params(labelsize=14)\n",
    "plt.title(ctype, fontsize=16)\n",
    "plt.tight_layout()\n",
    "\n",
    "# os.chdir(filepath)\n",
    "# fname = \"{}_cnvXsamp.png\".format(ctype)\n",
    "# plt.savefig(fname, dpi=300)\n",
    "# plt.close()"
   ]
  },
  {
   "cell_type": "markdown",
   "id": "132550ca",
   "metadata": {},
   "source": [
    "### Distribution of number of TSGs predicted\n",
    "The distribution of number of genes labelled as TSG for each sample."
   ]
  },
  {
   "cell_type": "code",
   "execution_count": 91,
   "id": "abc6d151",
   "metadata": {},
   "outputs": [
    {
     "data": {
      "image/png": "[encoded data removed]",
      "text/plain": [
       "<Figure size 432x288 with 1 Axes>"
      ]
     },
     "metadata": {
      "needs_background": "light"
     },
     "output_type": "display_data"
    }
   ],
   "source": [
    "ax = sns.distplot(data_samp[\"Num_TSG\"])\n",
    "ax.set_xlabel(\"Number of TSGs\",fontsize=15)\n",
    "ax.set_ylabel(\"Density of samples\",fontsize=15)\n",
    "ax.tick_params(labelsize=14)\n",
    "plt.title(ctype, fontsize=16)\n",
    "plt.tight_layout()\n",
    "\n",
    "# os.chdir(filepath)\n",
    "# fname = \"{}_tsgXsamp.png\".format(ctype)\n",
    "# plt.savefig(fname, dpi=300)\n",
    "# plt.close()"
   ]
  },
  {
   "cell_type": "markdown",
   "id": "712f7982",
   "metadata": {},
   "source": [
    "### Distribution of number of OGs predicted\n",
    "The distribution of number of genes labelled as OG for each sample."
   ]
  },
  {
   "cell_type": "code",
   "execution_count": 92,
   "id": "1ad8aee8",
   "metadata": {},
   "outputs": [
    {
     "data": {
      "image/png": "[encoded data removed]",
      "text/plain": [
       "<Figure size 432x288 with 1 Axes>"
      ]
     },
     "metadata": {
      "needs_background": "light"
     },
     "output_type": "display_data"
    }
   ],
   "source": [
    "ax = sns.distplot(data_samp[\"Num_OG\"])\n",
    "ax.set_xlabel(\"Number of OGs\",fontsize=15)\n",
    "ax.set_ylabel(\"Density of samples\",fontsize=15)\n",
    "ax.tick_params(labelsize=14)\n",
    "plt.title(ctype, fontsize=16)\n",
    "plt.tight_layout()\n",
    "\n",
    "# os.chdir(filepath)\n",
    "# fname = \"{}_ogXsamp.png\".format(ctype)\n",
    "# plt.savefig(fname, dpi=300)\n",
    "# plt.close()"
   ]
  },
  {
   "cell_type": "markdown",
   "id": "d197c1d7",
   "metadata": {},
   "source": [
    "### Distribution of degree of genes predicted\n",
    "The distribution of degree of genes identified for each sample."
   ]
  },
  {
   "cell_type": "code",
   "execution_count": 93,
   "id": "ff37dace",
   "metadata": {},
   "outputs": [
    {
     "data": {
      "image/png": "[encoded data removed]",
      "text/plain": [
       "<Figure size 432x288 with 1 Axes>"
      ]
     },
     "metadata": {
      "needs_background": "light"
     },
     "output_type": "display_data"
    }
   ],
   "source": [
    "ax = sns.distplot(data[\"Degree\"])\n",
    "ax.set_xlabel(\"Degree of a gene\",fontsize=15)\n",
    "ax.set_ylabel(\"Density of samples\",fontsize=15)\n",
    "ax.tick_params(labelsize=14)\n",
    "plt.title(ctype, fontsize=16)\n",
    "plt.tight_layout()\n",
    "\n",
    "# os.chdir(filepath)\n",
    "# fname = \"{}_degreeXsamp.png\".format(ctype)\n",
    "# plt.savefig(fname, dpi=300)\n",
    "# plt.close()"
   ]
  },
  {
   "cell_type": "markdown",
   "id": "1a8ea8b4",
   "metadata": {},
   "source": [
    "## Gene based statistics\n"
   ]
  },
  {
   "cell_type": "code",
   "execution_count": 68,
   "id": "822059ec",
   "metadata": {},
   "outputs": [],
   "source": [
    "data_genes = pd.DataFrame(data.groupby([\"Hugo_Symbol\"])[\"Tumor_Sample_Barcode\"].count())\n",
    "data_genes[\"Degree\"] = data.groupby([\"Hugo_Symbol\"])[\"Degree\"].mean()"
   ]
  },
  {
   "cell_type": "markdown",
   "id": "e852b3b4",
   "metadata": {},
   "source": [
    "### Consensus with CGC\n",
    "Load CGC data and check for consensus"
   ]
  },
  {
   "cell_type": "code",
   "execution_count": 69,
   "id": "3a6205c5",
   "metadata": {},
   "outputs": [],
   "source": [
    "os.chdir(PATH + \"/data/driver genes/CGC\")\n",
    "fname = \"cancer_gene_census_9nov2021.csv\"\n",
    "data_cgc = pd.read_csv(fname, sep=\",\", header=0, index_col=0)\n",
    "data_genes.loc[:, \"CGC\"] = [True if gene in list(data_cgc.index) else False for gene in list(data_genes.index)]"
   ]
  },
  {
   "cell_type": "code",
   "execution_count": 70,
   "id": "d7e13a0a",
   "metadata": {},
   "outputs": [
    {
     "name": "stdout",
     "output_type": "stream",
     "text": [
      "Total number of genes showing consensus with CGC = 228\n"
     ]
    }
   ],
   "source": [
    "print(\"Total number of genes showing consensus with CGC = {}\".format(data_genes[\"CGC\"].sum()))"
   ]
  },
  {
   "cell_type": "markdown",
   "id": "24c5fc97",
   "metadata": {},
   "source": [
    "### Distribution of number of samples a gene is predicted as driver\n",
    "The distribution of number of samples a gene is identified as driver."
   ]
  },
  {
   "cell_type": "code",
   "execution_count": 94,
   "id": "62d42b76",
   "metadata": {},
   "outputs": [
    {
     "data": {
      "text/plain": [
       "<matplotlib.legend.Legend at 0x7fe7f6fa6a90>"
      ]
     },
     "execution_count": 94,
     "metadata": {},
     "output_type": "execute_result"
    },
    {
     "data": {
      "image/png": "[encoded data removed]",
      "text/plain": [
       "<Figure size 432x288 with 1 Axes>"
      ]
     },
     "metadata": {
      "needs_background": "light"
     },
     "output_type": "display_data"
    }
   ],
   "source": [
    "ax = sns.distplot(data_genes[\"Tumor_Sample_Barcode\"], label=\"All genes\")\n",
    "sns.distplot(data_genes[data_genes.CGC ==True][\"Tumor_Sample_Barcode\"], label=\"CGC genes\")\n",
    "sns.distplot(data_genes[data_genes.CGC ==False][\"Tumor_Sample_Barcode\"], label=\"novel genes\")\n",
    "ax.set_xlabel(\"Number of samples\",fontsize=15)\n",
    "ax.set_ylabel(\"Density of genes altered\",fontsize=15)\n",
    "ax.tick_params(labelsize=14)\n",
    "plt.title(ctype, fontsize=16)\n",
    "plt.tight_layout()\n",
    "plt.legend()\n",
    "\n",
    "# os.chdir(filepath)\n",
    "# fname = \"{}_sampXgenes.png\".format(ctype)\n",
    "# plt.savefig(fname, dpi=300)\n",
    "# plt.close()"
   ]
  },
  {
   "cell_type": "markdown",
   "id": "e51dac17",
   "metadata": {},
   "source": [
    "### Top 10 genes frequently predicted\n",
    "The list of genes and the number of samples they are predicted as TSG or OG."
   ]
  },
  {
   "cell_type": "code",
   "execution_count": 72,
   "id": "b3d68c7c",
   "metadata": {},
   "outputs": [
    {
     "data": {
      "text/html": [
       "<div>\n",
       "<style scoped>\n",
       "    .dataframe tbody tr th:only-of-type {\n",
       "        vertical-align: middle;\n",
       "    }\n",
       "\n",
       "    .dataframe tbody tr th {\n",
       "        vertical-align: top;\n",
       "    }\n",
       "\n",
       "    .dataframe thead th {\n",
       "        text-align: right;\n",
       "    }\n",
       "</style>\n",
       "<table border=\"1\" class=\"dataframe\">\n",
       "  <thead>\n",
       "    <tr style=\"text-align: right;\">\n",
       "      <th></th>\n",
       "      <th>Tumor_Sample_Barcode</th>\n",
       "      <th>Degree</th>\n",
       "      <th>CGC</th>\n",
       "    </tr>\n",
       "    <tr>\n",
       "      <th>Hugo_Symbol</th>\n",
       "      <th></th>\n",
       "      <th></th>\n",
       "      <th></th>\n",
       "    </tr>\n",
       "  </thead>\n",
       "  <tbody>\n",
       "    <tr>\n",
       "      <th>PIK3CA</th>\n",
       "      <td>453</td>\n",
       "      <td>275.0</td>\n",
       "      <td>True</td>\n",
       "    </tr>\n",
       "    <tr>\n",
       "      <th>TP53</th>\n",
       "      <td>383</td>\n",
       "      <td>337.0</td>\n",
       "      <td>True</td>\n",
       "    </tr>\n",
       "    <tr>\n",
       "      <th>PRKCA</th>\n",
       "      <td>239</td>\n",
       "      <td>167.0</td>\n",
       "      <td>False</td>\n",
       "    </tr>\n",
       "    <tr>\n",
       "      <th>MYC</th>\n",
       "      <td>235</td>\n",
       "      <td>140.0</td>\n",
       "      <td>True</td>\n",
       "    </tr>\n",
       "    <tr>\n",
       "      <th>GATA3</th>\n",
       "      <td>230</td>\n",
       "      <td>20.0</td>\n",
       "      <td>True</td>\n",
       "    </tr>\n",
       "    <tr>\n",
       "      <th>PSMC5</th>\n",
       "      <td>229</td>\n",
       "      <td>101.0</td>\n",
       "      <td>False</td>\n",
       "    </tr>\n",
       "    <tr>\n",
       "      <th>IKBKB</th>\n",
       "      <td>228</td>\n",
       "      <td>103.0</td>\n",
       "      <td>True</td>\n",
       "    </tr>\n",
       "    <tr>\n",
       "      <th>PSMD12</th>\n",
       "      <td>228</td>\n",
       "      <td>99.0</td>\n",
       "      <td>False</td>\n",
       "    </tr>\n",
       "    <tr>\n",
       "      <th>MAP2K6</th>\n",
       "      <td>226</td>\n",
       "      <td>93.0</td>\n",
       "      <td>False</td>\n",
       "    </tr>\n",
       "    <tr>\n",
       "      <th>RPS6KB1</th>\n",
       "      <td>225</td>\n",
       "      <td>98.0</td>\n",
       "      <td>False</td>\n",
       "    </tr>\n",
       "  </tbody>\n",
       "</table>\n",
       "</div>"
      ],
      "text/plain": [
       "             Tumor_Sample_Barcode  Degree    CGC\n",
       "Hugo_Symbol                                     \n",
       "PIK3CA                        453   275.0   True\n",
       "TP53                          383   337.0   True\n",
       "PRKCA                         239   167.0  False\n",
       "MYC                           235   140.0   True\n",
       "GATA3                         230    20.0   True\n",
       "PSMC5                         229   101.0  False\n",
       "IKBKB                         228   103.0   True\n",
       "PSMD12                        228    99.0  False\n",
       "MAP2K6                        226    93.0  False\n",
       "RPS6KB1                       225    98.0  False"
      ]
     },
     "execution_count": 72,
     "metadata": {},
     "output_type": "execute_result"
    }
   ],
   "source": [
    "data_genes.sort_values(by=[\"Tumor_Sample_Barcode\"], ascending=False)[:10]"
   ]
  },
  {
   "cell_type": "markdown",
   "id": "5979d4cd",
   "metadata": {},
   "source": [
    "### Top 10 genes rarely predicted as driver\n",
    "The list of genes and the number of samples they are predicted as TSG or OG. Random 10 genes are listed below. More genes mutated in one sample may be"
   ]
  },
  {
   "cell_type": "code",
   "execution_count": 73,
   "id": "061f15f2",
   "metadata": {},
   "outputs": [
    {
     "data": {
      "text/html": [
       "<div>\n",
       "<style scoped>\n",
       "    .dataframe tbody tr th:only-of-type {\n",
       "        vertical-align: middle;\n",
       "    }\n",
       "\n",
       "    .dataframe tbody tr th {\n",
       "        vertical-align: top;\n",
       "    }\n",
       "\n",
       "    .dataframe thead th {\n",
       "        text-align: right;\n",
       "    }\n",
       "</style>\n",
       "<table border=\"1\" class=\"dataframe\">\n",
       "  <thead>\n",
       "    <tr style=\"text-align: right;\">\n",
       "      <th></th>\n",
       "      <th>Tumor_Sample_Barcode</th>\n",
       "      <th>Degree</th>\n",
       "      <th>CGC</th>\n",
       "    </tr>\n",
       "    <tr>\n",
       "      <th>Hugo_Symbol</th>\n",
       "      <th></th>\n",
       "      <th></th>\n",
       "      <th></th>\n",
       "    </tr>\n",
       "  </thead>\n",
       "  <tbody>\n",
       "    <tr>\n",
       "      <th>AAAS</th>\n",
       "      <td>1</td>\n",
       "      <td>83.0</td>\n",
       "      <td>False</td>\n",
       "    </tr>\n",
       "    <tr>\n",
       "      <th>EPAS1</th>\n",
       "      <td>1</td>\n",
       "      <td>29.0</td>\n",
       "      <td>True</td>\n",
       "    </tr>\n",
       "    <tr>\n",
       "      <th>PSEN1</th>\n",
       "      <td>1</td>\n",
       "      <td>52.0</td>\n",
       "      <td>False</td>\n",
       "    </tr>\n",
       "    <tr>\n",
       "      <th>PSMA2</th>\n",
       "      <td>1</td>\n",
       "      <td>93.0</td>\n",
       "      <td>False</td>\n",
       "    </tr>\n",
       "    <tr>\n",
       "      <th>PSMD10</th>\n",
       "      <td>1</td>\n",
       "      <td>91.0</td>\n",
       "      <td>False</td>\n",
       "    </tr>\n",
       "    <tr>\n",
       "      <th>ELAVL1</th>\n",
       "      <td>1</td>\n",
       "      <td>16.0</td>\n",
       "      <td>False</td>\n",
       "    </tr>\n",
       "    <tr>\n",
       "      <th>PTGDR</th>\n",
       "      <td>1</td>\n",
       "      <td>20.0</td>\n",
       "      <td>False</td>\n",
       "    </tr>\n",
       "    <tr>\n",
       "      <th>PTK6</th>\n",
       "      <td>1</td>\n",
       "      <td>25.0</td>\n",
       "      <td>True</td>\n",
       "    </tr>\n",
       "    <tr>\n",
       "      <th>PTP4A1</th>\n",
       "      <td>1</td>\n",
       "      <td>13.0</td>\n",
       "      <td>False</td>\n",
       "    </tr>\n",
       "    <tr>\n",
       "      <th>PTPN23</th>\n",
       "      <td>1</td>\n",
       "      <td>23.0</td>\n",
       "      <td>False</td>\n",
       "    </tr>\n",
       "  </tbody>\n",
       "</table>\n",
       "</div>"
      ],
      "text/plain": [
       "             Tumor_Sample_Barcode  Degree    CGC\n",
       "Hugo_Symbol                                     \n",
       "AAAS                            1    83.0  False\n",
       "EPAS1                           1    29.0   True\n",
       "PSEN1                           1    52.0  False\n",
       "PSMA2                           1    93.0  False\n",
       "PSMD10                          1    91.0  False\n",
       "ELAVL1                          1    16.0  False\n",
       "PTGDR                           1    20.0  False\n",
       "PTK6                            1    25.0   True\n",
       "PTP4A1                          1    13.0  False\n",
       "PTPN23                          1    23.0  False"
      ]
     },
     "execution_count": 73,
     "metadata": {},
     "output_type": "execute_result"
    }
   ],
   "source": [
    "data_genes.sort_values(by=[\"Tumor_Sample_Barcode\"], ascending=True)[:10]"
   ]
  },
  {
   "cell_type": "code",
   "execution_count": 95,
   "id": "b405ecb4",
   "metadata": {},
   "outputs": [
    {
     "data": {
      "text/plain": [
       "40"
      ]
     },
     "execution_count": 95,
     "metadata": {},
     "output_type": "execute_result"
    }
   ],
   "source": [
    "data_genes[data_genes.Tumor_Sample_Barcode == 1].CGC.sum()"
   ]
  },
  {
   "cell_type": "code",
   "execution_count": 97,
   "id": "dfabcee7",
   "metadata": {},
   "outputs": [
    {
     "data": {
      "text/plain": [
       "(332, 3)"
      ]
     },
     "execution_count": 97,
     "metadata": {},
     "output_type": "execute_result"
    }
   ],
   "source": [
    "data_genes[data_genes.Tumor_Sample_Barcode == 1].shape"
   ]
  },
  {
   "cell_type": "code",
   "execution_count": null,
   "id": "36517525",
   "metadata": {},
   "outputs": [],
   "source": []
  }
 ],
 "metadata": {
  "kernelspec": {
   "display_name": "Python 3 (ipykernel)",
   "language": "python",
   "name": "python3"
  },
  "language_info": {
   "codemirror_mode": {
    "name": "ipython",
    "version": 3
   },
   "file_extension": ".py",
   "mimetype": "text/x-python",
   "name": "python",
   "nbconvert_exporter": "python",
   "pygments_lexer": "ipython3",
   "version": "3.7.11"
  }
 },
 "nbformat": 4,
 "nbformat_minor": 5
}
