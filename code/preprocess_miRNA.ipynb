{
 "cells": [
  {
   "cell_type": "markdown",
   "metadata": {},
   "source": [
    "# Preprocess miRNA data"
   ]
  },
  {
   "cell_type": "code",
   "execution_count": 1,
   "metadata": {},
   "outputs": [],
   "source": [
    "import os\n",
    "import pandas as pd\n",
    "import glob\n",
    "import re\n",
    "import numpy as np"
   ]
  },
  {
   "cell_type": "markdown",
   "metadata": {},
   "source": [
    "Set the path to save output files (PATH) and folder with data files (DATAPATH)"
   ]
  },
  {
   "cell_type": "code",
   "execution_count": 13,
   "metadata": {},
   "outputs": [],
   "source": [
    "PATH = \"/data/malvika/cTaG2.0\"\n",
    "DATAPATH = \"/data/malvika/data/cTaG2.0\"\n",
    "# PATH = \"D:/Projects/cTaG2.0\"\n",
    "# DATAPATH = \"D:/Projects/data/cTaG2.0\"\n",
    "ctype = \"LUAD\""
   ]
  },
  {
   "cell_type": "markdown",
   "metadata": {},
   "source": [
    "### Uploading the cancer miRNA domain data"
   ]
  },
  {
   "cell_type": "code",
   "execution_count": 14,
   "metadata": {},
   "outputs": [],
   "source": [
    "os.chdir(DATAPATH + \"/miRNA\")\n",
    "fname = \"consensus_miRNA.tsv\"\n",
    "onco_mirna = pd.read_csv(fname, sep=\"\\t\", comment=\"#\", header=0)\n",
    "onco_mirna = onco_mirna[onco_mirna[\"Cancer-type\"] == ctype]"
   ]
  },
  {
   "cell_type": "code",
   "execution_count": 15,
   "metadata": {},
   "outputs": [
    {
     "data": {
      "text/html": [
       "<div>\n",
       "<style scoped>\n",
       "    .dataframe tbody tr th:only-of-type {\n",
       "        vertical-align: middle;\n",
       "    }\n",
       "\n",
       "    .dataframe tbody tr th {\n",
       "        vertical-align: top;\n",
       "    }\n",
       "\n",
       "    .dataframe thead th {\n",
       "        text-align: right;\n",
       "    }\n",
       "</style>\n",
       "<table border=\"1\" class=\"dataframe\">\n",
       "  <thead>\n",
       "    <tr style=\"text-align: right;\">\n",
       "      <th></th>\n",
       "      <th>miRNA</th>\n",
       "      <th>Cancer-type</th>\n",
       "    </tr>\n",
       "  </thead>\n",
       "  <tbody>\n",
       "    <tr>\n",
       "      <th>5</th>\n",
       "      <td>hsa-mir-184</td>\n",
       "      <td>LUAD</td>\n",
       "    </tr>\n",
       "    <tr>\n",
       "      <th>6</th>\n",
       "      <td>hsa-mir-3154</td>\n",
       "      <td>LUAD</td>\n",
       "    </tr>\n",
       "  </tbody>\n",
       "</table>\n",
       "</div>"
      ],
      "text/plain": [
       "          miRNA Cancer-type\n",
       "5   hsa-mir-184        LUAD\n",
       "6  hsa-mir-3154        LUAD"
      ]
     },
     "execution_count": 15,
     "metadata": {},
     "output_type": "execute_result"
    }
   ],
   "source": [
    "onco_mirna.head()"
   ]
  },
  {
   "cell_type": "markdown",
   "metadata": {},
   "source": [
    "### Upload file with aliqoute to sample mapping"
   ]
  },
  {
   "cell_type": "code",
   "execution_count": 16,
   "metadata": {},
   "outputs": [],
   "source": [
    "os.chdir(DATAPATH + \"/GDC_{}/miRNA\".format(ctype))\n",
    "fname = \"gdc_sample_sheet.2021-12-07.tsv\"\n",
    "data_aliq=pd.read_csv(fname, sep=\"\\t\", comment=\"#\", header=0, index_col=1)\n",
    "data_aliq = data_aliq[data_aliq[\"Sample Type\"] == \"Primary Tumor\"]\n",
    "data_aliq.drop_duplicates(subset=[\"Sample ID\"], inplace=True)"
   ]
  },
  {
   "cell_type": "code",
   "execution_count": 17,
   "metadata": {
    "scrolled": true
   },
   "outputs": [
    {
     "data": {
      "text/html": [
       "<div>\n",
       "<style scoped>\n",
       "    .dataframe tbody tr th:only-of-type {\n",
       "        vertical-align: middle;\n",
       "    }\n",
       "\n",
       "    .dataframe tbody tr th {\n",
       "        vertical-align: top;\n",
       "    }\n",
       "\n",
       "    .dataframe thead th {\n",
       "        text-align: right;\n",
       "    }\n",
       "</style>\n",
       "<table border=\"1\" class=\"dataframe\">\n",
       "  <thead>\n",
       "    <tr style=\"text-align: right;\">\n",
       "      <th></th>\n",
       "      <th>File ID</th>\n",
       "      <th>Data Category</th>\n",
       "      <th>Data Type</th>\n",
       "      <th>Project ID</th>\n",
       "      <th>Case ID</th>\n",
       "      <th>Sample ID</th>\n",
       "      <th>Sample Type</th>\n",
       "    </tr>\n",
       "    <tr>\n",
       "      <th>File Name</th>\n",
       "      <th></th>\n",
       "      <th></th>\n",
       "      <th></th>\n",
       "      <th></th>\n",
       "      <th></th>\n",
       "      <th></th>\n",
       "      <th></th>\n",
       "    </tr>\n",
       "  </thead>\n",
       "  <tbody>\n",
       "    <tr>\n",
       "      <th>28aeff63-ff53-417c-868c-156b9ee973c9.mirbase21.mirnas.quantification.txt</th>\n",
       "      <td>c1de89ed-d37c-4d19-9f04-579905c81120</td>\n",
       "      <td>Transcriptome Profiling</td>\n",
       "      <td>miRNA Expression Quantification</td>\n",
       "      <td>TCGA-LUAD</td>\n",
       "      <td>TCGA-44-7672</td>\n",
       "      <td>TCGA-44-7672-01A</td>\n",
       "      <td>Primary Tumor</td>\n",
       "    </tr>\n",
       "    <tr>\n",
       "      <th>736f7d76-a7af-4d67-be9c-d7f94d568474.mirbase21.mirnas.quantification.txt</th>\n",
       "      <td>c678f47f-3de5-495f-9a5d-ca0436288a71</td>\n",
       "      <td>Transcriptome Profiling</td>\n",
       "      <td>miRNA Expression Quantification</td>\n",
       "      <td>TCGA-LUAD</td>\n",
       "      <td>TCGA-50-5072</td>\n",
       "      <td>TCGA-50-5072-01A</td>\n",
       "      <td>Primary Tumor</td>\n",
       "    </tr>\n",
       "    <tr>\n",
       "      <th>3efaf7a3-ffcb-42d1-bd80-ebb7cf87b2a5.mirbase21.mirnas.quantification.txt</th>\n",
       "      <td>c298ebea-5856-4622-bcdf-45c149d37a0b</td>\n",
       "      <td>Transcriptome Profiling</td>\n",
       "      <td>miRNA Expression Quantification</td>\n",
       "      <td>TCGA-LUAD</td>\n",
       "      <td>TCGA-05-4425</td>\n",
       "      <td>TCGA-05-4425-01A</td>\n",
       "      <td>Primary Tumor</td>\n",
       "    </tr>\n",
       "    <tr>\n",
       "      <th>089c5bc7-08b0-47c9-8ddd-e3c006e6b063.mirbase21.mirnas.quantification.txt</th>\n",
       "      <td>3eac86e8-3bb1-4ef2-8979-557afa68662f</td>\n",
       "      <td>Transcriptome Profiling</td>\n",
       "      <td>miRNA Expression Quantification</td>\n",
       "      <td>TCGA-LUAD</td>\n",
       "      <td>TCGA-69-A59K</td>\n",
       "      <td>TCGA-69-A59K-01A</td>\n",
       "      <td>Primary Tumor</td>\n",
       "    </tr>\n",
       "    <tr>\n",
       "      <th>79a1f665-4862-411c-a7f1-d43310707b39.mirbase21.mirnas.quantification.txt</th>\n",
       "      <td>0f6fd768-d21c-4be7-94bf-beb60f021c22</td>\n",
       "      <td>Transcriptome Profiling</td>\n",
       "      <td>miRNA Expression Quantification</td>\n",
       "      <td>TCGA-LUAD</td>\n",
       "      <td>TCGA-69-7761</td>\n",
       "      <td>TCGA-69-7761-01A</td>\n",
       "      <td>Primary Tumor</td>\n",
       "    </tr>\n",
       "  </tbody>\n",
       "</table>\n",
       "</div>"
      ],
      "text/plain": [
       "                                                                                 File ID  \\\n",
       "File Name                                                                                  \n",
       "28aeff63-ff53-417c-868c-156b9ee973c9.mirbase21....  c1de89ed-d37c-4d19-9f04-579905c81120   \n",
       "736f7d76-a7af-4d67-be9c-d7f94d568474.mirbase21....  c678f47f-3de5-495f-9a5d-ca0436288a71   \n",
       "3efaf7a3-ffcb-42d1-bd80-ebb7cf87b2a5.mirbase21....  c298ebea-5856-4622-bcdf-45c149d37a0b   \n",
       "089c5bc7-08b0-47c9-8ddd-e3c006e6b063.mirbase21....  3eac86e8-3bb1-4ef2-8979-557afa68662f   \n",
       "79a1f665-4862-411c-a7f1-d43310707b39.mirbase21....  0f6fd768-d21c-4be7-94bf-beb60f021c22   \n",
       "\n",
       "                                                              Data Category  \\\n",
       "File Name                                                                     \n",
       "28aeff63-ff53-417c-868c-156b9ee973c9.mirbase21....  Transcriptome Profiling   \n",
       "736f7d76-a7af-4d67-be9c-d7f94d568474.mirbase21....  Transcriptome Profiling   \n",
       "3efaf7a3-ffcb-42d1-bd80-ebb7cf87b2a5.mirbase21....  Transcriptome Profiling   \n",
       "089c5bc7-08b0-47c9-8ddd-e3c006e6b063.mirbase21....  Transcriptome Profiling   \n",
       "79a1f665-4862-411c-a7f1-d43310707b39.mirbase21....  Transcriptome Profiling   \n",
       "\n",
       "                                                                          Data Type  \\\n",
       "File Name                                                                             \n",
       "28aeff63-ff53-417c-868c-156b9ee973c9.mirbase21....  miRNA Expression Quantification   \n",
       "736f7d76-a7af-4d67-be9c-d7f94d568474.mirbase21....  miRNA Expression Quantification   \n",
       "3efaf7a3-ffcb-42d1-bd80-ebb7cf87b2a5.mirbase21....  miRNA Expression Quantification   \n",
       "089c5bc7-08b0-47c9-8ddd-e3c006e6b063.mirbase21....  miRNA Expression Quantification   \n",
       "79a1f665-4862-411c-a7f1-d43310707b39.mirbase21....  miRNA Expression Quantification   \n",
       "\n",
       "                                                   Project ID       Case ID  \\\n",
       "File Name                                                                     \n",
       "28aeff63-ff53-417c-868c-156b9ee973c9.mirbase21....  TCGA-LUAD  TCGA-44-7672   \n",
       "736f7d76-a7af-4d67-be9c-d7f94d568474.mirbase21....  TCGA-LUAD  TCGA-50-5072   \n",
       "3efaf7a3-ffcb-42d1-bd80-ebb7cf87b2a5.mirbase21....  TCGA-LUAD  TCGA-05-4425   \n",
       "089c5bc7-08b0-47c9-8ddd-e3c006e6b063.mirbase21....  TCGA-LUAD  TCGA-69-A59K   \n",
       "79a1f665-4862-411c-a7f1-d43310707b39.mirbase21....  TCGA-LUAD  TCGA-69-7761   \n",
       "\n",
       "                                                           Sample ID  \\\n",
       "File Name                                                              \n",
       "28aeff63-ff53-417c-868c-156b9ee973c9.mirbase21....  TCGA-44-7672-01A   \n",
       "736f7d76-a7af-4d67-be9c-d7f94d568474.mirbase21....  TCGA-50-5072-01A   \n",
       "3efaf7a3-ffcb-42d1-bd80-ebb7cf87b2a5.mirbase21....  TCGA-05-4425-01A   \n",
       "089c5bc7-08b0-47c9-8ddd-e3c006e6b063.mirbase21....  TCGA-69-A59K-01A   \n",
       "79a1f665-4862-411c-a7f1-d43310707b39.mirbase21....  TCGA-69-7761-01A   \n",
       "\n",
       "                                                      Sample Type  \n",
       "File Name                                                          \n",
       "28aeff63-ff53-417c-868c-156b9ee973c9.mirbase21....  Primary Tumor  \n",
       "736f7d76-a7af-4d67-be9c-d7f94d568474.mirbase21....  Primary Tumor  \n",
       "3efaf7a3-ffcb-42d1-bd80-ebb7cf87b2a5.mirbase21....  Primary Tumor  \n",
       "089c5bc7-08b0-47c9-8ddd-e3c006e6b063.mirbase21....  Primary Tumor  \n",
       "79a1f665-4862-411c-a7f1-d43310707b39.mirbase21....  Primary Tumor  "
      ]
     },
     "execution_count": 17,
     "metadata": {},
     "output_type": "execute_result"
    }
   ],
   "source": [
    "data_aliq.head()"
   ]
  },
  {
   "cell_type": "markdown",
   "metadata": {},
   "source": [
    "### Load miRNA data"
   ]
  },
  {
   "cell_type": "code",
   "execution_count": 18,
   "metadata": {},
   "outputs": [
    {
     "name": "stdout",
     "output_type": "stream",
     "text": [
      "CPU times: user 2.16 s, sys: 108 ms, total: 2.26 s\n",
      "Wall time: 2.26 s\n"
     ]
    }
   ],
   "source": [
    "%%time\n",
    "os.chdir(DATAPATH + \"/GDC_{}/miRNA\".format(ctype))\n",
    "data = [None] * len(glob.glob(\"*/*.mirnas.quantification.txt\"))\n",
    "for idx, file in enumerate(glob.glob(\"*/*.mirnas.quantification.txt\")):\n",
    "    if file.split(\"/\")[1] in data_aliq.index:\n",
    "        temp = pd.read_csv(file, sep=\"\\t\", comment=\"#\", header=0)\n",
    "        temp[\"Sample ID\"] = [data_aliq.loc[file.split(\"/\")[1], \"Sample ID\"]] * len(temp)\n",
    "        data[idx] = temp[temp[\"miRNA_ID\"].isin(onco_mirna.miRNA)]"
   ]
  },
  {
   "cell_type": "code",
   "execution_count": 19,
   "metadata": {},
   "outputs": [
    {
     "name": "stdout",
     "output_type": "stream",
     "text": [
      "CPU times: user 173 ms, sys: 8 ms, total: 181 ms\n",
      "Wall time: 178 ms\n"
     ]
    }
   ],
   "source": [
    "%%time\n",
    "data = pd.concat(data)"
   ]
  },
  {
   "cell_type": "markdown",
   "metadata": {},
   "source": [
    "Save file"
   ]
  },
  {
   "cell_type": "code",
   "execution_count": 20,
   "metadata": {},
   "outputs": [],
   "source": [
    "os.chdir(PATH + \"/data/GDC_{}/miRNA\".format(ctype))\n",
    "fname=\"{}_miRNA.tsv\".format(ctype)\n",
    "data.to_csv(fname, sep=\"\\t\", header=True, index=False)"
   ]
  },
  {
   "cell_type": "code",
   "execution_count": 21,
   "metadata": {},
   "outputs": [
    {
     "data": {
      "text/html": [
       "<div>\n",
       "<style scoped>\n",
       "    .dataframe tbody tr th:only-of-type {\n",
       "        vertical-align: middle;\n",
       "    }\n",
       "\n",
       "    .dataframe tbody tr th {\n",
       "        vertical-align: top;\n",
       "    }\n",
       "\n",
       "    .dataframe thead th {\n",
       "        text-align: right;\n",
       "    }\n",
       "</style>\n",
       "<table border=\"1\" class=\"dataframe\">\n",
       "  <thead>\n",
       "    <tr style=\"text-align: right;\">\n",
       "      <th></th>\n",
       "      <th>miRNA_ID</th>\n",
       "      <th>read_count</th>\n",
       "      <th>reads_per_million_miRNA_mapped</th>\n",
       "      <th>cross-mapped</th>\n",
       "      <th>Sample ID</th>\n",
       "    </tr>\n",
       "  </thead>\n",
       "  <tbody>\n",
       "    <tr>\n",
       "      <th>230</th>\n",
       "      <td>hsa-mir-184</td>\n",
       "      <td>1</td>\n",
       "      <td>0.387757</td>\n",
       "      <td>N</td>\n",
       "      <td>TCGA-44-3919-01A</td>\n",
       "    </tr>\n",
       "    <tr>\n",
       "      <th>406</th>\n",
       "      <td>hsa-mir-3154</td>\n",
       "      <td>0</td>\n",
       "      <td>0.000000</td>\n",
       "      <td>N</td>\n",
       "      <td>TCGA-44-3919-01A</td>\n",
       "    </tr>\n",
       "    <tr>\n",
       "      <th>230</th>\n",
       "      <td>hsa-mir-184</td>\n",
       "      <td>3</td>\n",
       "      <td>0.610196</td>\n",
       "      <td>N</td>\n",
       "      <td>TCGA-L9-A8F4-01A</td>\n",
       "    </tr>\n",
       "    <tr>\n",
       "      <th>406</th>\n",
       "      <td>hsa-mir-3154</td>\n",
       "      <td>0</td>\n",
       "      <td>0.000000</td>\n",
       "      <td>N</td>\n",
       "      <td>TCGA-L9-A8F4-01A</td>\n",
       "    </tr>\n",
       "    <tr>\n",
       "      <th>230</th>\n",
       "      <td>hsa-mir-184</td>\n",
       "      <td>29</td>\n",
       "      <td>4.526039</td>\n",
       "      <td>N</td>\n",
       "      <td>TCGA-97-A4M6-01A</td>\n",
       "    </tr>\n",
       "  </tbody>\n",
       "</table>\n",
       "</div>"
      ],
      "text/plain": [
       "         miRNA_ID  read_count  reads_per_million_miRNA_mapped cross-mapped  \\\n",
       "230   hsa-mir-184           1                        0.387757            N   \n",
       "406  hsa-mir-3154           0                        0.000000            N   \n",
       "230   hsa-mir-184           3                        0.610196            N   \n",
       "406  hsa-mir-3154           0                        0.000000            N   \n",
       "230   hsa-mir-184          29                        4.526039            N   \n",
       "\n",
       "            Sample ID  \n",
       "230  TCGA-44-3919-01A  \n",
       "406  TCGA-44-3919-01A  \n",
       "230  TCGA-L9-A8F4-01A  \n",
       "406  TCGA-L9-A8F4-01A  \n",
       "230  TCGA-97-A4M6-01A  "
      ]
     },
     "execution_count": 21,
     "metadata": {},
     "output_type": "execute_result"
    }
   ],
   "source": [
    "data.head()"
   ]
  },
  {
   "cell_type": "code",
   "execution_count": 22,
   "metadata": {},
   "outputs": [
    {
     "data": {
      "text/plain": [
       "(1032, 5)"
      ]
     },
     "execution_count": 22,
     "metadata": {},
     "output_type": "execute_result"
    }
   ],
   "source": [
    "data.shape"
   ]
  },
  {
   "cell_type": "code",
   "execution_count": null,
   "metadata": {},
   "outputs": [],
   "source": []
  }
 ],
 "metadata": {
  "kernelspec": {
   "display_name": "Python 3 (ipykernel)",
   "language": "python",
   "name": "python3"
  },
  "language_info": {
   "codemirror_mode": {
    "name": "ipython",
    "version": 3
   },
   "file_extension": ".py",
   "mimetype": "text/x-python",
   "name": "python",
   "nbconvert_exporter": "python",
   "pygments_lexer": "ipython3",
   "version": "3.7.11"
  }
 },
 "nbformat": 4,
 "nbformat_minor": 2
}
